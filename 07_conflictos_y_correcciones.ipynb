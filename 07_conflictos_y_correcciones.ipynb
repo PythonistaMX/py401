{
 "cells": [
  {
   "cell_type": "markdown",
   "metadata": {},
   "source": [
    "<a href=\"https://pythonista.io\"> <img src=\"img/pythonista.png\" width=\"100px\"></a>"
   ]
  },
  {
   "cell_type": "markdown",
   "metadata": {},
   "source": [
    "# Conflictos y correcciones."
   ]
  },
  {
   "cell_type": "markdown",
   "metadata": {},
   "source": [
    "## Preliminares:\n",
    "\n",
    "Para este capítulo se utilizará una versión creada previamente del directorio ```demo``` que incluye los ejercicios de los capítulos previos. "
   ]
  },
  {
   "cell_type": "code",
   "execution_count": 1,
   "metadata": {},
   "outputs": [
    {
     "name": "stdout",
     "output_type": "stream",
     "text": [
      "Archive:  src/07/demo.zip\n",
      " extracting: prueba/archivo-2        \n",
      " extracting: prueba/archivo-1        \n",
      "   creating: prueba/.git/\n",
      "  inflating: prueba/.git/index       \n",
      "   creating: prueba/.git/refs/\n",
      "   creating: prueba/.git/refs/heads/\n",
      "  inflating: prueba/.git/refs/heads/master  \n",
      " extracting: prueba/.git/refs/heads/restituida  \n",
      " extracting: prueba/.git/refs/heads/nueva  \n",
      "   creating: prueba/.git/refs/tags/\n",
      "  inflating: prueba/.git/description  \n",
      "   creating: prueba/.git/info/\n",
      "  inflating: prueba/.git/info/exclude  \n",
      " extracting: prueba/.git/ORIG_HEAD   \n",
      " extracting: prueba/.git/COMMIT_EDITMSG  \n",
      "   creating: prueba/.git/objects/\n",
      "   creating: prueba/.git/objects/90/\n",
      " extracting: prueba/.git/objects/90/a8b80bbb845cb1187852777769937a9574e3ab  \n",
      "   creating: prueba/.git/objects/ed/\n",
      " extracting: prueba/.git/objects/ed/7d117fc8970b297653c23ebc41936cc4ab4472  \n",
      "   creating: prueba/.git/objects/pack/\n",
      "   creating: prueba/.git/objects/cb/\n",
      " extracting: prueba/.git/objects/cb/0b6bb3a84bc6fcd0f6a0f87909bf68f298e21a  \n",
      "   creating: prueba/.git/objects/2c/\n",
      " extracting: prueba/.git/objects/2c/b76ef80c41c0037c6a82092737cba6061c7083  \n",
      "   creating: prueba/.git/objects/info/\n",
      "   creating: prueba/.git/objects/e6/\n",
      " extracting: prueba/.git/objects/e6/9de29bb2d1d6434b8b29ae775ad8c2e48c5391  \n",
      "   creating: prueba/.git/objects/a1/\n",
      " extracting: prueba/.git/objects/a1/9abfea0f29b668c91c58c834b8965e6c37804f  \n",
      "   creating: prueba/.git/objects/dc/\n",
      " extracting: prueba/.git/objects/dc/d3ac8c60d63186964b45f87cc4416e6caefa5f  \n",
      "   creating: prueba/.git/objects/78/\n",
      " extracting: prueba/.git/objects/78/8564428c6076630b22efc89ad20c5f63ee9bf1  \n",
      "   creating: prueba/.git/objects/ba/\n",
      " extracting: prueba/.git/objects/ba/397e8f7c51f8dfdefa12250933811042df91a2  \n",
      "   creating: prueba/.git/objects/ff/\n",
      " extracting: prueba/.git/objects/ff/7ede1f3ce0201ae532684bbee157247c3a88b7  \n",
      "   creating: prueba/.git/objects/ac/\n",
      " extracting: prueba/.git/objects/ac/9103394fb02ee49adb4c05e2125174707fbb7d  \n",
      "   creating: prueba/.git/objects/1f/\n",
      " extracting: prueba/.git/objects/1f/1f5adbb5e6ff2e2ff651e352f21df0417defb2  \n",
      "   creating: prueba/.git/objects/08/\n",
      " extracting: prueba/.git/objects/08/34a0b252e02bc28bae34588e01f410ad771884  \n",
      "   creating: prueba/.git/objects/d7/\n",
      " extracting: prueba/.git/objects/d7/f0e7ba5cf079cdea1d7c8792e1432161f082c1  \n",
      "   creating: prueba/.git/objects/46/\n",
      " extracting: prueba/.git/objects/46/c8014e29a665bd0e883c9008ad4412f8933809  \n",
      "   creating: prueba/.git/objects/df/\n",
      " extracting: prueba/.git/objects/df/8a330f084618bdb823d99a6997d7be4b9efd15  \n",
      "   creating: prueba/.git/objects/b3/\n",
      " extracting: prueba/.git/objects/b3/890082fec489a5ecff76db4fd36cc10d4bc8d6  \n",
      "   creating: prueba/.git/branches/\n",
      "   creating: prueba/.git/logs/\n",
      "   creating: prueba/.git/logs/refs/\n",
      "   creating: prueba/.git/logs/refs/heads/\n",
      "  inflating: prueba/.git/logs/refs/heads/master  \n",
      "  inflating: prueba/.git/logs/refs/heads/restituida  \n",
      "  inflating: prueba/.git/logs/refs/heads/nueva  \n",
      "  inflating: prueba/.git/logs/HEAD   \n",
      " extracting: prueba/.git/HEAD        \n",
      "  inflating: prueba/.git/config      \n",
      "   creating: prueba/.git/hooks/\n",
      "  inflating: prueba/.git/hooks/post-update.sample  \n",
      "  inflating: prueba/.git/hooks/commit-msg.sample  \n",
      "  inflating: prueba/.git/hooks/pre-receive.sample  \n",
      "  inflating: prueba/.git/hooks/update.sample  \n",
      "  inflating: prueba/.git/hooks/pre-push.sample  \n",
      "  inflating: prueba/.git/hooks/fsmonitor-watchman.sample  \n",
      "  inflating: prueba/.git/hooks/prepare-commit-msg.sample  \n",
      "  inflating: prueba/.git/hooks/pre-applypatch.sample  \n",
      "  inflating: prueba/.git/hooks/pre-rebase.sample  \n",
      "  inflating: prueba/.git/hooks/applypatch-msg.sample  \n",
      "  inflating: prueba/.git/hooks/pre-commit.sample  \n",
      " extracting: prueba/invisible        \n",
      " extracting: prueba/.gitignore       \n"
     ]
    }
   ],
   "source": [
    "unzip src/07/demo.zip -d prueba"
   ]
  },
  {
   "cell_type": "code",
   "execution_count": null,
   "metadata": {},
   "outputs": [],
   "source": [
    "cd prueba"
   ]
  },
  {
   "cell_type": "code",
   "execution_count": null,
   "metadata": {},
   "outputs": [],
   "source": [
    "git branch"
   ]
  },
  {
   "cell_type": "code",
   "execution_count": null,
   "metadata": {},
   "outputs": [],
   "source": [
    "git log"
   ]
  },
  {
   "cell_type": "code",
   "execution_count": null,
   "metadata": {},
   "outputs": [],
   "source": [
    "git log master"
   ]
  },
  {
   "cell_type": "markdown",
   "metadata": {},
   "source": [
    "## Los objetos de árbol (*tree-ish*)."
   ]
  },
  {
   "cell_type": "markdown",
   "metadata": {},
   "source": [
    "### Los 3 árboles de Git.\n",
    "\n",
    "\n",
    "* El sistema de archivos actual o árbol de trabajo.\n",
    "* El área de preparación (staging area).\n",
    "* El repositorio en el cual se registran los commits."
   ]
  },
  {
   "cell_type": "markdown",
   "metadata": {},
   "source": [
    "## El comando ```git clean```.\n",
    "\n",
    "El comando ```git clean``` permite eliminar del árbol de trabajo a aquellos archivos que no están en estado de seguimiento.\n",
    "\n",
    "``` bash\n",
    "git clean <opciones> <ruta>\n",
    "```\n",
    "\n",
    "Donde:\n",
    "\n",
    "* ```<opciones>``` son las opciones aplicables.\n",
    "* ```<ruta>``` es la ruta o patrón de los archivos a  afectar con este comando.\n",
    "\n",
    "En caso de ejecutar el comando ```git clean``` sin opciones, se producirá un error. "
   ]
  },
  {
   "cell_type": "markdown",
   "metadata": {},
   "source": [
    "### La opción ```-f```.\n",
    "\n",
    "La opción ```-f``` le indica al comando ```git clean```que ejecute la acción forzosamente. En realidad, se utuliza como un \"seguro\", ya que en caso de uno ingresar dicha opción, se produciría un error."
   ]
  },
  {
   "cell_type": "markdown",
   "metadata": {},
   "source": [
    "**Ejemplo:**"
   ]
  },
  {
   "cell_type": "code",
   "execution_count": 2,
   "metadata": {},
   "outputs": [],
   "source": [
    "echo \"Texto ilustrativo\" > seguido"
   ]
  },
  {
   "cell_type": "code",
   "execution_count": 3,
   "metadata": {},
   "outputs": [],
   "source": [
    "touch indeseable"
   ]
  },
  {
   "cell_type": "code",
   "execution_count": 4,
   "metadata": {},
   "outputs": [
    {
     "name": "stdout",
     "output_type": "stream",
     "text": [
      "On branch master\n",
      "Your branch is up to date with 'origin/master'.\n",
      "\n",
      "Changes not staged for commit:\n",
      "  (use \"git add/rm <file>...\" to update what will be committed)\n",
      "  (use \"git checkout -- <file>...\" to discard changes in working directory)\n",
      "\n",
      "\tmodified:   07_conflictos_y_correcciones.ipynb\n",
      "\tdeleted:    21_introduccion_a_cd_ci.ipynb\n",
      "\n",
      "Untracked files:\n",
      "  (use \"git add <file>...\" to include in what will be committed)\n",
      "\n",
      "\t21_introduccion_a_ci_cd.ipynb\n",
      "\tindeseable\n",
      "\tseguido\n",
      "\n",
      "no changes added to commit (use \"git add\" and/or \"git commit -a\")\n"
     ]
    }
   ],
   "source": [
    "git status"
   ]
  },
  {
   "cell_type": "code",
   "execution_count": 5,
   "metadata": {},
   "outputs": [],
   "source": [
    "git add seguido"
   ]
  },
  {
   "cell_type": "code",
   "execution_count": 6,
   "metadata": {},
   "outputs": [
    {
     "name": "stdout",
     "output_type": "stream",
     "text": [
      "On branch master\n",
      "Your branch is up to date with 'origin/master'.\n",
      "\n",
      "Changes to be committed:\n",
      "  (use \"git reset HEAD <file>...\" to unstage)\n",
      "\n",
      "\tnew file:   seguido\n",
      "\n",
      "Changes not staged for commit:\n",
      "  (use \"git add/rm <file>...\" to update what will be committed)\n",
      "  (use \"git checkout -- <file>...\" to discard changes in working directory)\n",
      "\n",
      "\tmodified:   07_conflictos_y_correcciones.ipynb\n",
      "\tdeleted:    21_introduccion_a_cd_ci.ipynb\n",
      "\n",
      "Untracked files:\n",
      "  (use \"git add <file>...\" to include in what will be committed)\n",
      "\n",
      "\t21_introduccion_a_ci_cd.ipynb\n",
      "\tindeseable\n",
      "\n"
     ]
    }
   ],
   "source": [
    "git status"
   ]
  },
  {
   "cell_type": "code",
   "execution_count": 7,
   "metadata": {},
   "outputs": [
    {
     "name": "stdout",
     "output_type": "stream",
     "text": [
      "fatal: clean.requireForce defaults to true and neither -i, -n, nor -f given; refusing to clean\n"
     ]
    },
    {
     "ename": "",
     "evalue": "128",
     "output_type": "error",
     "traceback": []
    }
   ],
   "source": [
    "git clean"
   ]
  },
  {
   "cell_type": "code",
   "execution_count": 8,
   "metadata": {},
   "outputs": [
    {
     "name": "stdout",
     "output_type": "stream",
     "text": [
      "Removing 21_introduccion_a_ci_cd.ipynb\n",
      "Removing indeseable\n"
     ]
    }
   ],
   "source": [
    "git clean -f"
   ]
  },
  {
   "cell_type": "code",
   "execution_count": 9,
   "metadata": {},
   "outputs": [
    {
     "name": "stdout",
     "output_type": "stream",
     "text": [
      "01_devops.slides.html                     19_pruebas_en_python.ipynb\n",
      "02_introduccion_a_git.ipynb               20_selenium_web_driver.ipynb\n",
      "03_gestion_de_repositorios.ipynb          22_introduccion_a_jenkins.ipynb\n",
      "04_gestion_de_ramas.ipynb                 22_pipelines-genericos.ipynb\n",
      "05_repositorios_remotos.ipynb             contrasena.txt\n",
      "06_flujos_de_trabajo.ipynb                demo\n",
      "07_conflictos_y_correcciones.ipynb        docker.tar\n",
      "08_introduccion_a_contenedores.ipynb      experimental\n",
      "09_introduccion_a_docker.ipynb            img\n",
      "10_dockerfile.ipynb                       LICENSE\n",
      "11_docker_container.ipynb                 nginx.tar\n",
      "12_gestion_de_imagenes.ipynb              nuevo\n",
      "13_docker_compose.ipynb                   prueba\n",
      "14_creacion_de_un_registry_privado.ipynb  README.md\n",
      "15_yaml_para_docker_compose.ipynb         seguido\n",
      "16_automatizacion_y_ansible.ipynb         servidor.tar\n",
      "17_despliegue_de_un_entorno_django.ipynb  src\n",
      "18_pruebas_y_tdd.ipynb\n"
     ]
    }
   ],
   "source": [
    "ls"
   ]
  },
  {
   "cell_type": "code",
   "execution_count": 10,
   "metadata": {},
   "outputs": [
    {
     "name": "stdout",
     "output_type": "stream",
     "text": [
      "On branch master\n",
      "Your branch is up to date with 'origin/master'.\n",
      "\n",
      "Changes to be committed:\n",
      "  (use \"git reset HEAD <file>...\" to unstage)\n",
      "\n",
      "\tnew file:   seguido\n",
      "\n",
      "Changes not staged for commit:\n",
      "  (use \"git add/rm <file>...\" to update what will be committed)\n",
      "  (use \"git checkout -- <file>...\" to discard changes in working directory)\n",
      "\n",
      "\tmodified:   07_conflictos_y_correcciones.ipynb\n",
      "\tdeleted:    21_introduccion_a_cd_ci.ipynb\n",
      "\n"
     ]
    }
   ],
   "source": [
    "git status"
   ]
  },
  {
   "cell_type": "code",
   "execution_count": null,
   "metadata": {},
   "outputs": [],
   "source": [
    "git commit -m  \"quinto commit restituido\""
   ]
  },
  {
   "cell_type": "markdown",
   "metadata": {},
   "source": [
    "## El comando ```git revert ```.\n",
    "\n",
    "El comando ```git revert``` permite regresar al estado de un commit previo, realizando las operaciones en sentido inverso que lleven al estado del commit en cuestión.\n",
    "\n",
    "``` bash\n",
    "git revert <identificador>\n",
    "```"
   ]
  },
  {
   "cell_type": "markdown",
   "metadata": {},
   "source": [
    "**Ejemplo:**"
   ]
  },
  {
   "cell_type": "code",
   "execution_count": null,
   "metadata": {
    "scrolled": true
   },
   "outputs": [],
   "source": [
    "git log"
   ]
  },
  {
   "cell_type": "markdown",
   "metadata": {},
   "source": [
    "``` bash\n",
    "git revert \n",
    "```"
   ]
  },
  {
   "cell_type": "code",
   "execution_count": null,
   "metadata": {},
   "outputs": [],
   "source": [
    "git commit -m "
   ]
  },
  {
   "cell_type": "code",
   "execution_count": null,
   "metadata": {},
   "outputs": [],
   "source": [
    "git log"
   ]
  },
  {
   "cell_type": "markdown",
   "metadata": {},
   "source": [
    "## El comando ```git cherrypick```."
   ]
  },
  {
   "cell_type": "code",
   "execution_count": null,
   "metadata": {},
   "outputs": [],
   "source": [
    "## El comando ```git "
   ]
  },
  {
   "cell_type": "markdown",
   "metadata": {},
   "source": [
    "<p style=\"text-align: center\"><a rel=\"license\" href=\"http://creativecommons.org/licenses/by/4.0/\"><img alt=\"Licencia Creative Commons\" style=\"border-width:0\" src=\"https://i.creativecommons.org/l/by/4.0/80x15.png\" /></a><br />Esta obra está bajo una <a rel=\"license\" href=\"http://creativecommons.org/licenses/by/4.0/\">Licencia Creative Commons Atribución 4.0 Internacional</a>.</p>\n",
    "<p style=\"text-align: center\">&copy; José Luis Chiquete Valdivieso. 2019.</p>"
   ]
  }
 ],
 "metadata": {
  "kernelspec": {
   "display_name": "Bash",
   "language": "bash",
   "name": "bash"
  },
  "language_info": {
   "codemirror_mode": "shell",
   "file_extension": ".sh",
   "mimetype": "text/x-sh",
   "name": "bash"
  }
 },
 "nbformat": 4,
 "nbformat_minor": 2
}
