{
 "cells": [
  {
   "cell_type": "markdown",
   "metadata": {},
   "source": [
    "<a href=\"https://pythonista.io\"> <img src=\"img/pythonista.png\" width=\"100px\"></a>"
   ]
  },
  {
   "cell_type": "markdown",
   "metadata": {},
   "source": [
    "# Flujos de trabajo.\n",
    "\n",
    "Aquellos proyectos de desarrollo de software en los que un grupo de programadores interactúa mediante un repositorio plantea el reto de poder crear flujos de trabajo ágíles, seguros y limpios.\n",
    "\n",
    "A partir de la experiencia de varios de estos grupos de trabajo se han adoptado varios esquemas de flujo de trabajo. Los siguientes son los más populares.\n",
    "\n",
    "Atlassian ha publicado una comparación de flujos de trabajo la cual puede ser consultada en:\n",
    "\n",
    "https://www.atlassian.com/git/tutorials/comparing-workflows"
   ]
  },
  {
   "cell_type": "markdown",
   "metadata": {},
   "source": [
    "## Flujo centralizado.\n",
    "\n",
    "Este flujo de trabajo es común en repositorios centraalizados, en los que sólo existe la rama **master**."
   ]
  },
  {
   "cell_type": "markdown",
   "metadata": {},
   "source": [
    "## Flujo por \"feature\" .\n",
    "\n",
    "Este flujo cuenta con una rama principal y una rama de funcionalidad."
   ]
  },
  {
   "cell_type": "markdown",
   "metadata": {},
   "source": [
    "## Giflow.\n",
    "\n",
    "[*Gitflow*](https://nvie.com/posts/a-successful-git-branching-model/) es un modelo de flujo de trabajo peopuesto por Vincent Driessen.\n",
    "\n",
    "Este flujo de trabajo considera el desarrlollo de las ramas.\n",
    "\n",
    "* **master**, la cual es la rama principal y a la que sólo puede agregarse código totalmente probado.\n",
    "* **develop**, la cual corresponde a la rama en la que se realiza el desarrollo cotidiano.\n",
    "* **hotfixes**, la cual se utiliza exclusivamente para atender correcciones de emergencia y que serán añadidas a la rama **master**.\n",
    "* **release branches**, la cual permite preparar liberaciones calendariadas de código.\n",
    "* **feature branches** la cual corresponde a funcionalidades que se irán integrando con el tiempo."
   ]
  },
  {
   "cell_type": "markdown",
   "metadata": {},
   "source": [
    "<p style=\"text-align: center\"><a rel=\"license\" href=\"http://creativecommons.org/licenses/by/4.0/\"><img alt=\"Licencia Creative Commons\" style=\"border-width:0\" src=\"https://i.creativecommons.org/l/by/4.0/80x15.png\" /></a><br />Esta obra está bajo una <a rel=\"license\" href=\"http://creativecommons.org/licenses/by/4.0/\">Licencia Creative Commons Atribución 4.0 Internacional</a>.</p>\n",
    "<p style=\"text-align: center\">&copy; José Luis Chiquete Valdivieso. 2018.</p>"
   ]
  }
 ],
 "metadata": {
  "kernelspec": {
   "display_name": "Bash",
   "language": "bash",
   "name": "bash"
  },
  "language_info": {
   "codemirror_mode": "shell",
   "file_extension": ".sh",
   "mimetype": "text/x-sh",
   "name": "bash"
  }
 },
 "nbformat": 4,
 "nbformat_minor": 2
}
