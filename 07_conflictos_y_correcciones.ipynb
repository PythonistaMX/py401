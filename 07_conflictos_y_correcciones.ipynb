{
 "cells": [
  {
   "cell_type": "markdown",
   "metadata": {},
   "source": [
    "<a href=\"https://pythonista.io\"> <img src=\"img/pythonista.png\" width=\"100px\"></a>"
   ]
  },
  {
   "cell_type": "markdown",
   "metadata": {},
   "source": [
    "# Conflictos y correcciones."
   ]
  },
  {
   "cell_type": "markdown",
   "metadata": {},
   "source": [
    "## Preliminares:\n",
    "\n",
    "Para este capítulo se utilizará una versión creada previamente del directorio ```demo``` que incluye los ejercicios de los capítulos previos. "
   ]
  },
  {
   "cell_type": "code",
   "execution_count": 1,
   "metadata": {},
   "outputs": [
    {
     "name": "stdout",
     "output_type": "stream",
     "text": [
      "Archive:  src/07/prueba.zip\n",
      "   creating: prueba/\n",
      " extracting: prueba/archivo-2        \n",
      " extracting: prueba/archivo-1        \n",
      "   creating: prueba/.git/\n",
      "  inflating: prueba/.git/index       \n",
      "   creating: prueba/.git/refs/\n",
      "   creating: prueba/.git/refs/heads/\n",
      "  inflating: prueba/.git/refs/heads/master  \n",
      " extracting: prueba/.git/refs/heads/restituida  \n",
      " extracting: prueba/.git/refs/heads/nueva  \n",
      "   creating: prueba/.git/refs/tags/\n",
      "  inflating: prueba/.git/description  \n",
      "   creating: prueba/.git/info/\n",
      "  inflating: prueba/.git/info/exclude  \n",
      " extracting: prueba/.git/ORIG_HEAD   \n",
      " extracting: prueba/.git/COMMIT_EDITMSG  \n",
      "   creating: prueba/.git/objects/\n",
      "   creating: prueba/.git/objects/90/\n",
      " extracting: prueba/.git/objects/90/a8b80bbb845cb1187852777769937a9574e3ab  \n",
      "   creating: prueba/.git/objects/ed/\n",
      " extracting: prueba/.git/objects/ed/7d117fc8970b297653c23ebc41936cc4ab4472  \n",
      "   creating: prueba/.git/objects/pack/\n",
      "   creating: prueba/.git/objects/cb/\n",
      " extracting: prueba/.git/objects/cb/0b6bb3a84bc6fcd0f6a0f87909bf68f298e21a  \n",
      "   creating: prueba/.git/objects/2c/\n",
      " extracting: prueba/.git/objects/2c/b76ef80c41c0037c6a82092737cba6061c7083  \n",
      "   creating: prueba/.git/objects/info/\n",
      "   creating: prueba/.git/objects/e6/\n",
      " extracting: prueba/.git/objects/e6/9de29bb2d1d6434b8b29ae775ad8c2e48c5391  \n",
      "   creating: prueba/.git/objects/a1/\n",
      " extracting: prueba/.git/objects/a1/9abfea0f29b668c91c58c834b8965e6c37804f  \n",
      "   creating: prueba/.git/objects/dc/\n",
      " extracting: prueba/.git/objects/dc/d3ac8c60d63186964b45f87cc4416e6caefa5f  \n",
      "   creating: prueba/.git/objects/78/\n",
      " extracting: prueba/.git/objects/78/8564428c6076630b22efc89ad20c5f63ee9bf1  \n",
      "   creating: prueba/.git/objects/ba/\n",
      " extracting: prueba/.git/objects/ba/397e8f7c51f8dfdefa12250933811042df91a2  \n",
      "   creating: prueba/.git/objects/ff/\n",
      " extracting: prueba/.git/objects/ff/7ede1f3ce0201ae532684bbee157247c3a88b7  \n",
      "   creating: prueba/.git/objects/ac/\n",
      " extracting: prueba/.git/objects/ac/9103394fb02ee49adb4c05e2125174707fbb7d  \n",
      "   creating: prueba/.git/objects/1f/\n",
      " extracting: prueba/.git/objects/1f/1f5adbb5e6ff2e2ff651e352f21df0417defb2  \n",
      "   creating: prueba/.git/objects/08/\n",
      " extracting: prueba/.git/objects/08/34a0b252e02bc28bae34588e01f410ad771884  \n",
      "   creating: prueba/.git/objects/d7/\n",
      " extracting: prueba/.git/objects/d7/f0e7ba5cf079cdea1d7c8792e1432161f082c1  \n",
      "   creating: prueba/.git/objects/46/\n",
      " extracting: prueba/.git/objects/46/c8014e29a665bd0e883c9008ad4412f8933809  \n",
      "   creating: prueba/.git/objects/df/\n",
      " extracting: prueba/.git/objects/df/8a330f084618bdb823d99a6997d7be4b9efd15  \n",
      "   creating: prueba/.git/objects/b3/\n",
      " extracting: prueba/.git/objects/b3/890082fec489a5ecff76db4fd36cc10d4bc8d6  \n",
      "   creating: prueba/.git/branches/\n",
      "   creating: prueba/.git/logs/\n",
      "   creating: prueba/.git/logs/refs/\n",
      "   creating: prueba/.git/logs/refs/heads/\n",
      "  inflating: prueba/.git/logs/refs/heads/master  \n",
      "  inflating: prueba/.git/logs/refs/heads/restituida  \n",
      "  inflating: prueba/.git/logs/refs/heads/nueva  \n",
      "  inflating: prueba/.git/logs/HEAD   \n",
      " extracting: prueba/.git/HEAD        \n",
      "  inflating: prueba/.git/config      \n",
      "   creating: prueba/.git/hooks/\n",
      "  inflating: prueba/.git/hooks/post-update.sample  \n",
      "  inflating: prueba/.git/hooks/commit-msg.sample  \n",
      "  inflating: prueba/.git/hooks/pre-receive.sample  \n",
      "  inflating: prueba/.git/hooks/update.sample  \n",
      "  inflating: prueba/.git/hooks/pre-push.sample  \n",
      "  inflating: prueba/.git/hooks/fsmonitor-watchman.sample  \n",
      "  inflating: prueba/.git/hooks/prepare-commit-msg.sample  \n",
      "  inflating: prueba/.git/hooks/pre-applypatch.sample  \n",
      "  inflating: prueba/.git/hooks/pre-rebase.sample  \n",
      "  inflating: prueba/.git/hooks/applypatch-msg.sample  \n",
      "  inflating: prueba/.git/hooks/pre-commit.sample  \n",
      " extracting: prueba/archivo_nuevo    \n",
      " extracting: prueba/invisible        \n",
      " extracting: prueba/.gitignore       \n"
     ]
    }
   ],
   "source": [
    "unzip src/07/prueba.zip"
   ]
  },
  {
   "cell_type": "code",
   "execution_count": 2,
   "metadata": {},
   "outputs": [],
   "source": [
    "cd prueba"
   ]
  },
  {
   "cell_type": "code",
   "execution_count": 3,
   "metadata": {},
   "outputs": [
    {
     "name": "stdout",
     "output_type": "stream",
     "text": [
      "* master\n",
      "  nueva\n",
      "  restituida\n"
     ]
    }
   ],
   "source": [
    "git branch"
   ]
  },
  {
   "cell_type": "code",
   "execution_count": 4,
   "metadata": {},
   "outputs": [
    {
     "name": "stdout",
     "output_type": "stream",
     "text": [
      "commit ff7ede1f3ce0201ae532684bbee157247c3a88b7 (HEAD -> master)\n",
      "Merge: 0834a0b 46c8014\n",
      "Author: Jose Luis Chiquete <josech@gmail.com>\n",
      "Date:   Tue Dec 17 12:46:44 2019 -0600\n",
      "\n",
      "    commit fusionado\n",
      "\n",
      "commit 0834a0b252e02bc28bae34588e01f410ad771884\n",
      "Author: Jose Luis Chiquete <josech@gmail.com>\n",
      "Date:   Tue Dec 17 12:45:59 2019 -0600\n",
      "\n",
      "    quinto commit\n",
      "\n",
      "commit 46c8014e29a665bd0e883c9008ad4412f8933809 (nueva)\n",
      "Author: Jose Luis Chiquete <josech@gmail.com>\n",
      "Date:   Tue Dec 17 12:44:46 2019 -0600\n",
      "\n",
      "    primer commit de la rama nueva\n",
      "\n",
      "commit ba397e8f7c51f8dfdefa12250933811042df91a2 (restituida)\n",
      "Author: Jose Luis Chiquete <josech@gmail.com>\n",
      "Date:   Tue Dec 17 12:39:12 2019 -0600\n",
      "\n",
      "    cuarto commit\n",
      "\n",
      "commit cb0b6bb3a84bc6fcd0f6a0f87909bf68f298e21a\n",
      "Author: Jose Luis Chiquete <josech@gmail.com>\n",
      "Date:   Tue Dec 17 12:38:22 2019 -0600\n",
      "\n",
      "    segundo commit\n",
      "\n",
      "commit ed7d117fc8970b297653c23ebc41936cc4ab4472\n",
      "Author: Jose Luis Chiquete <josech@gmail.com>\n",
      "Date:   Tue Dec 17 12:38:17 2019 -0600\n",
      "\n",
      "    primer commit\n"
     ]
    }
   ],
   "source": [
    "git log"
   ]
  },
  {
   "cell_type": "markdown",
   "metadata": {},
   "source": [
    "## Referencias a commits específicos mediante etiquetas.\n",
    "\n",
    "Las etiquetas de las ramas, así como la etiqueta ```HEAD``` permiten ser usadas como referencias, así como a commits previos mediante la siguiente sintaxis.\n",
    "\n",
    "```\n",
    "<etiqueta>~<n>\n",
    "```\n",
    "\n",
    "Donde:\n",
    "\n",
    "* ```<etiqueta>```corresponde a la etiqueta de una rama o a ```HEAD```, apuntando al commit más reciente de dicha rama.\n",
    "* ```n``` corresponde al número de commits previos a los que se quiere hacer referencia."
   ]
  },
  {
   "cell_type": "markdown",
   "metadata": {},
   "source": [
    "**Ejemplos:**"
   ]
  },
  {
   "cell_type": "code",
   "execution_count": 5,
   "metadata": {},
   "outputs": [
    {
     "name": "stdout",
     "output_type": "stream",
     "text": [
      "commit ff7ede1f3ce0201ae532684bbee157247c3a88b7 (HEAD -> master)\n",
      "Merge: 0834a0b 46c8014\n",
      "Author: Jose Luis Chiquete <josech@gmail.com>\n",
      "Date:   Tue Dec 17 12:46:44 2019 -0600\n",
      "\n",
      "    commit fusionado\n",
      "\n"
     ]
    }
   ],
   "source": [
    "git show"
   ]
  },
  {
   "cell_type": "markdown",
   "metadata": {},
   "source": [
    "* La siguiente celda ejecutará un ```git log``` haciendo referencia al commit más reciente de la rama ```nueva```."
   ]
  },
  {
   "cell_type": "code",
   "execution_count": 6,
   "metadata": {},
   "outputs": [
    {
     "name": "stdout",
     "output_type": "stream",
     "text": [
      "commit 46c8014e29a665bd0e883c9008ad4412f8933809 (nueva)\n",
      "Author: Jose Luis Chiquete <josech@gmail.com>\n",
      "Date:   Tue Dec 17 12:44:46 2019 -0600\n",
      "\n",
      "    primer commit de la rama nueva\n",
      "\n",
      "commit ba397e8f7c51f8dfdefa12250933811042df91a2 (restituida)\n",
      "Author: Jose Luis Chiquete <josech@gmail.com>\n",
      "Date:   Tue Dec 17 12:39:12 2019 -0600\n",
      "\n",
      "    cuarto commit\n",
      "\n",
      "commit cb0b6bb3a84bc6fcd0f6a0f87909bf68f298e21a\n",
      "Author: Jose Luis Chiquete <josech@gmail.com>\n",
      "Date:   Tue Dec 17 12:38:22 2019 -0600\n",
      "\n",
      "    segundo commit\n",
      "\n",
      "commit ed7d117fc8970b297653c23ebc41936cc4ab4472\n",
      "Author: Jose Luis Chiquete <josech@gmail.com>\n",
      "Date:   Tue Dec 17 12:38:17 2019 -0600\n",
      "\n",
      "    primer commit\n"
     ]
    }
   ],
   "source": [
    "git log nueva"
   ]
  },
  {
   "cell_type": "markdown",
   "metadata": {},
   "source": [
    "* La siguiente celda ejecutará un ```git log``` haciendo referencia a 2 commits previos a partir del commit más reciente de la rama ```nueva```."
   ]
  },
  {
   "cell_type": "code",
   "execution_count": 7,
   "metadata": {},
   "outputs": [
    {
     "name": "stdout",
     "output_type": "stream",
     "text": [
      "commit cb0b6bb3a84bc6fcd0f6a0f87909bf68f298e21a\n",
      "Author: Jose Luis Chiquete <josech@gmail.com>\n",
      "Date:   Tue Dec 17 12:38:22 2019 -0600\n",
      "\n",
      "    segundo commit\n",
      "\n",
      "commit ed7d117fc8970b297653c23ebc41936cc4ab4472\n",
      "Author: Jose Luis Chiquete <josech@gmail.com>\n",
      "Date:   Tue Dec 17 12:38:17 2019 -0600\n",
      "\n",
      "    primer commit\n"
     ]
    }
   ],
   "source": [
    "git log nueva~2"
   ]
  },
  {
   "cell_type": "markdown",
   "metadata": {},
   "source": [
    "* La siguiente celda ralizará una comparación entre el commit más reciente de la rama actual y el estado de 3 commits previos."
   ]
  },
  {
   "cell_type": "code",
   "execution_count": 8,
   "metadata": {},
   "outputs": [
    {
     "name": "stdout",
     "output_type": "stream",
     "text": [
      "diff --git a/archivo-1 b/archivo-1\n",
      "index e69de29..d7f0e7b 100644\n",
      "--- a/archivo-1\n",
      "+++ b/archivo-1\n",
      "@@ -0,0 +1,2 @@\n",
      "+Hola\n",
      "+Otra linea\n",
      "diff --git a/archivo_nuevo b/archivo_nuevo\n",
      "new file mode 100644\n",
      "index 0000000..df8a330\n",
      "--- /dev/null\n",
      "+++ b/archivo_nuevo\n",
      "@@ -0,0 +1 @@\n",
      "+Archivo de la rama nueva.\n"
     ]
    }
   ],
   "source": [
    "git diff HEAD~3 HEAD"
   ]
  },
  {
   "cell_type": "markdown",
   "metadata": {},
   "source": [
    "## El comando ```git clean```.\n",
    "\n",
    "El comando ```git clean``` permite eliminar del directorio de trabajo a aquellos archivos que no están en estado de seguimiento.\n",
    "\n",
    "``` bash\n",
    "git clean <opciones> <ruta>\n",
    "```\n",
    "\n",
    "Donde:\n",
    "\n",
    "* ```<opciones>``` son las opciones aplicables.\n",
    "* ```<ruta>``` es la ruta o patrón de los archivos a  afectar con este comando.\n",
    "\n",
    "La documentación de referencia del comando ```git clean``` está disponible en:\n",
    "\n",
    "https://git-scm.com/docs/git-clean\n",
    "\n",
    "En caso de ejecutar el comando ```git clean``` sin opciones, se producirá un error. "
   ]
  },
  {
   "cell_type": "markdown",
   "metadata": {},
   "source": [
    "### La opción ```-f```.\n",
    "\n",
    "La opción ```-f``` le indica al comando ```git clean```que ejecute la acción forzosamente. En realidad, se utuliza como un \"seguro\", ya que en caso de uno ingresar dicha opción, se produciría un error."
   ]
  },
  {
   "cell_type": "markdown",
   "metadata": {},
   "source": [
    "**Ejemplo:**"
   ]
  },
  {
   "cell_type": "code",
   "execution_count": 9,
   "metadata": {},
   "outputs": [],
   "source": [
    "echo \"Texto ilustrativo\" > archivo-5"
   ]
  },
  {
   "cell_type": "code",
   "execution_count": 10,
   "metadata": {},
   "outputs": [],
   "source": [
    "touch indeseable"
   ]
  },
  {
   "cell_type": "code",
   "execution_count": 11,
   "metadata": {},
   "outputs": [
    {
     "name": "stdout",
     "output_type": "stream",
     "text": [
      "On branch master\n",
      "Untracked files:\n",
      "  (use \"git add <file>...\" to include in what will be committed)\n",
      "\n",
      "\tarchivo-5\n",
      "\tindeseable\n",
      "\n",
      "nothing added to commit but untracked files present (use \"git add\" to track)\n"
     ]
    }
   ],
   "source": [
    "git status"
   ]
  },
  {
   "cell_type": "code",
   "execution_count": 12,
   "metadata": {},
   "outputs": [],
   "source": [
    "git add archivo-5"
   ]
  },
  {
   "cell_type": "code",
   "execution_count": 13,
   "metadata": {},
   "outputs": [
    {
     "name": "stdout",
     "output_type": "stream",
     "text": [
      "On branch master\n",
      "Changes to be committed:\n",
      "  (use \"git reset HEAD <file>...\" to unstage)\n",
      "\n",
      "\tnew file:   archivo-5\n",
      "\n",
      "Untracked files:\n",
      "  (use \"git add <file>...\" to include in what will be committed)\n",
      "\n",
      "\tindeseable\n",
      "\n"
     ]
    }
   ],
   "source": [
    "git status"
   ]
  },
  {
   "cell_type": "code",
   "execution_count": 14,
   "metadata": {},
   "outputs": [
    {
     "name": "stdout",
     "output_type": "stream",
     "text": [
      "fatal: clean.requireForce defaults to true and neither -i, -n, nor -f given; refusing to clean\n"
     ]
    },
    {
     "ename": "",
     "evalue": "128",
     "output_type": "error",
     "traceback": []
    }
   ],
   "source": [
    "git clean"
   ]
  },
  {
   "cell_type": "code",
   "execution_count": 15,
   "metadata": {},
   "outputs": [
    {
     "name": "stdout",
     "output_type": "stream",
     "text": [
      "Removing indeseable\n"
     ]
    }
   ],
   "source": [
    "git clean -f"
   ]
  },
  {
   "cell_type": "code",
   "execution_count": 16,
   "metadata": {},
   "outputs": [
    {
     "name": "stdout",
     "output_type": "stream",
     "text": [
      "archivo-1  archivo-2  archivo-5  archivo_nuevo  invisible\n"
     ]
    }
   ],
   "source": [
    "ls"
   ]
  },
  {
   "cell_type": "code",
   "execution_count": 17,
   "metadata": {},
   "outputs": [
    {
     "name": "stdout",
     "output_type": "stream",
     "text": [
      "On branch master\n",
      "Changes to be committed:\n",
      "  (use \"git reset HEAD <file>...\" to unstage)\n",
      "\n",
      "\tnew file:   archivo-5\n",
      "\n"
     ]
    }
   ],
   "source": [
    "git status"
   ]
  },
  {
   "cell_type": "code",
   "execution_count": 18,
   "metadata": {},
   "outputs": [
    {
     "name": "stdout",
     "output_type": "stream",
     "text": [
      "[master a5b9b65] septimo commit\n",
      " 1 file changed, 1 insertion(+)\n",
      " create mode 100644 archivo-5\n"
     ]
    }
   ],
   "source": [
    "git commit -m  \"septimo commit\""
   ]
  },
  {
   "cell_type": "code",
   "execution_count": 19,
   "metadata": {},
   "outputs": [
    {
     "name": "stdout",
     "output_type": "stream",
     "text": [
      "a5b9b65 (HEAD -> master) septimo commit\n",
      "ff7ede1 commit fusionado\n",
      "0834a0b quinto commit\n",
      "46c8014 (nueva) primer commit de la rama nueva\n",
      "ba397e8 (restituida) cuarto commit\n",
      "cb0b6bb segundo commit\n",
      "ed7d117 primer commit\n"
     ]
    }
   ],
   "source": [
    "git log --oneline"
   ]
  },
  {
   "cell_type": "markdown",
   "metadata": {},
   "source": [
    "## El comando ```git revert ```.\n",
    "\n",
    "El comando ```git revert``` permite regresar al estado de un commit previo, realizando las operaciones en sentido inverso que lleven al estado del commit en cuestión.\n",
    "\n",
    "``` bash\n",
    "git revert <identificador 1> .. <identificador 2>\n",
    "```\n",
    "\n",
    "La documentación de referencia del comando ```git revert``` está disponible en:\n",
    "\n",
    "https://git-scm.com/docs/git-revert"
   ]
  },
  {
   "cell_type": "markdown",
   "metadata": {},
   "source": [
    "**Ejemplo:**"
   ]
  },
  {
   "cell_type": "code",
   "execution_count": 20,
   "metadata": {},
   "outputs": [
    {
     "name": "stdout",
     "output_type": "stream",
     "text": [
      "Hola\n",
      "Otra linea\n"
     ]
    }
   ],
   "source": [
    "cat archivo-1"
   ]
  },
  {
   "cell_type": "code",
   "execution_count": 22,
   "metadata": {
    "scrolled": true
   },
   "outputs": [
    {
     "name": "stdout",
     "output_type": "stream",
     "text": [
      "diff --git a/archivo-5 b/archivo-5\n",
      "new file mode 100644\n",
      "index 0000000..7d8a316\n",
      "--- /dev/null\n",
      "+++ b/archivo-5\n",
      "@@ -0,0 +1 @@\n",
      "+Texto ilustrativo\n",
      "diff --git a/archivo_nuevo b/archivo_nuevo\n",
      "new file mode 100644\n",
      "index 0000000..df8a330\n",
      "--- /dev/null\n",
      "+++ b/archivo_nuevo\n",
      "@@ -0,0 +1 @@\n",
      "+Archivo de la rama nueva.\n"
     ]
    }
   ],
   "source": [
    "git diff HEAD~2 HEAD"
   ]
  },
  {
   "cell_type": "code",
   "execution_count": 23,
   "metadata": {
    "scrolled": true
   },
   "outputs": [
    {
     "name": "stdout",
     "output_type": "stream",
     "text": [
      "[master 143cbf2] Revert \"quinto commit\"\n",
      " Date: Wed Dec 18 14:53:15 2019 -0600\n",
      " 1 file changed, 1 deletion(-)\n"
     ]
    }
   ],
   "source": [
    "git revert HEAD~2 --no-edit"
   ]
  },
  {
   "cell_type": "code",
   "execution_count": 24,
   "metadata": {},
   "outputs": [
    {
     "name": "stdout",
     "output_type": "stream",
     "text": [
      "archivo-1  archivo-2  archivo-5  archivo_nuevo  invisible\n"
     ]
    }
   ],
   "source": [
    "ls"
   ]
  },
  {
   "cell_type": "code",
   "execution_count": 25,
   "metadata": {
    "scrolled": true
   },
   "outputs": [
    {
     "name": "stdout",
     "output_type": "stream",
     "text": [
      "commit 143cbf2d632524a694b4278761a87b662fa4ef35 (HEAD -> master)\n",
      "Author: Jose Luis Chiquete <josech@gmail.com>\n",
      "Date:   Wed Dec 18 14:53:15 2019 -0600\n",
      "\n",
      "    Revert \"quinto commit\"\n",
      "    \n",
      "    This reverts commit 0834a0b252e02bc28bae34588e01f410ad771884.\n",
      "\n",
      "commit a5b9b65f7f1f206cf86eccb687198db7dec23164\n",
      "Author: Jose Luis Chiquete <josech@gmail.com>\n",
      "Date:   Wed Dec 18 14:49:08 2019 -0600\n",
      "\n",
      "    septimo commit\n",
      "\n",
      "commit ff7ede1f3ce0201ae532684bbee157247c3a88b7\n",
      "Merge: 0834a0b 46c8014\n",
      "Author: Jose Luis Chiquete <josech@gmail.com>\n",
      "Date:   Tue Dec 17 12:46:44 2019 -0600\n",
      "\n",
      "    commit fusionado\n",
      "\n",
      "commit 0834a0b252e02bc28bae34588e01f410ad771884\n",
      "Author: Jose Luis Chiquete <josech@gmail.com>\n",
      "Date:   Tue Dec 17 12:45:59 2019 -0600\n",
      "\n",
      "    quinto commit\n",
      "\n",
      "commit 46c8014e29a665bd0e883c9008ad4412f8933809 (nueva)\n",
      "Author: Jose Luis Chiquete <josech@gmail.com>\n",
      "Date:   Tue Dec 17 12:44:46 2019 -0600\n",
      "\n",
      "    primer commit de la rama nueva\n",
      "\n",
      "commit ba397e8f7c51f8dfdefa12250933811042df91a2 (restituida)\n",
      "Author: Jose Luis Chiquete <josech@gmail.com>\n",
      "Date:   Tue Dec 17 12:39:12 2019 -0600\n",
      "\n",
      "    cuarto commit\n",
      "\n",
      "commit cb0b6bb3a84bc6fcd0f6a0f87909bf68f298e21a\n",
      "Author: Jose Luis Chiquete <josech@gmail.com>\n",
      "Date:   Tue Dec 17 12:38:22 2019 -0600\n",
      "\n",
      "    segundo commit\n",
      "\n",
      "commit ed7d117fc8970b297653c23ebc41936cc4ab4472\n",
      "Author: Jose Luis Chiquete <josech@gmail.com>\n",
      "Date:   Tue Dec 17 12:38:17 2019 -0600\n",
      "\n",
      "    primer commit\n"
     ]
    }
   ],
   "source": [
    "git log "
   ]
  },
  {
   "cell_type": "code",
   "execution_count": 26,
   "metadata": {},
   "outputs": [
    {
     "name": "stdout",
     "output_type": "stream",
     "text": [
      "Hola\n"
     ]
    }
   ],
   "source": [
    "cat archivo-1"
   ]
  },
  {
   "cell_type": "code",
   "execution_count": 27,
   "metadata": {},
   "outputs": [
    {
     "name": "stdout",
     "output_type": "stream",
     "text": [
      "diff --git a/archivo-1 b/archivo-1\n",
      "index d7f0e7b..a19abfe 100644\n",
      "--- a/archivo-1\n",
      "+++ b/archivo-1\n",
      "@@ -1,2 +1 @@\n",
      " Hola\n",
      "-Otra linea\n"
     ]
    }
   ],
   "source": [
    "git diff HEAD~1 HEAD"
   ]
  },
  {
   "cell_type": "code",
   "execution_count": 28,
   "metadata": {},
   "outputs": [
    {
     "name": "stdout",
     "output_type": "stream",
     "text": [
      "commit 143cbf2d632524a694b4278761a87b662fa4ef35 (HEAD -> master)\n",
      "Author: Jose Luis Chiquete <josech@gmail.com>\n",
      "Date:   Wed Dec 18 14:53:15 2019 -0600\n",
      "\n",
      "    Revert \"quinto commit\"\n",
      "    \n",
      "    This reverts commit 0834a0b252e02bc28bae34588e01f410ad771884.\n",
      "\n",
      "commit a5b9b65f7f1f206cf86eccb687198db7dec23164\n",
      "Author: Jose Luis Chiquete <josech@gmail.com>\n",
      "Date:   Wed Dec 18 14:49:08 2019 -0600\n",
      "\n",
      "    septimo commit\n",
      "\n",
      "commit ff7ede1f3ce0201ae532684bbee157247c3a88b7\n",
      "Merge: 0834a0b 46c8014\n",
      "Author: Jose Luis Chiquete <josech@gmail.com>\n",
      "Date:   Tue Dec 17 12:46:44 2019 -0600\n",
      "\n",
      "    commit fusionado\n",
      "\n",
      "commit 0834a0b252e02bc28bae34588e01f410ad771884\n",
      "Author: Jose Luis Chiquete <josech@gmail.com>\n",
      "Date:   Tue Dec 17 12:45:59 2019 -0600\n",
      "\n",
      "    quinto commit\n",
      "\n",
      "commit 46c8014e29a665bd0e883c9008ad4412f8933809 (nueva)\n",
      "Author: Jose Luis Chiquete <josech@gmail.com>\n",
      "Date:   Tue Dec 17 12:44:46 2019 -0600\n",
      "\n",
      "    primer commit de la rama nueva\n",
      "\n",
      "commit ba397e8f7c51f8dfdefa12250933811042df91a2 (restituida)\n",
      "Author: Jose Luis Chiquete <josech@gmail.com>\n",
      "Date:   Tue Dec 17 12:39:12 2019 -0600\n",
      "\n",
      "    cuarto commit\n",
      "\n",
      "commit cb0b6bb3a84bc6fcd0f6a0f87909bf68f298e21a\n",
      "Author: Jose Luis Chiquete <josech@gmail.com>\n",
      "Date:   Tue Dec 17 12:38:22 2019 -0600\n",
      "\n",
      "    segundo commit\n",
      "\n",
      "commit ed7d117fc8970b297653c23ebc41936cc4ab4472\n",
      "Author: Jose Luis Chiquete <josech@gmail.com>\n",
      "Date:   Tue Dec 17 12:38:17 2019 -0600\n",
      "\n",
      "    primer commit\n"
     ]
    }
   ],
   "source": [
    "git log"
   ]
  },
  {
   "cell_type": "code",
   "execution_count": 30,
   "metadata": {},
   "outputs": [
    {
     "name": "stdout",
     "output_type": "stream",
     "text": [
      "error: commit ff7ede1f3ce0201ae532684bbee157247c3a88b7 is a merge but no -m option was given.\n",
      "fatal: revert failed\n"
     ]
    },
    {
     "ename": "",
     "evalue": "128",
     "output_type": "error",
     "traceback": []
    }
   ],
   "source": [
    "git revert HEAD~2"
   ]
  },
  {
   "cell_type": "markdown",
   "metadata": {},
   "source": [
    "## El comando ```git reset```.\n",
    "\n",
    "Este comando permite regresar ```HEAD``` a un estado previo.\n",
    "\n",
    "````\n",
    "git reset <opcion>\n",
    "``` \n",
    "\n",
    "La documentación de referencia del comando ```git reset``` está disponible en:\n",
    "\n",
    "https://git-scm.com/docs/git-reset"
   ]
  },
  {
   "cell_type": "markdown",
   "metadata": {},
   "source": [
    "### La opción ```--mixed```.\n",
    "\n",
    "Esta opción regresa a ```HEAD``` y al índice al estado indicado, pero no a los archivos del directorio de trabajo. Esta es la opción por defecto."
   ]
  },
  {
   "cell_type": "markdown",
   "metadata": {},
   "source": [
    "### La opción ```--hard```.\n",
    "\n",
    "Esta opción regresa a ```HEAD```, al índice y al directorio de trabajo al estado indicado, pero no a los archivos del directorio de trabajo."
   ]
  },
  {
   "cell_type": "markdown",
   "metadata": {},
   "source": [
    "### La opción ```--soft``` \n",
    "\n",
    "Esta opción regresa a ```HEAD``` al estado indicado, pero no a los archivos del directorio de trabajo ni al índice."
   ]
  },
  {
   "cell_type": "code",
   "execution_count": 31,
   "metadata": {},
   "outputs": [
    {
     "name": "stdout",
     "output_type": "stream",
     "text": [
      "diff --git a/archivo-1 b/archivo-1\n",
      "index d7f0e7b..a19abfe 100644\n",
      "--- a/archivo-1\n",
      "+++ b/archivo-1\n",
      "@@ -1,2 +1 @@\n",
      " Hola\n",
      "-Otra linea\n",
      "diff --git a/archivo-5 b/archivo-5\n",
      "new file mode 100644\n",
      "index 0000000..7d8a316\n",
      "--- /dev/null\n",
      "+++ b/archivo-5\n",
      "@@ -0,0 +1 @@\n",
      "+Texto ilustrativo\n"
     ]
    }
   ],
   "source": [
    "git diff HEAD~2 HEAD"
   ]
  },
  {
   "cell_type": "code",
   "execution_count": 32,
   "metadata": {},
   "outputs": [
    {
     "name": "stdout",
     "output_type": "stream",
     "text": [
      "HEAD is now at ff7ede1 commit fusionado\n"
     ]
    }
   ],
   "source": [
    "git reset HEAD~2 --hard"
   ]
  },
  {
   "cell_type": "code",
   "execution_count": 33,
   "metadata": {},
   "outputs": [
    {
     "name": "stdout",
     "output_type": "stream",
     "text": [
      "On branch master\n",
      "nothing to commit, working tree clean\n"
     ]
    }
   ],
   "source": [
    "git status"
   ]
  },
  {
   "cell_type": "code",
   "execution_count": 34,
   "metadata": {},
   "outputs": [
    {
     "name": "stdout",
     "output_type": "stream",
     "text": [
      "Hola\n",
      "Otra linea\n"
     ]
    }
   ],
   "source": [
    "cat archivo-1"
   ]
  },
  {
   "cell_type": "code",
   "execution_count": 35,
   "metadata": {
    "scrolled": true
   },
   "outputs": [
    {
     "name": "stdout",
     "output_type": "stream",
     "text": [
      "commit ff7ede1f3ce0201ae532684bbee157247c3a88b7 (HEAD -> master)\n",
      "Merge: 0834a0b 46c8014\n",
      "Author: Jose Luis Chiquete <josech@gmail.com>\n",
      "Date:   Tue Dec 17 12:46:44 2019 -0600\n",
      "\n",
      "    commit fusionado\n",
      "\n",
      "commit 0834a0b252e02bc28bae34588e01f410ad771884\n",
      "Author: Jose Luis Chiquete <josech@gmail.com>\n",
      "Date:   Tue Dec 17 12:45:59 2019 -0600\n",
      "\n",
      "    quinto commit\n",
      "\n",
      "commit 46c8014e29a665bd0e883c9008ad4412f8933809 (nueva)\n",
      "Author: Jose Luis Chiquete <josech@gmail.com>\n",
      "Date:   Tue Dec 17 12:44:46 2019 -0600\n",
      "\n",
      "    primer commit de la rama nueva\n",
      "\n",
      "commit ba397e8f7c51f8dfdefa12250933811042df91a2 (restituida)\n",
      "Author: Jose Luis Chiquete <josech@gmail.com>\n",
      "Date:   Tue Dec 17 12:39:12 2019 -0600\n",
      "\n",
      "    cuarto commit\n",
      "\n",
      "commit cb0b6bb3a84bc6fcd0f6a0f87909bf68f298e21a\n",
      "Author: Jose Luis Chiquete <josech@gmail.com>\n",
      "Date:   Tue Dec 17 12:38:22 2019 -0600\n",
      "\n",
      "    segundo commit\n",
      "\n",
      "commit ed7d117fc8970b297653c23ebc41936cc4ab4472\n",
      "Author: Jose Luis Chiquete <josech@gmail.com>\n",
      "Date:   Tue Dec 17 12:38:17 2019 -0600\n",
      "\n",
      "    primer commit\n"
     ]
    }
   ],
   "source": [
    "git log"
   ]
  },
  {
   "cell_type": "code",
   "execution_count": 36,
   "metadata": {},
   "outputs": [
    {
     "name": "stdout",
     "output_type": "stream",
     "text": [
      "archivo-1  archivo-2  archivo_nuevo  invisible\n"
     ]
    }
   ],
   "source": [
    "ls"
   ]
  },
  {
   "cell_type": "code",
   "execution_count": 37,
   "metadata": {},
   "outputs": [],
   "source": [
    "touch archivo-6"
   ]
  },
  {
   "cell_type": "code",
   "execution_count": 38,
   "metadata": {},
   "outputs": [],
   "source": [
    "git add --all "
   ]
  },
  {
   "cell_type": "code",
   "execution_count": 39,
   "metadata": {},
   "outputs": [
    {
     "name": "stdout",
     "output_type": "stream",
     "text": [
      "[master 0428e8c] commit posterior a un hard reset\n",
      " 1 file changed, 0 insertions(+), 0 deletions(-)\n",
      " create mode 100644 archivo-6\n"
     ]
    }
   ],
   "source": [
    "git commit -m \"commit posterior a un hard reset\""
   ]
  },
  {
   "cell_type": "code",
   "execution_count": 40,
   "metadata": {},
   "outputs": [
    {
     "name": "stdout",
     "output_type": "stream",
     "text": [
      "commit 0428e8c411aa017ac3c7d78b7a9596b6205f3366 (HEAD -> master)\n",
      "Author: Jose Luis Chiquete <josech@gmail.com>\n",
      "Date:   Wed Dec 18 15:10:03 2019 -0600\n",
      "\n",
      "    commit posterior a un hard reset\n",
      "\n",
      "commit ff7ede1f3ce0201ae532684bbee157247c3a88b7\n",
      "Merge: 0834a0b 46c8014\n",
      "Author: Jose Luis Chiquete <josech@gmail.com>\n",
      "Date:   Tue Dec 17 12:46:44 2019 -0600\n",
      "\n",
      "    commit fusionado\n",
      "\n",
      "commit 0834a0b252e02bc28bae34588e01f410ad771884\n",
      "Author: Jose Luis Chiquete <josech@gmail.com>\n",
      "Date:   Tue Dec 17 12:45:59 2019 -0600\n",
      "\n",
      "    quinto commit\n",
      "\n",
      "commit 46c8014e29a665bd0e883c9008ad4412f8933809 (nueva)\n",
      "Author: Jose Luis Chiquete <josech@gmail.com>\n",
      "Date:   Tue Dec 17 12:44:46 2019 -0600\n",
      "\n",
      "    primer commit de la rama nueva\n",
      "\n",
      "commit ba397e8f7c51f8dfdefa12250933811042df91a2 (restituida)\n",
      "Author: Jose Luis Chiquete <josech@gmail.com>\n",
      "Date:   Tue Dec 17 12:39:12 2019 -0600\n",
      "\n",
      "    cuarto commit\n",
      "\n",
      "commit cb0b6bb3a84bc6fcd0f6a0f87909bf68f298e21a\n",
      "Author: Jose Luis Chiquete <josech@gmail.com>\n",
      "Date:   Tue Dec 17 12:38:22 2019 -0600\n",
      "\n",
      "    segundo commit\n",
      "\n",
      "commit ed7d117fc8970b297653c23ebc41936cc4ab4472\n",
      "Author: Jose Luis Chiquete <josech@gmail.com>\n",
      "Date:   Tue Dec 17 12:38:17 2019 -0600\n",
      "\n",
      "    primer commit\n"
     ]
    }
   ],
   "source": [
    "git log"
   ]
  },
  {
   "cell_type": "code",
   "execution_count": 41,
   "metadata": {},
   "outputs": [
    {
     "name": "stdout",
     "output_type": "stream",
     "text": [
      "diff --git a/archivo-1 b/archivo-1\n",
      "index a19abfe..d7f0e7b 100644\n",
      "--- a/archivo-1\n",
      "+++ b/archivo-1\n",
      "@@ -1 +1,2 @@\n",
      " Hola\n",
      "+Otra linea\n",
      "diff --git a/archivo-6 b/archivo-6\n",
      "new file mode 100644\n",
      "index 0000000..e69de29\n",
      "diff --git a/archivo_nuevo b/archivo_nuevo\n",
      "new file mode 100644\n",
      "index 0000000..df8a330\n",
      "--- /dev/null\n",
      "+++ b/archivo_nuevo\n",
      "@@ -0,0 +1 @@\n",
      "+Archivo de la rama nueva.\n"
     ]
    }
   ],
   "source": [
    "git diff HEAD~3 HEAD"
   ]
  },
  {
   "cell_type": "code",
   "execution_count": 43,
   "metadata": {},
   "outputs": [
    {
     "name": "stdout",
     "output_type": "stream",
     "text": [
      "Unstaged changes after reset:\n",
      "M\tarchivo-1\n"
     ]
    }
   ],
   "source": [
    "git reset HEAD~3 --mixed"
   ]
  },
  {
   "cell_type": "code",
   "execution_count": 44,
   "metadata": {},
   "outputs": [
    {
     "name": "stdout",
     "output_type": "stream",
     "text": [
      "On branch master\n",
      "Changes not staged for commit:\n",
      "  (use \"git add <file>...\" to update what will be committed)\n",
      "  (use \"git checkout -- <file>...\" to discard changes in working directory)\n",
      "\n",
      "\tmodified:   archivo-1\n",
      "\n",
      "Untracked files:\n",
      "  (use \"git add <file>...\" to include in what will be committed)\n",
      "\n",
      "\tarchivo-6\n",
      "\tarchivo_nuevo\n",
      "\n",
      "no changes added to commit (use \"git add\" and/or \"git commit -a\")\n"
     ]
    }
   ],
   "source": [
    "git status"
   ]
  },
  {
   "cell_type": "code",
   "execution_count": 45,
   "metadata": {},
   "outputs": [
    {
     "name": "stdout",
     "output_type": "stream",
     "text": [
      "commit ba397e8f7c51f8dfdefa12250933811042df91a2 (HEAD -> master, restituida)\n",
      "Author: Jose Luis Chiquete <josech@gmail.com>\n",
      "Date:   Tue Dec 17 12:39:12 2019 -0600\n",
      "\n",
      "    cuarto commit\n",
      "\n",
      "commit cb0b6bb3a84bc6fcd0f6a0f87909bf68f298e21a\n",
      "Author: Jose Luis Chiquete <josech@gmail.com>\n",
      "Date:   Tue Dec 17 12:38:22 2019 -0600\n",
      "\n",
      "    segundo commit\n",
      "\n",
      "commit ed7d117fc8970b297653c23ebc41936cc4ab4472\n",
      "Author: Jose Luis Chiquete <josech@gmail.com>\n",
      "Date:   Tue Dec 17 12:38:17 2019 -0600\n",
      "\n",
      "    primer commit\n"
     ]
    }
   ],
   "source": [
    "git log"
   ]
  },
  {
   "cell_type": "code",
   "execution_count": 46,
   "metadata": {},
   "outputs": [],
   "source": [
    "git add --all"
   ]
  },
  {
   "cell_type": "code",
   "execution_count": 47,
   "metadata": {},
   "outputs": [
    {
     "name": "stdout",
     "output_type": "stream",
     "text": [
      "[master 7ee3e7b] commti posterior a un mixed reset\n",
      " 3 files changed, 2 insertions(+)\n",
      " create mode 100644 archivo-6\n",
      " create mode 100644 archivo_nuevo\n"
     ]
    }
   ],
   "source": [
    "git commit -m \"commti posterior a un mixed reset\""
   ]
  },
  {
   "cell_type": "code",
   "execution_count": 48,
   "metadata": {},
   "outputs": [
    {
     "name": "stdout",
     "output_type": "stream",
     "text": [
      "commit 7ee3e7b77b8be7c15fa97bdbcbbdea2a9694820a (HEAD -> master)\n",
      "Author: Jose Luis Chiquete <josech@gmail.com>\n",
      "Date:   Wed Dec 18 15:16:16 2019 -0600\n",
      "\n",
      "    commti posterior a un mixed reset\n",
      "\n",
      "commit ba397e8f7c51f8dfdefa12250933811042df91a2 (restituida)\n",
      "Author: Jose Luis Chiquete <josech@gmail.com>\n",
      "Date:   Tue Dec 17 12:39:12 2019 -0600\n",
      "\n",
      "    cuarto commit\n",
      "\n",
      "commit cb0b6bb3a84bc6fcd0f6a0f87909bf68f298e21a\n",
      "Author: Jose Luis Chiquete <josech@gmail.com>\n",
      "Date:   Tue Dec 17 12:38:22 2019 -0600\n",
      "\n",
      "    segundo commit\n",
      "\n",
      "commit ed7d117fc8970b297653c23ebc41936cc4ab4472\n",
      "Author: Jose Luis Chiquete <josech@gmail.com>\n",
      "Date:   Tue Dec 17 12:38:17 2019 -0600\n",
      "\n",
      "    primer commit\n"
     ]
    }
   ],
   "source": [
    "git log"
   ]
  },
  {
   "cell_type": "code",
   "execution_count": 49,
   "metadata": {},
   "outputs": [],
   "source": [
    "git reset HEAD~3 --soft"
   ]
  },
  {
   "cell_type": "code",
   "execution_count": 50,
   "metadata": {},
   "outputs": [
    {
     "name": "stdout",
     "output_type": "stream",
     "text": [
      "On branch master\n",
      "Changes to be committed:\n",
      "  (use \"git reset HEAD <file>...\" to unstage)\n",
      "\n",
      "\tmodified:   archivo-1\n",
      "\trenamed:    archivo-3 -> archivo-6\n",
      "\tnew file:   archivo_nuevo\n",
      "\n"
     ]
    }
   ],
   "source": [
    "git status"
   ]
  },
  {
   "cell_type": "code",
   "execution_count": 51,
   "metadata": {},
   "outputs": [
    {
     "name": "stdout",
     "output_type": "stream",
     "text": [
      "commit ed7d117fc8970b297653c23ebc41936cc4ab4472 (HEAD -> master)\n",
      "Author: Jose Luis Chiquete <josech@gmail.com>\n",
      "Date:   Tue Dec 17 12:38:17 2019 -0600\n",
      "\n",
      "    primer commit\n"
     ]
    }
   ],
   "source": [
    "git log"
   ]
  },
  {
   "cell_type": "code",
   "execution_count": 52,
   "metadata": {},
   "outputs": [
    {
     "name": "stdout",
     "output_type": "stream",
     "text": [
      "archivo-1  archivo-2  archivo-6  archivo_nuevo  invisible\n"
     ]
    }
   ],
   "source": [
    "ls"
   ]
  },
  {
   "cell_type": "code",
   "execution_count": 53,
   "metadata": {},
   "outputs": [],
   "source": [
    "git add --all"
   ]
  },
  {
   "cell_type": "code",
   "execution_count": 54,
   "metadata": {},
   "outputs": [
    {
     "name": "stdout",
     "output_type": "stream",
     "text": [
      "[master 5aa02bb] commit posterior a un soft reset\n",
      " 3 files changed, 3 insertions(+)\n",
      " rename archivo-3 => archivo-6 (100%)\n",
      " create mode 100644 archivo_nuevo\n"
     ]
    }
   ],
   "source": [
    "git commit -m \"commit posterior a un soft reset\""
   ]
  },
  {
   "cell_type": "code",
   "execution_count": 55,
   "metadata": {},
   "outputs": [
    {
     "name": "stdout",
     "output_type": "stream",
     "text": [
      "commit 5aa02bbdfad0f1ef1fb2f75666e7ede06f4873b3 (HEAD -> master)\n",
      "Author: Jose Luis Chiquete <josech@gmail.com>\n",
      "Date:   Wed Dec 18 15:22:36 2019 -0600\n",
      "\n",
      "    commit posterior a un soft reset\n",
      "\n",
      "commit ed7d117fc8970b297653c23ebc41936cc4ab4472\n",
      "Author: Jose Luis Chiquete <josech@gmail.com>\n",
      "Date:   Tue Dec 17 12:38:17 2019 -0600\n",
      "\n",
      "    primer commit\n"
     ]
    }
   ],
   "source": [
    "git log"
   ]
  },
  {
   "cell_type": "markdown",
   "metadata": {},
   "source": [
    "## El comando ```git rebase```.\n",
    "\n",
    "Este comando permite combinar dos ramas a partir del estado en que fueron separadas.\n",
    "\n",
    "```\n",
    "git rebase <rama 1> <rama 2>\n",
    "```"
   ]
  },
  {
   "cell_type": "code",
   "execution_count": 56,
   "metadata": {},
   "outputs": [
    {
     "name": "stdout",
     "output_type": "stream",
     "text": [
      "Switched to a new branch 'rama_alterna'\n"
     ]
    }
   ],
   "source": [
    "git checkout -b rama_alterna"
   ]
  },
  {
   "cell_type": "code",
   "execution_count": 57,
   "metadata": {},
   "outputs": [],
   "source": [
    "touch archivo-a1 archivo-a2"
   ]
  },
  {
   "cell_type": "code",
   "execution_count": 58,
   "metadata": {},
   "outputs": [],
   "source": [
    "git add --all"
   ]
  },
  {
   "cell_type": "code",
   "execution_count": 59,
   "metadata": {},
   "outputs": [
    {
     "name": "stdout",
     "output_type": "stream",
     "text": [
      "[rama_alterna af4d64e] primer commit rama alterna\n",
      " 2 files changed, 0 insertions(+), 0 deletions(-)\n",
      " create mode 100644 archivo-a1\n",
      " create mode 100644 archivo-a2\n"
     ]
    }
   ],
   "source": [
    "git commit -m \"primer commit rama alterna\""
   ]
  },
  {
   "cell_type": "code",
   "execution_count": 60,
   "metadata": {},
   "outputs": [
    {
     "name": "stdout",
     "output_type": "stream",
     "text": [
      "commit af4d64e437f6984df33b77b89a4a1be2dc769aa1 (HEAD -> rama_alterna)\n",
      "Author: Jose Luis Chiquete <josech@gmail.com>\n",
      "Date:   Wed Dec 18 15:30:59 2019 -0600\n",
      "\n",
      "    primer commit rama alterna\n",
      "\n",
      "commit 5aa02bbdfad0f1ef1fb2f75666e7ede06f4873b3 (master)\n",
      "Author: Jose Luis Chiquete <josech@gmail.com>\n",
      "Date:   Wed Dec 18 15:22:36 2019 -0600\n",
      "\n",
      "    commit posterior a un soft reset\n",
      "\n",
      "commit ed7d117fc8970b297653c23ebc41936cc4ab4472\n",
      "Author: Jose Luis Chiquete <josech@gmail.com>\n",
      "Date:   Tue Dec 17 12:38:17 2019 -0600\n",
      "\n",
      "    primer commit\n"
     ]
    }
   ],
   "source": [
    "git log"
   ]
  },
  {
   "cell_type": "code",
   "execution_count": 61,
   "metadata": {},
   "outputs": [
    {
     "name": "stdout",
     "output_type": "stream",
     "text": [
      "Switched to branch 'master'\n"
     ]
    }
   ],
   "source": [
    "git checkout master"
   ]
  },
  {
   "cell_type": "code",
   "execution_count": 62,
   "metadata": {},
   "outputs": [],
   "source": [
    "touch archivo-6\n",
    "rm archivo-2"
   ]
  },
  {
   "cell_type": "code",
   "execution_count": 63,
   "metadata": {},
   "outputs": [],
   "source": [
    "git add --all"
   ]
  },
  {
   "cell_type": "code",
   "execution_count": 64,
   "metadata": {},
   "outputs": [
    {
     "name": "stdout",
     "output_type": "stream",
     "text": [
      "[master c0f65c6] commit de rebase\n",
      " 1 file changed, 0 insertions(+), 0 deletions(-)\n",
      " delete mode 100644 archivo-2\n"
     ]
    }
   ],
   "source": [
    "git commit -m \"commit de rebase\""
   ]
  },
  {
   "cell_type": "code",
   "execution_count": 65,
   "metadata": {},
   "outputs": [
    {
     "name": "stdout",
     "output_type": "stream",
     "text": [
      "commit c0f65c6fc9bf85ea3a1ddcdd2a2b6127a59d6b0d (HEAD -> master)\n",
      "Author: Jose Luis Chiquete <josech@gmail.com>\n",
      "Date:   Wed Dec 18 15:31:52 2019 -0600\n",
      "\n",
      "    commit de rebase\n",
      "\n",
      "commit 5aa02bbdfad0f1ef1fb2f75666e7ede06f4873b3\n",
      "Author: Jose Luis Chiquete <josech@gmail.com>\n",
      "Date:   Wed Dec 18 15:22:36 2019 -0600\n",
      "\n",
      "    commit posterior a un soft reset\n",
      "\n",
      "commit ed7d117fc8970b297653c23ebc41936cc4ab4472\n",
      "Author: Jose Luis Chiquete <josech@gmail.com>\n",
      "Date:   Tue Dec 17 12:38:17 2019 -0600\n",
      "\n",
      "    primer commit\n"
     ]
    }
   ],
   "source": [
    "git log"
   ]
  },
  {
   "cell_type": "code",
   "execution_count": 66,
   "metadata": {},
   "outputs": [
    {
     "name": "stdout",
     "output_type": "stream",
     "text": [
      "Switched to branch 'rama_alterna'\n"
     ]
    }
   ],
   "source": [
    "git checkout rama_alterna"
   ]
  },
  {
   "cell_type": "code",
   "execution_count": 67,
   "metadata": {
    "scrolled": true
   },
   "outputs": [
    {
     "name": "stdout",
     "output_type": "stream",
     "text": [
      "First, rewinding head to replay your work on top of it...\n",
      "Applying: primer commit rama alterna\n"
     ]
    }
   ],
   "source": [
    "git rebase master"
   ]
  },
  {
   "cell_type": "code",
   "execution_count": 68,
   "metadata": {},
   "outputs": [
    {
     "name": "stdout",
     "output_type": "stream",
     "text": [
      "  master\n",
      "  nueva\n",
      "* rama_alterna\n",
      "  restituida\n"
     ]
    }
   ],
   "source": [
    "git branch"
   ]
  },
  {
   "cell_type": "code",
   "execution_count": 69,
   "metadata": {},
   "outputs": [
    {
     "name": "stdout",
     "output_type": "stream",
     "text": [
      "commit 296df606e1a49b58224d02b39a91c12639ca71a4 (HEAD -> rama_alterna)\n",
      "Author: Jose Luis Chiquete <josech@gmail.com>\n",
      "Date:   Wed Dec 18 15:30:59 2019 -0600\n",
      "\n",
      "    primer commit rama alterna\n",
      "\n",
      "commit c0f65c6fc9bf85ea3a1ddcdd2a2b6127a59d6b0d (master)\n",
      "Author: Jose Luis Chiquete <josech@gmail.com>\n",
      "Date:   Wed Dec 18 15:31:52 2019 -0600\n",
      "\n",
      "    commit de rebase\n",
      "\n",
      "commit 5aa02bbdfad0f1ef1fb2f75666e7ede06f4873b3\n",
      "Author: Jose Luis Chiquete <josech@gmail.com>\n",
      "Date:   Wed Dec 18 15:22:36 2019 -0600\n",
      "\n",
      "    commit posterior a un soft reset\n",
      "\n",
      "commit ed7d117fc8970b297653c23ebc41936cc4ab4472\n",
      "Author: Jose Luis Chiquete <josech@gmail.com>\n",
      "Date:   Tue Dec 17 12:38:17 2019 -0600\n",
      "\n",
      "    primer commit\n"
     ]
    }
   ],
   "source": [
    "git log"
   ]
  },
  {
   "cell_type": "markdown",
   "metadata": {},
   "source": [
    "<p style=\"text-align: center\"><a rel=\"license\" href=\"http://creativecommons.org/licenses/by/4.0/\"><img alt=\"Licencia Creative Commons\" style=\"border-width:0\" src=\"https://i.creativecommons.org/l/by/4.0/80x15.png\" /></a><br />Esta obra está bajo una <a rel=\"license\" href=\"http://creativecommons.org/licenses/by/4.0/\">Licencia Creative Commons Atribución 4.0 Internacional</a>.</p>\n",
    "<p style=\"text-align: center\">&copy; José Luis Chiquete Valdivieso. 2019.</p>"
   ]
  }
 ],
 "metadata": {
  "kernelspec": {
   "display_name": "Bash",
   "language": "bash",
   "name": "bash"
  },
  "language_info": {
   "codemirror_mode": "shell",
   "file_extension": ".sh",
   "mimetype": "text/x-sh",
   "name": "bash"
  }
 },
 "nbformat": 4,
 "nbformat_minor": 2
}
