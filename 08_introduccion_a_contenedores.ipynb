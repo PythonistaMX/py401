{
 "cells": [
  {
   "cell_type": "markdown",
   "metadata": {
    "slideshow": {
     "slide_type": "slide"
    }
   },
   "source": [
    "<a href=\"https://pythonista.io\"> <img src=\"img/pythonista.png\" width=\"100px\"></a>"
   ]
  },
  {
   "cell_type": "markdown",
   "metadata": {
    "slideshow": {
     "slide_type": "slide"
    }
   },
   "source": [
    "# Particionamientos, zonas y contenedores.\n",
    "Existen casos en los que en lugar de crear entornos completamente autónomos, como es el caso de las máquinas virtuales, se ha optado por crear entornos en los cuales las operaciones de bajo nivel las realiza el sistema operativo del anfitrión mientras que a los sistemas huésped se les asignan recursos aislados tanto del anfitrión como de los otros huéspedes.\n",
    "De este modo, tanto el anfitrión como los huéspedes comparten el mismo kernel y recursos básicos del sistema, pero se ejecutan en entornos separados.\n"
   ]
  },
  {
   "cell_type": "markdown",
   "metadata": {
    "slideshow": {
     "slide_type": "subslide"
    }
   },
   "source": [
    "## Principales herramientas de contenedores.\n",
    "* Jail en \\*BSD.\n",
    "* Chroot en Linux.\n",
    "* [Linux Contaniers (LXC/LXD).](https://linuxcontainers.org/)\n",
    "* [OpenVZ.](https://openvz.org/)\n",
    "* [Linux VSever.](http://linux-vserver.org/)\n",
    "* [Docker.](http://www.docker.com/)\n",
    "* [Podman.](https://podman.io/)"
   ]
  },
  {
   "cell_type": "markdown",
   "metadata": {
    "slideshow": {
     "slide_type": "subslide"
    }
   },
   "source": [
    "## Clusterización de contenedores.\n",
    "\n",
    "* [Kubernetes.](https://kubernetes.io/)\n",
    "Es una herramienta de gestión de contenedores y de objetos desarrollada por Google que es agnóstica del tipo de contenedor.\n",
    "* [Docker Swarm.](https://docs.docker.com/engine/swarm/) \n",
    "Es el orquestador de clusters de contenedortes de Docker."
   ]
  },
  {
   "cell_type": "markdown",
   "metadata": {
    "slideshow": {
     "slide_type": "subslide"
    }
   },
   "source": [
    "## [Open Container Initiative.](https://www.opencontainers.org)\n",
    "Es un esfuerzo para regular y darle gobernanza al desarrollo de tecnologías basadas en contenedores."
   ]
  },
  {
   "cell_type": "markdown",
   "metadata": {},
   "source": [
    "## Usos de los contenedores.\n",
    "\n",
    "En la actualidad las empresa prefieren desarollar software a partir de componentes con las siguientes características:\n",
    " * Modulares.\n",
    " * Intercambiables.\n",
    " * Interoperables.\n",
    " * Sustituibles.\n",
    " * Deben de tener un desacloplamiento (decouplig) máximo.\n",
    " \n",
    " Anteriormente un sistema esa monolítico. Es decir, que un cambio en un componente podía hacer inestable a todo el sista completo. \n",
    " \n",
    " Los contendores permiten de forma ágil y económica crear sistemass con estas caracterísiticas."
   ]
  },
  {
   "cell_type": "markdown",
   "metadata": {
    "slideshow": {
     "slide_type": "slide"
    }
   },
   "source": [
    "<p style=\"text-align: center\"><a rel=\"license\" href=\"http://creativecommons.org/licenses/by/4.0/\"><img alt=\"Licencia Creative Commons\" style=\"border-width:0\" src=\"https://i.creativecommons.org/l/by/4.0/80x15.png\" /></a><br />Esta obra está bajo una <a rel=\"license\" href=\"http://creativecommons.org/licenses/by/4.0/\">Licencia Creative Commons Atribución 4.0 Internacional</a>.</p>\n",
    "<p style=\"text-align: center\">&copy; José Luis Chiquete Valdivieso. 2019.</p>"
   ]
  }
 ],
 "metadata": {
  "kernelspec": {
   "display_name": "Bash",
   "language": "bash",
   "name": "bash"
  },
  "language_info": {
   "codemirror_mode": "shell",
   "file_extension": ".sh",
   "mimetype": "text/x-sh",
   "name": "bash"
  }
 },
 "nbformat": 4,
 "nbformat_minor": 2
}
