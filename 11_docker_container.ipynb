{
 "cells": [
  {
   "cell_type": "markdown",
   "metadata": {},
   "source": [
    "[![cloudevel](Imagenes/cloudevel.png)](https://cloudevel.com)"
   ]
  },
  {
   "cell_type": "markdown",
   "metadata": {},
   "source": [
    "Es posible realizar diversas operaciones de gestión de contenedores mediante el subcomando ```docker container```.\n",
    "\n",
    "Para mayor referencia se puede consultar: https://docs.docker.com/engine/reference/commandline/container/"
   ]
  },
  {
   "cell_type": "markdown",
   "metadata": {},
   "source": [
    "## Contenedores de ejemplo.\n",
    "\n",
    "Para ilustrar las funciones de gestión de contenedores se utilizarán diversas imágenes.\n",
    "\n",
    "A continuación se crearán varios contenedores.\n",
    "\n",
    "**Advertencia:** Asegúrese de haber creado la imagen *nginx_image* creado al ejecutar la notebook [10_dockerfile.ipynb](10_dockerfile.ipynb)."
   ]
  },
  {
   "cell_type": "markdown",
   "metadata": {},
   "source": [
    "* Antes que nada es necesario asegurarse de que no existan contenedores en el sistema, por lo que las siguientes celdas los detendrán y eliminarán.\n",
    "* En el caso de que no existan contenedores, las celdas enviarán un mensaje de error."
   ]
  },
  {
   "cell_type": "code",
   "execution_count": null,
   "metadata": {},
   "outputs": [],
   "source": [
    "sudo docker stop $(sudo docker ps -a -q)"
   ]
  },
  {
   "cell_type": "code",
   "execution_count": null,
   "metadata": {
    "scrolled": true
   },
   "outputs": [],
   "source": [
    "sudo docker rm $(sudo docker ps -a -q)"
   ]
  },
  {
   "cell_type": "code",
   "execution_count": null,
   "metadata": {},
   "outputs": [],
   "source": [
    "sudo docker ps -a"
   ]
  },
  {
   "cell_type": "markdown",
   "metadata": {},
   "source": [
    "* En caso de que se esté usando esta notebook desde la VM de Cloudevel® es necesario detener el servidor Apache de dicha VM."
   ]
  },
  {
   "cell_type": "code",
   "execution_count": null,
   "metadata": {},
   "outputs": [],
   "source": [
    "sudo systemctl stop apache2\n",
    "sudo systemctl status apache2  --no-pager"
   ]
  },
  {
   "cell_type": "markdown",
   "metadata": {},
   "source": [
    "* Ahora se crearán 6 contenedores, de lo cuales  4 de ellos estarán en ejecución."
   ]
  },
  {
   "cell_type": "code",
   "execution_count": null,
   "metadata": {
    "scrolled": true
   },
   "outputs": [],
   "source": [
    "sudo docker run -d -v webroot:/var/www/html -p 80:80 --name servidor nginx_image\n",
    "sudo docker run -dti --name ubuntu-1 ubuntu /bin/bash\n",
    "sudo docker run -dti --name ubuntu-2 ubuntu /bin/bash\n",
    "sudo docker run -dti --name ubuntu-3 ubuntu /bin/bash\n",
    "sudo docker run --name ubuntu-4 ubuntu echo \"Hola\"\n",
    "sudo docker run --name ubuntu-5 ubuntu echo \"Hola otra vez\""
   ]
  },
  {
   "cell_type": "markdown",
   "metadata": {},
   "source": [
    "* Se puede apreciar que existen 4 contenedores ejecutándose.\n",
    "    * *servidor*.\n",
    "    * *ubuntu-1*.\n",
    "    * *ubuntu-2*.\n",
    "    * *ubuntu-3*."
   ]
  },
  {
   "cell_type": "code",
   "execution_count": null,
   "metadata": {
    "scrolled": true
   },
   "outputs": [],
   "source": [
    "sudo docker ps"
   ]
  },
  {
   "cell_type": "markdown",
   "metadata": {},
   "source": [
    "* También se puede apreciar que existen en total 6 contenedores en el sistema.\n",
    "    * *servidor*.\n",
    "    * *ubuntu-1*.\n",
    "    * *ubuntu-2*.\n",
    "    * *ubuntu-3*.\n",
    "    * *ubuntu-4*.\n",
    "    * *ubuntu-5*."
   ]
  },
  {
   "cell_type": "code",
   "execution_count": null,
   "metadata": {
    "scrolled": false
   },
   "outputs": [],
   "source": [
    "sudo docker ps -a"
   ]
  },
  {
   "cell_type": "markdown",
   "metadata": {},
   "source": [
    "## Comandos informativos."
   ]
  },
  {
   "cell_type": "markdown",
   "metadata": {},
   "source": [
    "### El comando ```docker container ls```."
   ]
  },
  {
   "cell_type": "markdown",
   "metadata": {},
   "source": [
    "El comando ```docker container ls``` regresa un listado de los contenedores de un sistema.\n",
    "\n",
    "Este comando puede aceptar ciertos argumentos, los cuales pueden ser consultados en https://docs.docker.com/engine/reference/commandline/container_ls/"
   ]
  },
  {
   "cell_type": "markdown",
   "metadata": {},
   "source": [
    "**Ejemplos:**\n",
    "\n",
    "* Al utilizar el comando sin argumentos, se despelgará una lista de aquellos contenedores en ejecución.  "
   ]
  },
  {
   "cell_type": "code",
   "execution_count": null,
   "metadata": {
    "scrolled": false
   },
   "outputs": [],
   "source": [
    "sudo docker container ls"
   ]
  },
  {
   "cell_type": "markdown",
   "metadata": {},
   "source": [
    "* Al utilizar el comando con el argumento *-a*, se despelgará una lista de todos los contenedores. "
   ]
  },
  {
   "cell_type": "code",
   "execution_count": null,
   "metadata": {
    "scrolled": true
   },
   "outputs": [],
   "source": [
    "sudo docker container ls -a"
   ]
  },
  {
   "cell_type": "markdown",
   "metadata": {},
   "source": [
    "* Al utilizar la opción ```--filter``` es posible aplicar un filtro en la búsqueda.\n",
    "\n",
    "Los filtros disponibles pueden ser consultados en https://docs.docker.com/engine/reference/commandline/ps/#filtering"
   ]
  },
  {
   "cell_type": "code",
   "execution_count": null,
   "metadata": {
    "scrolled": true
   },
   "outputs": [],
   "source": [
    "sudo docker container ls --filter name=ubuntu*"
   ]
  },
  {
   "cell_type": "code",
   "execution_count": null,
   "metadata": {},
   "outputs": [],
   "source": [
    "sudo docker container ls -a --filter name=ubuntu*"
   ]
  },
  {
   "cell_type": "markdown",
   "metadata": {},
   "source": [
    "### El comando ```docker container inspect```.\n",
    "\n",
    "Este comando es idéntico a ```docker inspect``` y despliega los detalles en formato JSON de uno o más contenedores.\n",
    "\n",
    "\n",
    "Referencia: \n",
    "https://docs.docker.com/engine/reference/commandline/container_inspect/"
   ]
  },
  {
   "cell_type": "markdown",
   "metadata": {},
   "source": [
    "**Ejemplo:**\n",
    "\n",
    "Se desplegará la información del contenendor con nombre *servidor*."
   ]
  },
  {
   "cell_type": "code",
   "execution_count": null,
   "metadata": {
    "scrolled": true
   },
   "outputs": [],
   "source": [
    "sudo docker container inspect servidor"
   ]
  },
  {
   "cell_type": "markdown",
   "metadata": {},
   "source": [
    "### El comando ```docker container logs```.\n",
    "\n",
    "Este comando es idéntico a ```docker logs``` y despliega la bitácora de uno o más contenedores.\n",
    "\n",
    "Referencia: https://docs.docker.com/engine/reference/commandline/container_logs/"
   ]
  },
  {
   "cell_type": "markdown",
   "metadata": {},
   "source": [
    "**Ejemplo:**\n",
    "\n",
    "Se desplegará la bitácora del contenendor con nombre *servidor*."
   ]
  },
  {
   "cell_type": "code",
   "execution_count": null,
   "metadata": {
    "scrolled": true
   },
   "outputs": [],
   "source": [
    "sudo docker container logs servidor"
   ]
  },
  {
   "cell_type": "markdown",
   "metadata": {},
   "source": [
    "### El comando ```docker container port```.\n",
    "\n",
    "Este comando es idéntico a ```docker port``` despliega la configuracion de redireccionamiento de puertos de uno o más contenedores.\n",
    "\n",
    "Referencia: https://docs.docker.com/engine/reference/commandline/container_port/"
   ]
  },
  {
   "cell_type": "markdown",
   "metadata": {},
   "source": [
    "**Ejemplo:**\n",
    "\n",
    "Se desplegará la comfiguración de reenvío de puertos del contenendor con nombre *servidor*."
   ]
  },
  {
   "cell_type": "code",
   "execution_count": null,
   "metadata": {
    "scrolled": false
   },
   "outputs": [],
   "source": [
    "sudo docker container port servidor"
   ]
  },
  {
   "cell_type": "markdown",
   "metadata": {},
   "source": [
    "### El comando ```docker container top```.\n",
    "\n",
    "Este comando es idéntico a ```docker top``` y despliega los procesos ejecutándose al momento en un contenedor.\n",
    "\n",
    "Referencia: https://docs.docker.com/engine/reference/commandline/container_top/"
   ]
  },
  {
   "cell_type": "markdown",
   "metadata": {},
   "source": [
    "**Ejemplo:**\n",
    "\n",
    "Se desplegará la información de los procesos en ejecución dentro del contenendor con nombre *servidor*."
   ]
  },
  {
   "cell_type": "code",
   "execution_count": null,
   "metadata": {
    "scrolled": true
   },
   "outputs": [],
   "source": [
    "sudo docker container top servidor"
   ]
  },
  {
   "cell_type": "markdown",
   "metadata": {},
   "source": [
    "### El comando ```docker container stats```.\n",
    "\n",
    "Este comando es idéntico a ```docker stats``` y despliega las estadísticas de uso de un contenedor de forma continua.\n",
    "\n",
    "Referencia: https://docs.docker.com/engine/reference/commandline/container_stats/\n",
    "\n",
    "**Ejemplos: **\n",
    "\n",
    "* Al ejecutar el siguiente comando desde una terminal, se desplegarán las estadísticas de todos los contenedores en ejecución. \n",
    "\n",
    "```sudo docker container stats```\n",
    "\n",
    "* Al ejecutar el siguiente comando desde una terminal, se desplegarán las estadísticas del contenedor *servidor*. \n",
    "\n",
    "```sudo docker container stats servidor```"
   ]
  },
  {
   "cell_type": "markdown",
   "metadata": {},
   "source": [
    "### El comando ```docker container diff```.\n",
    "\n",
    "Este comando es idéntico a ```docker diff``` y despliega los cambios ocurridos en un contenedor desde su creación en orden cronológico.\n",
    "\n",
    "Dichos cambios son de 3 tipos a los cuales se les asocia una de las siguientes letras:\n",
    "\n",
    "* *C* cuando un archivo o directorio es modificado.\n",
    "* *A* cuando un archivo o directorio ha sido añadido.\n",
    "* *D* cuando un archivo o directorio ha sido eliminado.\n",
    "\n",
    "Referencia: https://docs.docker.com/engine/reference/commandline/container_diff/\n",
    "\n",
    "**Ejemplo:**"
   ]
  },
  {
   "cell_type": "code",
   "execution_count": null,
   "metadata": {},
   "outputs": [],
   "source": [
    "sudo docker container diff servidor"
   ]
  },
  {
   "cell_type": "markdown",
   "metadata": {},
   "source": [
    "## Comandos de interacción con contenedores."
   ]
  },
  {
   "cell_type": "markdown",
   "metadata": {},
   "source": [
    "### El comando ```docker container attach```.\n",
    "\n",
    "Este comando es idéntico a ```docker attach``` y transfiere la entrada y salida estándar de un contenedor a la terminal desde la que se ejecuta el comando.\n",
    "\n",
    "Referencia: https://docs.docker.com/engine/reference/commandline/container_attach/\n",
    "\n",
    "**Ejemplo:**\n",
    "\n",
    "* Al ejecutar el siguiente comando en una terminal, a la entrada y salida estándar de dicha terminal estará ligada a la entrada y salida estándar del contenedor con nombre *servidor*. \n",
    "```\n",
    "sudo docker container attach ubuntu-2\n",
    "```"
   ]
  },
  {
   "cell_type": "markdown",
   "metadata": {},
   "source": [
    "### El comando ```docker container cp```.\n",
    "\n",
    "Este comando es idéntico a ```docker cp ``` y realiza la copia de archivos entre el sistema de archivos de anfitrión y el de un contenedor.\n",
    "\n",
    "Referencia: https://docs.docker.com/engine/reference/commandline/container_cp/"
   ]
  },
  {
   "cell_type": "markdown",
   "metadata": {},
   "source": [
    "**Ejemplo:**\n",
    "\n",
    "* El contenedor llamado *servidor* corre un servidor Nginx y despliega el contenido por defecto de dicho servidor.\n",
    "\n",
    "En caso de estar ejecutando esta notebook desde la VM publicada en el sitio de Cloudevel®, el servicio puede ser accedido desde [http://localhost:8980](http://localhost:8980).\n",
    "\n",
    "En caso de estar ejecutando esta notebook desde un sistema local, el servicio puede ser accedido desde [http://localhost](http://localhost).\n",
    "\n",
    "* A continuación se realizará le copiará el archivo [src/index.html](src/index.html), el cual sustituirá a la página por defecto de Nginx.\n",
    "\n",
    "**ADVERTENCIA:** Asegúrese que el servidor Apache de la VM proporcionada por Cloudevel® esté deshabilitado."
   ]
  },
  {
   "cell_type": "code",
   "execution_count": null,
   "metadata": {},
   "outputs": [],
   "source": [
    "sudo docker container cp src/index.html servidor:/var/www/html/"
   ]
  },
  {
   "cell_type": "markdown",
   "metadata": {},
   "source": [
    "### El comando ```docker container exec```.\n",
    "\n",
    "Este comando es idéntico a ```docker exec``` y envía al contenedor un comando para ser ejecutado por este y la salida estándar de dico comando será desplegada.\n",
    "\n",
    "Referencia: https://docs.docker.com/engine/reference/commandline/container_exec/"
   ]
  },
  {
   "cell_type": "markdown",
   "metadata": {},
   "source": [
    "**Ejemplo:**\n",
    "La siguiente celda desplegará el listado del directorio */var/www/html* del contenedor llamado *servidor*."
   ]
  },
  {
   "cell_type": "code",
   "execution_count": null,
   "metadata": {},
   "outputs": [],
   "source": [
    "sudo docker container exec servidor ls /var/www/html"
   ]
  },
  {
   "cell_type": "markdown",
   "metadata": {},
   "source": [
    "## Comandos de gestión de contenedores."
   ]
  },
  {
   "cell_type": "markdown",
   "metadata": {},
   "source": [
    "### El comando ```docker container rename```.\n",
    "\n",
    "Este comando es idéntico a ```docker rename``` y cambia el nombre de un contenedor.\n",
    "\n",
    "Referencia: https://docs.docker.com/engine/reference/commandline/container_rename/"
   ]
  },
  {
   "cell_type": "markdown",
   "metadata": {},
   "source": [
    "**Ejemplo:**\n",
    "\n",
    "La siguiente celda cambirará el nombre del contenedor *servidor* a *nginx*."
   ]
  },
  {
   "cell_type": "code",
   "execution_count": null,
   "metadata": {},
   "outputs": [],
   "source": [
    "sudo docker container rename servidor nginx"
   ]
  },
  {
   "cell_type": "code",
   "execution_count": null,
   "metadata": {},
   "outputs": [],
   "source": [
    "sudo docker container ls --filter name=nginx"
   ]
  },
  {
   "cell_type": "markdown",
   "metadata": {},
   "source": [
    "### El comando ```docker container pause```.\n",
    "\n",
    "Este comando es idéntico a ```docker pause``` y se encarga de detener todos los procesos en ejecución dentro de un contenedor.\n",
    "\n",
    "Referencia: https://docs.docker.com/engine/reference/commandline/container_pause/"
   ]
  },
  {
   "cell_type": "markdown",
   "metadata": {},
   "source": [
    "**Ejemplo:**"
   ]
  },
  {
   "cell_type": "code",
   "execution_count": null,
   "metadata": {},
   "outputs": [],
   "source": [
    "sudo docker container pause nginx"
   ]
  },
  {
   "cell_type": "code",
   "execution_count": null,
   "metadata": {},
   "outputs": [],
   "source": [
    "sudo docker container ls --filter name=nginx"
   ]
  },
  {
   "cell_type": "markdown",
   "metadata": {},
   "source": [
    "### El comando ```docker container unpause```.\n",
    "\n",
    "Este comando es idéntico a ```docker unpause``` y reinicia la ejecución de un contenedor pausado.\n",
    "\n",
    "https://docs.docker.com/engine/reference/commandline/container_unpause/"
   ]
  },
  {
   "cell_type": "markdown",
   "metadata": {},
   "source": [
    "**Ejemplo:**"
   ]
  },
  {
   "cell_type": "code",
   "execution_count": null,
   "metadata": {},
   "outputs": [],
   "source": [
    "sudo docker container unpause nginx"
   ]
  },
  {
   "cell_type": "code",
   "execution_count": null,
   "metadata": {},
   "outputs": [],
   "source": [
    "sudo docker container ls --filter name=nginx"
   ]
  },
  {
   "cell_type": "markdown",
   "metadata": {},
   "source": [
    "### El comando ```docker container stop```.\n",
    "\n",
    "Este comando es idéntico a ```docker stop``` y envía una señal de apagado de un contenedor en ejecución.\n",
    "\n",
    "https://docs.docker.com/engine/reference/commandline/container_stop/"
   ]
  },
  {
   "cell_type": "markdown",
   "metadata": {},
   "source": [
    "**Ejemplo:**"
   ]
  },
  {
   "cell_type": "code",
   "execution_count": null,
   "metadata": {},
   "outputs": [],
   "source": [
    "sudo docker container stop ubuntu-1"
   ]
  },
  {
   "cell_type": "code",
   "execution_count": null,
   "metadata": {
    "scrolled": true
   },
   "outputs": [],
   "source": [
    "sudo docker container ls --filter name=ubuntu-1"
   ]
  },
  {
   "cell_type": "markdown",
   "metadata": {},
   "source": [
    "### El comando ```docker container start```.\n",
    "\n",
    "Este comando es idéntico a ```docker start``` e inicia la ejecución de un contenedor.\n",
    "\n",
    "https://docs.docker.com/engine/reference/commandline/container_start/"
   ]
  },
  {
   "cell_type": "markdown",
   "metadata": {},
   "source": [
    "**Ejemplo:**"
   ]
  },
  {
   "cell_type": "code",
   "execution_count": null,
   "metadata": {},
   "outputs": [],
   "source": [
    "sudo docker container start ubuntu-1"
   ]
  },
  {
   "cell_type": "code",
   "execution_count": null,
   "metadata": {},
   "outputs": [],
   "source": [
    "sudo docker container ls --filter name=ubuntu-1"
   ]
  },
  {
   "cell_type": "markdown",
   "metadata": {},
   "source": [
    "### El comando ```docker container restart```.\n",
    "\n",
    "Este comando es idéntico a ```docker restart``` y reinicia a un contenedor en ejecución.\n",
    "\n",
    "https://docs.docker.com/engine/reference/commandline/container_restart/"
   ]
  },
  {
   "cell_type": "markdown",
   "metadata": {},
   "source": [
    "**Ejemplo:**"
   ]
  },
  {
   "cell_type": "code",
   "execution_count": null,
   "metadata": {},
   "outputs": [],
   "source": [
    "sudo docker container restart ubuntu-1"
   ]
  },
  {
   "cell_type": "markdown",
   "metadata": {},
   "source": [
    "### El comando ```docker container kill```.\n",
    "\n",
    "Este comando es idéntico a ```docker kill``` y destruye a un contenedor. Se utiliza cuando un contenedor no puede ser detenido mediante el comando ```docker container stop```.\n",
    "\n",
    "https://docs.docker.com/engine/reference/commandline/container_kill/"
   ]
  },
  {
   "cell_type": "markdown",
   "metadata": {},
   "source": [
    "**Ejemplo:**"
   ]
  },
  {
   "cell_type": "code",
   "execution_count": null,
   "metadata": {},
   "outputs": [],
   "source": [
    "sudo docker container kill ubuntu-1"
   ]
  },
  {
   "cell_type": "markdown",
   "metadata": {},
   "source": [
    "### El comando ```docker container rm```.\n",
    "\n",
    "Este comando es idéntico a ```docker rm``` y elimina a un contenedor.\n",
    "\n",
    "https://docs.docker.com/engine/reference/commandline/container_kill/"
   ]
  },
  {
   "cell_type": "markdown",
   "metadata": {},
   "source": [
    "**Ejemplo:**"
   ]
  },
  {
   "cell_type": "code",
   "execution_count": null,
   "metadata": {},
   "outputs": [],
   "source": [
    "sudo docker container rm ubuntu-1"
   ]
  },
  {
   "cell_type": "code",
   "execution_count": null,
   "metadata": {
    "scrolled": true
   },
   "outputs": [],
   "source": [
    "sudo docker container ls -a --filter name=ubuntu*"
   ]
  },
  {
   "cell_type": "markdown",
   "metadata": {},
   "source": [
    "### El comando ```docker container prune```\n",
    "\n",
    "https://docs.docker.com/engine/reference/commandline/container_prune/"
   ]
  },
  {
   "cell_type": "code",
   "execution_count": null,
   "metadata": {},
   "outputs": [],
   "source": [
    "sudo docker ps -a"
   ]
  },
  {
   "cell_type": "code",
   "execution_count": null,
   "metadata": {},
   "outputs": [],
   "source": [
    "sudo docker container prune -f"
   ]
  },
  {
   "cell_type": "code",
   "execution_count": null,
   "metadata": {
    "scrolled": false
   },
   "outputs": [],
   "source": [
    "sudo docker ps -a"
   ]
  },
  {
   "cell_type": "markdown",
   "metadata": {},
   "source": [
    "### El comando ```docker container export```.\n",
    "\n",
    "Este comando es idéntico a ```docker export``` y su función es crear un archivo que contengan la información necesarioa para reconstruir un contenedor.\n",
    "\n",
    "https://docs.docker.com/engine/reference/commandline/container_export/"
   ]
  },
  {
   "cell_type": "code",
   "execution_count": null,
   "metadata": {},
   "outputs": [],
   "source": [
    "sudo docker container export nginx -o nginx.tar"
   ]
  },
  {
   "cell_type": "code",
   "execution_count": null,
   "metadata": {},
   "outputs": [],
   "source": [
    "ls *.tar"
   ]
  },
  {
   "cell_type": "markdown",
   "metadata": {},
   "source": [
    "### El comando ```docker container commit```.\n",
    "\n",
    "Este comando es idéntico a ```docker commit```.\n",
    "\n",
    "https://docs.docker.com/engine/reference/commandline/container_commit/"
   ]
  },
  {
   "cell_type": "code",
   "execution_count": null,
   "metadata": {},
   "outputs": [],
   "source": [
    "sudo docker commit nginx nginx:123"
   ]
  },
  {
   "cell_type": "code",
   "execution_count": null,
   "metadata": {},
   "outputs": [],
   "source": [
    "sudo docker images"
   ]
  },
  {
   "cell_type": "markdown",
   "metadata": {},
   "source": [
    "<p style=\"text-align: center\"><a rel=\"license\" href=\"http://creativecommons.org/licenses/by/4.0/\"><img alt=\"Licencia Creative Commons\" style=\"border-width:0\" src=\"https://i.creativecommons.org/l/by/4.0/80x15.png\" /></a><br />Esta obra está bajo una <a rel=\"license\" href=\"http://creativecommons.org/licenses/by/4.0/\">Licencia Creative Commons Atribución 4.0 Internacional</a>.</p>\n",
    "<p style=\"text-align: center\">&copy; José Luis Chiquete Valdivieso. 2019.</p>"
   ]
  }
 ],
 "metadata": {
  "kernelspec": {
   "display_name": "Bash",
   "language": "bash",
   "name": "bash"
  },
  "language_info": {
   "codemirror_mode": "shell",
   "file_extension": ".sh",
   "mimetype": "text/x-sh",
   "name": "bash"
  }
 },
 "nbformat": 4,
 "nbformat_minor": 2
}
