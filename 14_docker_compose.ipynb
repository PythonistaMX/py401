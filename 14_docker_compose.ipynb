{
 "cells": [
  {
   "cell_type": "markdown",
   "metadata": {},
   "source": [
    "<a href=\"https://pythonista.io\"> <img src=\"img/pythonista.png\" width=\"100px\"></a>"
   ]
  },
  {
   "cell_type": "markdown",
   "metadata": {},
   "source": [
    "# Introducción a *Docker Compose*."
   ]
  },
  {
   "cell_type": "markdown",
   "metadata": {},
   "source": [
    "**ADVERTENCIA:**\n",
    "\n",
    "Se da por sentado de que *Docker* ya ha sido instalado y está habilitado en el sistema."
   ]
  },
  {
   "cell_type": "markdown",
   "metadata": {},
   "source": [
    "Conforme los contenedores, y particularmente *Docker*, se fueron popularizando, las arquitecturas de servicios basadas en contendores se fueron haciendo cada vez más complejas. El alcance de los *Dockerfiles* se vio restringido a desplegar unos cuantos contenedores cuando en muchos casos, era necesario crear varios servicios de forma simultánea."
   ]
  },
  {
   "cell_type": "markdown",
   "metadata": {},
   "source": [
    "## *Docker Compose*.\n",
    "\n",
    "[Docker Compose](https://github.com/docker/compose/) es una herralienta que permite definir la estructura y los servicios de un cluster de contenedores."
   ]
  },
  {
   "cell_type": "markdown",
   "metadata": {},
   "source": [
    "### Ventajas del uso de *Docker Compose*.\n",
    "\n",
    "* Despliegue de múltiples entornos aislados unos de otros desde un anfitrión único.\n",
    "* Preservación de los volúmentes creados por dichos entornos en un afitrión.\n",
    "* Permite reconstruir sólo aquellos contenedores que sufren modificaciones.\n",
    "* Permite el uso de variables en la definición de entornos, permitiendo crear entornos distintos tan sólo con la modificación de dichas variables.\n",
    " "
   ]
  },
  {
   "cell_type": "markdown",
   "metadata": {},
   "source": [
    "## Instalación de *Docker Compose*.\n",
    "\n",
    "*Docker Compose*  es un proyecto de código abierto escrito en Python, por lo que es posible tener acceso al código de éste. Sin embargo, el proyecto ofrece los binarios para las platafomas más comunes (GNU/Linux, Windows y OS X primordialmente.\n",
    "\n",
    "### *Docker Compose* en *Docker Desktop*.\n",
    "\n",
    "*Docker Compose* ya se encuentra incluido en [*Docker Descktop*](https://www.docker.com/products/docker-desktop) para las plataformas *Windows* y *Mac OS X*."
   ]
  },
  {
   "cell_type": "markdown",
   "metadata": {},
   "source": [
    "### Descarga e instalación de *Docker Compose* usando los binarios."
   ]
  },
  {
   "cell_type": "code",
   "execution_count": null,
   "metadata": {
    "scrolled": false
   },
   "outputs": [],
   "source": [
    "sudo curl -L https://github.com/docker/compose/releases/download/1.25.0/docker-compose-Linux-x86_64 -o /usr/local/bin/docker-"
   ]
  },
  {
   "cell_type": "code",
   "execution_count": null,
   "metadata": {},
   "outputs": [],
   "source": [
    "ls /usr/local/bin/docker-compose"
   ]
  },
  {
   "cell_type": "code",
   "execution_count": null,
   "metadata": {},
   "outputs": [],
   "source": [
    "sudo chmod +x /usr/local/bin/docker-compose"
   ]
  },
  {
   "cell_type": "code",
   "execution_count": null,
   "metadata": {
    "scrolled": true
   },
   "outputs": [],
   "source": [
    "docker-compose version"
   ]
  },
  {
   "cell_type": "code",
   "execution_count": null,
   "metadata": {},
   "outputs": [],
   "source": [
    "sudo rm /usr/local/bin/docker-compose"
   ]
  },
  {
   "cell_type": "markdown",
   "metadata": {},
   "source": [
    "## Los archivos *compose*.\n",
    "\n",
    "Los archivos *compose* son archivos similares a los *Dockerfiles* y utilizan [*YAML*](https://yaml.org/), un formato derivado de *JSON*,  los cuales permiten describir de forma detallada la estructura, contenido y funcionamiento de una serie de servicios basados en el despliegue de de contenedores."
   ]
  },
  {
   "cell_type": "markdown",
   "metadata": {},
   "source": [
    "### Estrucutra de los archivos *compose*.\n",
    "\n",
    "Los archivos *compose* utilizan una serie de elementos sintácticos que defi\n",
    "https://docs.docker.com/compose/compose-file/"
   ]
  },
  {
   "cell_type": "markdown",
   "metadata": {},
   "source": [
    "### El archivo ```src/13/docker-compose.yaml```\n",
    "\n",
    "``` yaml\n",
    "version: '3'\n",
    "services:\n",
    "    database: \n",
    "        image: mysql\n",
    "        environment: \n",
    "            MYSQL_ROOT_PASSWORD: 0p3n5t4ck\n",
    "    webserver:\n",
    "        image: nginx:alpine\n",
    "        ports:\n",
    "            - 8080:80\n",
    "        depends_on:\n",
    "            - cache\n",
    "            - database\n",
    "    cache:\n",
    "        image: redis\n",
    "```"
   ]
  },
  {
   "cell_type": "code",
   "execution_count": null,
   "metadata": {},
   "outputs": [],
   "source": [
    "cat src/13/docker-compose.yaml"
   ]
  },
  {
   "cell_type": "code",
   "execution_count": null,
   "metadata": {},
   "outputs": [],
   "source": [
    "cp src/13/docker-compose.yaml ."
   ]
  },
  {
   "cell_type": "markdown",
   "metadata": {},
   "source": [
    "### Subcomandos de *Docker Compose*.\n",
    "\n",
    "https://docs.docker.com/compose/reference/overview/"
   ]
  },
  {
   "cell_type": "markdown",
   "metadata": {},
   "source": [
    "Ejecute el siguiente comando desde la terminal.\n",
    "\n",
    "```\n",
    "sudo docker-compose up\n",
    "```"
   ]
  },
  {
   "cell_type": "code",
   "execution_count": null,
   "metadata": {},
   "outputs": [],
   "source": [
    "sudo docker ps"
   ]
  },
  {
   "cell_type": "code",
   "execution_count": null,
   "metadata": {},
   "outputs": [],
   "source": [
    "sudo docker-compose stop"
   ]
  },
  {
   "cell_type": "markdown",
   "metadata": {},
   "source": [
    "<p style=\"text-align: center\"><a rel=\"license\" href=\"http://creativecommons.org/licenses/by/4.0/\"><img alt=\"Licencia Creative Commons\" style=\"border-width:0\" src=\"https://i.creativecommons.org/l/by/4.0/80x15.png\" /></a><br />Esta obra está bajo una <a rel=\"license\" href=\"http://creativecommons.org/licenses/by/4.0/\">Licencia Creative Commons Atribución 4.0 Internacional</a>.</p>\n",
    "<p style=\"text-align: center\">&copy; José Luis Chiquete Valdivieso. 2019.</p>"
   ]
  }
 ],
 "metadata": {
  "kernelspec": {
   "display_name": "Bash",
   "language": "bash",
   "name": "bash"
  },
  "language_info": {
   "codemirror_mode": "shell",
   "file_extension": ".sh",
   "mimetype": "text/x-sh",
   "name": "bash"
  }
 },
 "nbformat": 4,
 "nbformat_minor": 2
}
