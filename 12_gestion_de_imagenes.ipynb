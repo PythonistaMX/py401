{
 "cells": [
  {
   "cell_type": "markdown",
   "metadata": {},
   "source": [
    "<a href=\"https://pythonista.io\"> <img src=\"img/pythonista.png\" width=\"100px\"></a>"
   ]
  },
  {
   "cell_type": "markdown",
   "metadata": {},
   "source": [
    "El concepto de \"contenedor\" implica que éstos pueden ser creados con el menor esfuerzo a partir de imágenes disponibles en repositorios locales y en línea. "
   ]
  },
  {
   "cell_type": "markdown",
   "metadata": {},
   "source": [
    "**ADVERTENCIA:**\n",
    "\n",
    "Se da por sentado de que las celdas de los capítulos previos fueron ejecutadas y que existen imágenes cargadas en el sistema."
   ]
  },
  {
   "cell_type": "markdown",
   "metadata": {},
   "source": [
    "## Los *registry* y *Docker Hub*.\n",
    "\n",
    "Una de las funcionalidades más relevantes de Docker es la de poder acceder a determinados repositorios en línea y traer imágenes o *Dockfiles* para crear contenedores de forma local. A estos concentradores de repositoprios se les conoce como *registry*."
   ]
  },
  {
   "cell_type": "markdown",
   "metadata": {},
   "source": [
    "### *Docker Hub*.\n",
    "\n",
    "El *registry* al que Docker accede de forma predeterminada es *Docker Hub*.\n",
    "\n",
    "*Docker Hub* cuenta con un amplio catálogo de repositorios públicos y permite a cualquier persona darse de alta y crear repositorios propios tanto públicos como privados dependiendo del plan de suscripción. El plan gratuito sólo permite crear repositorios públicos.\n",
    "\n",
    "\n",
    "*Docker Hub* se encuentra en https://hub.docker.com/"
   ]
  },
  {
   "cell_type": "markdown",
   "metadata": {},
   "source": [
    "Cada vez que se utiliza ```docker run``` el daemon busca la imagen a la que se hace referencia en el sistema local y en caso de no encontrarla, la busca en Docker Hub."
   ]
  },
  {
   "cell_type": "markdown",
   "metadata": {},
   "source": [
    "### Identificación de una imagen o un *Dockerfile* en un *registry* mediante etiquetas.\n",
    "\n",
    "Cada repositorio de un *registry* tiene un nombre único y a su vez cada imagen dentro del repositorio tienen un nombre y una etiqueta o *tag*.\n",
    "\n",
    "El *tag* que se busca y asigna por defecto es *latest*.\n",
    "\n",
    "Las imágenes de docker pueden ser identificadas en un *registry* usando la siguiente estructura:\n",
    "\n",
    "```\n",
    "<nombre del repositorio>/<nombre>:<tag>\n",
    "```\n",
    "\n",
    "En el caso de acceder a *Docker Hub* sólo es necesario indicar el tag. En caso contrario es necesario indicar la URL del servidor del *registry*.\n",
    "\n",
    "```\n",
    "<URL>/<nombre del repositorio>/<nombre>:<tag>\n",
    "```"
   ]
  },
  {
   "cell_type": "markdown",
   "metadata": {},
   "source": [
    "**Ejemplo:**\n",
    "\n",
    "* El repositorio oficial de CentOS es https://hub.docker.com/_/centos y en este repositorio se encuentran varios *Dockerfiles* de diversas versiones de CentOS.\n",
    "* La estructura que identifica al *Dockerfile* para construir una imagen de CentOS 6.10 es:\n",
    "\n",
    "```centos:6.10```"
   ]
  },
  {
   "cell_type": "markdown",
   "metadata": {},
   "source": [
    "## El comando ```docker search```.\n",
    "\n",
    "El comando ```docker search``` permite realizar una búsqueda de imágenes en los repositorios de *Docker Hub* a partir de un término.\n",
    "\n",
    "```\n",
    "docker search <argumentos> <termino>\n",
    "```\n",
    "\n",
    "Referencia: https://docs.docker.com/engine/reference/commandline/search/"
   ]
  },
  {
   "cell_type": "markdown",
   "metadata": {},
   "source": [
    "**Ejemplo:** \n",
    "\n",
    "Se realizará una búsqueda de todas las imágines y Dockerfiles que coincidan con el término *Jupyter*."
   ]
  },
  {
   "cell_type": "code",
   "execution_count": null,
   "metadata": {
    "scrolled": false
   },
   "outputs": [],
   "source": [
    "sudo docker search jupyter"
   ]
  },
  {
   "cell_type": "markdown",
   "metadata": {},
   "source": [
    "**ADVERTENCIA:** Existe una enorme cantidad de recursos disponibles en *Docker Hub*, pero no todos estos recursos son seguros y sólo una pequeña parte de estos ha sido validado por Docker o por los fabricantes. Se recomienda utilizar únicamente recursos oficiales o de plena confianza."
   ]
  },
  {
   "cell_type": "markdown",
   "metadata": {},
   "source": [
    "## El comando ```docker login```.\n",
    "\n",
    "Es muy importante que los *registry* cuenten con métodos de autenticación que garanticen la seguridad de los usuarios, por lo que para aceder a *Docker Hub* y a *registries* que hayan implementado dichos métodos es necesario presentar las credenciales adecuadas.\n",
    "\n",
    "El comando ```docker login``` permite la autenticación de un usuario a un *registry*.\n",
    "\n",
    "```docker login <argumentos>```\n",
    "\n",
    "Hay muchas formas de autenticarse mediante ```docker login``` y se recomienda consultar la siguiente referncia:\n",
    "\n",
    "https://docs.docker.com/engine/reference/commandline/login/\n",
    "\n",
    "En caso de que el registro sea exitoso, se creará una sesión en el equipo local que permitiría interacrtuar con el *registry*."
   ]
  },
  {
   "cell_type": "markdown",
   "metadata": {},
   "source": [
    "**Ejemplo:**\n",
    "\n",
    "* La siguiente celda permitirá acceder a un usuario que ya ha sido registrado en *Docker Hub* utilizando un nombre y una constraeña válida, la cual debe de ser escrita dentro del archivo ```contrasena.txt```.\n",
    "\n",
    "    * El argumento ```pythonista``` del parámetro ```-u``` debe de ser sustituido por un nombre de usuario válido.\n",
    "    * El parámetro ```--password-stdin``` permite capturar la contraseña desde la entrada estándar de una terminal. En este caso, este parámetro usará como contraseña el contenido que el comando ```cat``` extarerá del archivo ```contrasena.txt```. \n",
    "    \n",
    "**ADVERTENCIA:**\n",
    "\n",
    "Para poder ejecutar varios ejemplos de este capítulo es necesario que el registro de esta celda haya sido exitoso."
   ]
  },
  {
   "cell_type": "code",
   "execution_count": 17,
   "metadata": {
    "scrolled": false
   },
   "outputs": [
    {
     "name": "stdout",
     "output_type": "stream",
     "text": [
      "Reading package lists... Done\n",
      "Building dependency tree       \n",
      "Reading state information... Done\n",
      "ca-certificates is already the newest version (20180409).\n",
      "curl is already the newest version (7.58.0-2ubuntu3.8).\n",
      "dbus-x11 is already the newest version (1.12.2-1ubuntu1.1).\n",
      "software-properties-common is already the newest version (0.96.24.32.11).\n",
      "apt-transport-https is already the newest version (1.6.12).\n",
      "0 upgraded, 0 newly installed, 0 to remove and 5 not upgraded.\n"
     ]
    }
   ],
   "source": [
    "sudo apt install -y dbus-x11 apt-transport-https ca-certificates curl software-properties-common"
   ]
  },
  {
   "cell_type": "code",
   "execution_count": 16,
   "metadata": {},
   "outputs": [
    {
     "name": "stdout",
     "output_type": "stream",
     "text": [
      "Error saving credentials: error storing credentials - err: exit status 1, out: `Cannot autolaunch D-Bus without X11 $DISPLAY`\n"
     ]
    },
    {
     "ename": "",
     "evalue": "1",
     "output_type": "error",
     "traceback": []
    }
   ],
   "source": [
    "cat contrasena.txt | sudo docker login -u pythonistaio --password-stdin"
   ]
  },
  {
   "cell_type": "markdown",
   "metadata": {},
   "source": [
    "## El comando ```docker image```.\n",
    "\n",
    "Este comando cuenta a su vez con subcomandos especializados para la gestión de imágenes."
   ]
  },
  {
   "cell_type": "markdown",
   "metadata": {},
   "source": [
    "### El comando ```docker image ls```.\n",
    "\n",
    "Este comando es idéntico a ```docker images``` y despliega un listado de las imágenes existentes en un entorno local.\n",
    "\n",
    "```\n",
    "docker image ls\n",
    "``` \n",
    "\n",
    "Referencia: https://docs.docker.com/engine/reference/commandline/image_ls/"
   ]
  },
  {
   "cell_type": "markdown",
   "metadata": {},
   "source": [
    "**Ejemplo:**"
   ]
  },
  {
   "cell_type": "code",
   "execution_count": 18,
   "metadata": {},
   "outputs": [
    {
     "name": "stdout",
     "output_type": "stream",
     "text": [
      "REPOSITORY          TAG                 IMAGE ID            CREATED             SIZE\n",
      "nginx               123                 9257780397e4        3 days ago          253MB\n",
      "nginx_image         latest              b5ac233d1da5        3 days ago          253MB\n",
      "<none>              <none>              48b0dc20c2a2        3 days ago          253MB\n",
      "ubuntu              16.04               56bab49eef2e        13 days ago         123MB\n",
      "ubuntu              latest              775349758637        5 weeks ago         64.2MB\n",
      "centos              latest              0f3e07c0138f        2 months ago        220MB\n",
      "hello-world         latest              fce289e99eb9        11 months ago       1.84kB\n",
      "jenkins             latest              cd14cecfdb3a        17 months ago       696MB\n"
     ]
    }
   ],
   "source": [
    "sudo docker image ls"
   ]
  },
  {
   "cell_type": "code",
   "execution_count": 19,
   "metadata": {},
   "outputs": [
    {
     "name": "stdout",
     "output_type": "stream",
     "text": [
      "REPOSITORY          TAG                 IMAGE ID            CREATED             SIZE\n",
      "nginx               123                 9257780397e4        3 days ago          253MB\n",
      "nginx_image         latest              b5ac233d1da5        3 days ago          253MB\n",
      "<none>              <none>              48b0dc20c2a2        3 days ago          253MB\n",
      "ubuntu              16.04               56bab49eef2e        13 days ago         123MB\n",
      "ubuntu              latest              775349758637        5 weeks ago         64.2MB\n",
      "centos              latest              0f3e07c0138f        2 months ago        220MB\n",
      "hello-world         latest              fce289e99eb9        11 months ago       1.84kB\n",
      "jenkins             latest              cd14cecfdb3a        17 months ago       696MB\n"
     ]
    }
   ],
   "source": [
    "sudo docker images"
   ]
  },
  {
   "cell_type": "markdown",
   "metadata": {},
   "source": [
    "### El comando ```docker image build```.\n",
    "\n",
    "Este comando es idéntico a ```docker build``` y permite crear una imagen a partir de un *Dockerfile*.\n",
    "\n",
    "```\n",
    "docker image build <dockerfile>\n",
    "```\n",
    "\n",
    "Referencia: https://docs.docker.com/engine/reference/commandline/image_build/\n",
    "\n",
    "En el capítulo [09_dockerfile.ipynb](09_dockerfile.ipynb) se exploró la forma de crear imágenes a partir de un *Dockerfile*."
   ]
  },
  {
   "cell_type": "markdown",
   "metadata": {},
   "source": [
    "### El comando ```docker image pull```.\n",
    "\n",
    "Este comando es idéntico a ```docker pull``` y permite acceder a un *registry* y descargar o construir una imagen a partir de un repositorio.\n",
    "\n",
    "```\n",
    "docker image pull <fuente de la imagen>\n",
    "```\n",
    "\n",
    "Referencia: https://docs.docker.com/engine/reference/commandline/image_pull/"
   ]
  },
  {
   "cell_type": "markdown",
   "metadata": {},
   "source": [
    "**Ejemplos:**\n",
    "\n",
    "\n",
    "* Se construirá la imagen oficial de la versión 6.10 de CentOS desde *Docker Hub*."
   ]
  },
  {
   "cell_type": "code",
   "execution_count": null,
   "metadata": {
    "scrolled": true
   },
   "outputs": [],
   "source": [
    "sudo docker image pull centos:6.10"
   ]
  },
  {
   "cell_type": "code",
   "execution_count": null,
   "metadata": {},
   "outputs": [],
   "source": [
    "sudo docker images"
   ]
  },
  {
   "cell_type": "markdown",
   "metadata": {},
   "source": [
    "* Se descargará la imagen *cloudevel/cd331:version_1* localizada en https://hub.docker.com/r/cloudevel/cd331/tags"
   ]
  },
  {
   "cell_type": "code",
   "execution_count": null,
   "metadata": {},
   "outputs": [],
   "source": [
    "sudo docker image pull cloudevel/cd331:version_1"
   ]
  },
  {
   "cell_type": "code",
   "execution_count": null,
   "metadata": {
    "scrolled": true
   },
   "outputs": [],
   "source": [
    "sudo docker images"
   ]
  },
  {
   "cell_type": "markdown",
   "metadata": {},
   "source": [
    "### El comando ```docker image inspect```.\n",
    "\n",
    "Este comando regresa un documento JSON con los detalles de una imagen.\n",
    "\n",
    "```\n",
    "docker image inspect <imagen>\n",
    "```\n",
    "\n",
    "Referencia: https://docs.docker.com/engine/reference/commandline/image_inspect/"
   ]
  },
  {
   "cell_type": "markdown",
   "metadata": {},
   "source": [
    "**Ejemplo:**\n",
    "\n",
    "* Se desplegarán los detalles de la imagen ```centos:6.10```."
   ]
  },
  {
   "cell_type": "code",
   "execution_count": null,
   "metadata": {},
   "outputs": [],
   "source": [
    "sudo docker image inspect centos:6.10"
   ]
  },
  {
   "cell_type": "markdown",
   "metadata": {},
   "source": [
    "### El comando ```docker image history```.\n",
    "\n",
    "Este comando despliega la historia de modificaciones de una imagen.\n",
    "\n",
    "```\n",
    "docker image history <imagen>\n",
    "```\n",
    "\n",
    "\n",
    "Referencia: https://docs.docker.com/engine/reference/commandline/image_history/"
   ]
  },
  {
   "cell_type": "markdown",
   "metadata": {},
   "source": [
    "**Ejemplo**\n",
    "\n",
    "* Se desplegarán la historia de la imagen ```cloudevel/cd331:version_1```."
   ]
  },
  {
   "cell_type": "code",
   "execution_count": null,
   "metadata": {},
   "outputs": [],
   "source": [
    "sudo docker image history cloudevel/cd331:version_1"
   ]
  },
  {
   "cell_type": "markdown",
   "metadata": {},
   "source": [
    "### El comando ```docker image rm```.\n",
    "\n",
    "Este comando es idéntico a ```docker rmi``` y elimina la imagen de un entorno local. \n",
    "\n",
    "\n",
    "```\n",
    "docker image rm <imagenes>\n",
    "```\n",
    "\n",
    "Es importante hacer notar que no es posible eliminar una imagen si existen contenedores creados a partir de éstas.\n",
    "\n",
    "Referencia: https://docs.docker.com/engine/reference/commandline/image_rm/"
   ]
  },
  {
   "cell_type": "markdown",
   "metadata": {},
   "source": [
    "**Ejemplo:**\n",
    "\n",
    "* Se creará y ejecutará un contenedor a partir de la imagen más reciente de la versión 16.04 del repositorio oficial de Ubuntu."
   ]
  },
  {
   "cell_type": "code",
   "execution_count": null,
   "metadata": {},
   "outputs": [],
   "source": [
    "sudo docker run -dit --name ubuntu-ejemplo ubuntu:16.04"
   ]
  },
  {
   "cell_type": "code",
   "execution_count": null,
   "metadata": {},
   "outputs": [],
   "source": [
    "sudo docker images"
   ]
  },
  {
   "cell_type": "markdown",
   "metadata": {},
   "source": [
    "* Se intentará eliminar la imagen ```ubuntu:16.04```, pero debido a que existe un contenedor construido a partir de dicha imagen, no será posible."
   ]
  },
  {
   "cell_type": "code",
   "execution_count": null,
   "metadata": {},
   "outputs": [],
   "source": [
    "sudo docker image rm ubuntu:16.04"
   ]
  },
  {
   "cell_type": "markdown",
   "metadata": {},
   "source": [
    "* Se detendrá y eliminará al contenedor ````ubuntu-ejemplo```.\n",
    "* Se eliminará la imagen ```ubuntu:16.04```."
   ]
  },
  {
   "cell_type": "code",
   "execution_count": null,
   "metadata": {},
   "outputs": [],
   "source": [
    "sudo docker stop ubuntu-ejemplo"
   ]
  },
  {
   "cell_type": "code",
   "execution_count": null,
   "metadata": {},
   "outputs": [],
   "source": [
    "sudo docker rm ubuntu-ejemplo"
   ]
  },
  {
   "cell_type": "code",
   "execution_count": null,
   "metadata": {},
   "outputs": [],
   "source": [
    "sudo docker image rm ubuntu:16.04"
   ]
  },
  {
   "cell_type": "code",
   "execution_count": null,
   "metadata": {},
   "outputs": [],
   "source": [
    "sudo docker images "
   ]
  },
  {
   "cell_type": "markdown",
   "metadata": {},
   "source": [
    "### El comando ```docker image prune```.\n",
    "\n",
    "Este comando eliminará todas aquellas imágenes que no estén siendo utilizadas.\n",
    "\n",
    "```\n",
    "docker image prune\n",
    "```\n",
    "\n",
    "Referencia: https://docs.docker.com/engine/reference/commandline/image_prune/"
   ]
  },
  {
   "cell_type": "markdown",
   "metadata": {},
   "source": [
    "**Ejemplo:**\n",
    "\n",
    "* Se eliminarán todas las imágenes que no estén siendo utilzadas. "
   ]
  },
  {
   "cell_type": "code",
   "execution_count": null,
   "metadata": {},
   "outputs": [],
   "source": [
    "sudo docker run -dit --name ubuntu-exp ubuntu "
   ]
  },
  {
   "cell_type": "code",
   "execution_count": null,
   "metadata": {},
   "outputs": [],
   "source": [
    "sudo docker images"
   ]
  },
  {
   "cell_type": "code",
   "execution_count": null,
   "metadata": {},
   "outputs": [],
   "source": [
    "sudo docker image prune -af"
   ]
  },
  {
   "cell_type": "code",
   "execution_count": null,
   "metadata": {},
   "outputs": [],
   "source": [
    "sudo docker images -a"
   ]
  },
  {
   "cell_type": "markdown",
   "metadata": {},
   "source": [
    "### El comando ```docker image import```.\n",
    "\n",
    "Este comando es idéntico a ```docker import``` y permite importar el contenido de un archivo con extensión ```.tar```, desde el cual se puede construir una imagen.\n",
    "\n",
    "```\n",
    "docker image import <archivo> <nombre>:<tag>\n",
    "```\n",
    "\n",
    "Referencia: https://docs.docker.com/engine/reference/commandline/image_import/"
   ]
  },
  {
   "cell_type": "code",
   "execution_count": null,
   "metadata": {},
   "outputs": [],
   "source": [
    "sudo docker images"
   ]
  },
  {
   "cell_type": "code",
   "execution_count": null,
   "metadata": {},
   "outputs": [],
   "source": [
    "sudo docker image import nginx.tar servidor:latest"
   ]
  },
  {
   "cell_type": "code",
   "execution_count": null,
   "metadata": {},
   "outputs": [],
   "source": [
    "sudo docker images -a"
   ]
  },
  {
   "cell_type": "markdown",
   "metadata": {},
   "source": [
    "### El comando ```docker image load```.\n",
    "\n",
    "Este comando es idéntico a ```docker load``` y es similar a ```docker image import```, pero se peude escoger entre un archivo tar o STDIN.\n",
    "\n",
    "Referencia: https://docs.docker.com/engine/reference/commandline/image_load/"
   ]
  },
  {
   "cell_type": "markdown",
   "metadata": {},
   "source": [
    "### El comando ```docker image save```.\n",
    "\n",
    "Este comando es idéntico a ```docker save``` y puede guardar una o varias imágenes en un archivo tar o STDOUT.\n",
    "\n",
    "Referencia: https://docs.docker.com/engine/reference/commandline/image_save/"
   ]
  },
  {
   "cell_type": "code",
   "execution_count": null,
   "metadata": {},
   "outputs": [],
   "source": [
    "sudo docker image save servidor:latest -o "
   ]
  },
  {
   "cell_type": "markdown",
   "metadata": {},
   "source": [
    "### El comando ```docker image tag```.\n",
    "\n",
    "Este comando es idéntico a ```docker tag``` y se utiliza para asignarle nombre y tag a una imagen.\n",
    "\n",
    "Referencia: https://docs.docker.com/engine/reference/commandline/image_tag/"
   ]
  },
  {
   "cell_type": "code",
   "execution_count": null,
   "metadata": {},
   "outputs": [],
   "source": [
    "sudo docker images"
   ]
  },
  {
   "cell_type": "code",
   "execution_count": null,
   "metadata": {},
   "outputs": [],
   "source": [
    "sudo docker tag nginx_image cloudevel/nginx:latest"
   ]
  },
  {
   "cell_type": "code",
   "execution_count": null,
   "metadata": {},
   "outputs": [],
   "source": [
    "sudo docker image list"
   ]
  },
  {
   "cell_type": "markdown",
   "metadata": {},
   "source": [
    "### El comando ```docker image push```.\n",
    "\n",
    "Este comando se utiliza para subir una imagen a un registry.\n",
    "\n",
    "Referencia: https://docs.docker.com/engine/reference/commandline/image_push/"
   ]
  },
  {
   "cell_type": "code",
   "execution_count": 20,
   "metadata": {},
   "outputs": [
    {
     "name": "stdout",
     "output_type": "stream",
     "text": [
      "Error response from daemon: No such image: cloudevel/nginx:latest\n",
      "The push refers to repository [docker.io/cloudevel/cd331]\n",
      "An image does not exist locally with the tag: cloudevel/cd331\n"
     ]
    },
    {
     "ename": "",
     "evalue": "1",
     "output_type": "error",
     "traceback": []
    }
   ],
   "source": [
    "sudo docker tag cloudevel/nginx:latest cloudevel/cd331:1904\n",
    "sudo docker push cloudevel/cd331:1904"
   ]
  },
  {
   "cell_type": "markdown",
   "metadata": {},
   "source": [
    "<p style=\"text-align: center\"><a rel=\"license\" href=\"http://creativecommons.org/licenses/by/4.0/\"><img alt=\"Licencia Creative Commons\" style=\"border-width:0\" src=\"https://i.creativecommons.org/l/by/4.0/80x15.png\" /></a><br />Esta obra está bajo una <a rel=\"license\" href=\"http://creativecommons.org/licenses/by/4.0/\">Licencia Creative Commons Atribución 4.0 Internacional</a>.</p>\n",
    "<p style=\"text-align: center\">&copy; José Luis Chiquete Valdivieso. 2019.</p>"
   ]
  }
 ],
 "metadata": {
  "kernelspec": {
   "display_name": "Bash",
   "language": "bash",
   "name": "bash"
  },
  "language_info": {
   "codemirror_mode": "shell",
   "file_extension": ".sh",
   "mimetype": "text/x-sh",
   "name": "bash"
  }
 },
 "nbformat": 4,
 "nbformat_minor": 2
}
