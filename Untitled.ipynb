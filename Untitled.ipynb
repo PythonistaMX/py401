{
 "cells": [
  {
   "cell_type": "code",
   "execution_count": 1,
   "metadata": {
    "scrolled": true
   },
   "outputs": [
    {
     "name": "stdout",
     "output_type": "stream",
     "text": [
      "En la rama master\n",
      "Tu rama está actualizada con 'origin/master'.\n",
      "\n",
      "Cambios no rastreados para el commit:\n",
      "  (usa \"git add <archivo>...\" para actualizar lo que será confirmado)\n",
      "  (usa \"git checkout -- <archivo>...\" para descartar los cambios en el directorio de trabajo)\n",
      "\n",
      "\t\u001b[31mmodificado:     02_introduccion_a_git.ipynb\u001b[m\n",
      "\t\u001b[31mmodificado:     03_gestion_de_repositorios.ipynb\u001b[m\n",
      "\t\u001b[31mmodificado:     04_gestion_de_ramas.ipynb\u001b[m\n",
      "\t\u001b[31mmodificado:     06_repositorios_remotos.ipynb\u001b[m\n",
      "\n",
      "Archivos sin seguimiento:\n",
      "  (usa \"git add <archivo>...\" para incluirlo a lo que se será confirmado)\n",
      "\n",
      "\t\u001b[31mUntitled.ipynb\u001b[m\n",
      "\n",
      "sin cambios agregados al commit (usa \"git add\" y/o \"git commit -a\")\n"
     ]
    }
   ],
   "source": [
    "git status"
   ]
  },
  {
   "cell_type": "code",
   "execution_count": null,
   "metadata": {},
   "outputs": [],
   "source": []
  }
 ],
 "metadata": {
  "kernelspec": {
   "display_name": "Bash",
   "language": "bash",
   "name": "bash"
  },
  "language_info": {
   "codemirror_mode": "shell",
   "file_extension": ".sh",
   "mimetype": "text/x-sh",
   "name": "bash"
  }
 },
 "nbformat": 4,
 "nbformat_minor": 2
}
