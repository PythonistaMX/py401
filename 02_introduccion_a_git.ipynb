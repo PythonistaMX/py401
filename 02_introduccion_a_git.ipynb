{
 "cells": [
  {
   "cell_type": "markdown",
   "metadata": {},
   "source": [
    "[![cloudevel](Imagenes/cloudevel.png)](https://cloudevel.com)"
   ]
  },
  {
   "cell_type": "markdown",
   "metadata": {},
   "source": [
    "# Tutorial de Git"
   ]
  },
  {
   "cell_type": "markdown",
   "metadata": {},
   "source": [
    "## Git.\n",
    "\n",
    "[Git](https://git-scm.com/) Es un sistema de gestión de versiones distribuido creado por Linus Torvalds."
   ]
  },
  {
   "cell_type": "markdown",
   "metadata": {},
   "source": [
    "## Sintaxis de Git.\n",
    "\n",
    "``` bash\n",
    "git <verbo> <argumentos>\n",
    "```"
   ]
  },
  {
   "cell_type": "code",
   "execution_count": null,
   "metadata": {
    "scrolled": false
   },
   "outputs": [],
   "source": [
    "git push --help"
   ]
  },
  {
   "cell_type": "markdown",
   "metadata": {},
   "source": [
    "## Acceso a un repositorio.\n",
    "\n",
    "### Servicios.\n",
    "\n",
    "* [Github](https://github.com).\n",
    "* [Gitlab](https://gitlab.com).\n",
    "* [Bitbucket](https://bitbucket.com)."
   ]
  },
  {
   "cell_type": "markdown",
   "metadata": {},
   "source": [
    "## Traer un repositorio remoto al sistema de archivos local con *git clone*.\n",
    "\n",
    "```\n",
    "git clone <URL>\n",
    "```"
   ]
  },
  {
   "cell_type": "markdown",
   "metadata": {},
   "source": [
    "**Ejemplo:**\n",
    "Se traerá el contenido de https://github.com/josechval/git-tutorial al sistema de archivos local."
   ]
  },
  {
   "cell_type": "code",
   "execution_count": null,
   "metadata": {},
   "outputs": [],
   "source": [
    "pwd"
   ]
  },
  {
   "cell_type": "code",
   "execution_count": null,
   "metadata": {},
   "outputs": [],
   "source": [
    "git clone https://github.com/Cludevel/git-tutorial"
   ]
  },
  {
   "cell_type": "code",
   "execution_count": null,
   "metadata": {
    "scrolled": true
   },
   "outputs": [],
   "source": [
    "ls -al git-tutorial"
   ]
  },
  {
   "cell_type": "markdown",
   "metadata": {},
   "source": [
    "Es posible conocer los datos del repositorio remoto mediante:\n",
    "\n",
    "```  bash\n",
    "git remote -v\n",
    "```\n",
    "\n",
    "Y de las ramas disponibles des repositorio mediante:\n",
    "\n",
    "```  bash\n",
    "git branch -a\n",
    "```\n",
    "\n",
    "Un repositorio puede tener varias ramas, que corresponden a versiones distintas del proyecto que existen de forma simultánea, pero en instancias distintas."
   ]
  },
  {
   "cell_type": "code",
   "execution_count": null,
   "metadata": {},
   "outputs": [],
   "source": [
    "cd git-tutorial"
   ]
  },
  {
   "cell_type": "code",
   "execution_count": null,
   "metadata": {},
   "outputs": [],
   "source": [
    "git remote -v"
   ]
  },
  {
   "cell_type": "code",
   "execution_count": null,
   "metadata": {},
   "outputs": [],
   "source": [
    "git branch -a"
   ]
  },
  {
   "cell_type": "markdown",
   "metadata": {},
   "source": [
    "### El directorio *.git*.\n",
    "\n",
    "La informacipon del repositorio se encuentra en el directorio .git"
   ]
  },
  {
   "cell_type": "code",
   "execution_count": null,
   "metadata": {},
   "outputs": [],
   "source": [
    "ls .git"
   ]
  },
  {
   "cell_type": "markdown",
   "metadata": {},
   "source": [
    "## Configuración mínima de un usuario con *git config*.\n",
    "\n",
    "Para poder crear un repositorio propio, primero es recomendable definir los datos del usuario.\n",
    "\n",
    "El verbo utilizado para la gestión de la configuración de un usuario es mediante el verbo *config*.\n",
    "\n",
    "```  bash\n",
    "git config <argumentos>\n",
    "```"
   ]
  },
  {
   "cell_type": "markdown",
   "metadata": {},
   "source": [
    "Para consultar la información de configuración se utiliza:\n",
    "\n",
    "```  bash\n",
    "git config --list\n",
    "```"
   ]
  },
  {
   "cell_type": "code",
   "execution_count": null,
   "metadata": {},
   "outputs": [],
   "source": [
    "git config --list"
   ]
  },
  {
   "cell_type": "markdown",
   "metadata": {},
   "source": [
    "Los datos del usuario pertencen al registro *user* y cada campo del usuario se definen mediante la siguiente sintaxis:\n",
    "\n",
    "```\n",
    "user.<campo>\n",
    "```\n",
    "\n",
    "Definición de nombre del usuario de Git se utiliza:\n",
    "\n",
    "```  bash\n",
    "git config --global user.name \"<nombre>\"\n",
    "```\n",
    "\n",
    "Definición del correo electrónico del usuario de Git se utiliza:\n",
    "\n",
    "```  bash\n",
    "git config --global user.email \"<dirección de correo>\"\n",
    "```"
   ]
  },
  {
   "cell_type": "code",
   "execution_count": null,
   "metadata": {},
   "outputs": [],
   "source": [
    "git config --global user.name \"Jose Luis Chiquete\""
   ]
  },
  {
   "cell_type": "code",
   "execution_count": null,
   "metadata": {},
   "outputs": [],
   "source": [
    "git config --global user.email \"josech@gmail.com\""
   ]
  },
  {
   "cell_type": "code",
   "execution_count": null,
   "metadata": {},
   "outputs": [],
   "source": [
    "git config -l"
   ]
  },
  {
   "cell_type": "code",
   "execution_count": null,
   "metadata": {},
   "outputs": [],
   "source": [
    "git config --global --get user.email"
   ]
  },
  {
   "cell_type": "markdown",
   "metadata": {},
   "source": [
    "Es posible añadir múltiples campos mediante *git config*. El algunos casos estos campos son innecesarios o erróneos.\n",
    "\n",
    "**Ejemplo:**"
   ]
  },
  {
   "cell_type": "code",
   "execution_count": null,
   "metadata": {},
   "outputs": [],
   "source": [
    "git config --global use.error \"Error\""
   ]
  },
  {
   "cell_type": "code",
   "execution_count": null,
   "metadata": {},
   "outputs": [],
   "source": [
    "git config -l"
   ]
  },
  {
   "cell_type": "markdown",
   "metadata": {},
   "source": [
    "Para eliminar un campo completo, se utiliza.\n",
    "\n",
    "```  bash\n",
    "git config --global remove <campo>\n",
    "```"
   ]
  },
  {
   "cell_type": "code",
   "execution_count": null,
   "metadata": {},
   "outputs": [],
   "source": [
    "git config --global --remove use"
   ]
  },
  {
   "cell_type": "code",
   "execution_count": null,
   "metadata": {},
   "outputs": [],
   "source": [
    "git config -l"
   ]
  },
  {
   "cell_type": "markdown",
   "metadata": {},
   "source": [
    "### El archivo de configuración de Git.\n",
    "El archivo de configuración de Git es *.gitconfig* se encuentra en el directorio *home* del usuario. "
   ]
  },
  {
   "cell_type": "code",
   "execution_count": null,
   "metadata": {},
   "outputs": [],
   "source": [
    "cat ~/.gitconfig"
   ]
  },
  {
   "cell_type": "markdown",
   "metadata": {},
   "source": [
    "#### Edición del archivo de configuración de Git.\n",
    "``` bash\n",
    "git config <ámbito> -e\n",
    "```\n",
    "En este caso se debe ejecutar desde una terminal:\n",
    "\n",
    "``` bash\n",
    "git config --global -e\n",
    "```"
   ]
  },
  {
   "cell_type": "markdown",
   "metadata": {},
   "source": [
    "## Creación de un repositorio local.\n",
    "\n",
    "Para ilustrar estas operaciones se copiará el contenido de *git-tutorial* a *git-fuente*."
   ]
  },
  {
   "cell_type": "code",
   "execution_count": null,
   "metadata": {},
   "outputs": [],
   "source": [
    "cd .."
   ]
  },
  {
   "cell_type": "code",
   "execution_count": null,
   "metadata": {},
   "outputs": [],
   "source": [
    "pwd"
   ]
  },
  {
   "cell_type": "code",
   "execution_count": null,
   "metadata": {},
   "outputs": [],
   "source": [
    "mkdir git-fuente"
   ]
  },
  {
   "cell_type": "code",
   "execution_count": null,
   "metadata": {},
   "outputs": [],
   "source": [
    "tree"
   ]
  },
  {
   "cell_type": "code",
   "execution_count": null,
   "metadata": {},
   "outputs": [],
   "source": [
    "cd git-fuente"
   ]
  },
  {
   "cell_type": "code",
   "execution_count": null,
   "metadata": {},
   "outputs": [],
   "source": [
    "pwd"
   ]
  },
  {
   "cell_type": "code",
   "execution_count": null,
   "metadata": {},
   "outputs": [],
   "source": [
    "cp -r ../git-tutorial/* ."
   ]
  },
  {
   "cell_type": "code",
   "execution_count": null,
   "metadata": {},
   "outputs": [],
   "source": [
    "tree"
   ]
  },
  {
   "cell_type": "code",
   "execution_count": null,
   "metadata": {
    "scrolled": true
   },
   "outputs": [],
   "source": [
    "ls -al"
   ]
  },
  {
   "cell_type": "markdown",
   "metadata": {},
   "source": [
    "Se eliminará el subdirectorio *.git*."
   ]
  },
  {
   "cell_type": "code",
   "execution_count": null,
   "metadata": {},
   "outputs": [],
   "source": [
    "rm -rf .git"
   ]
  },
  {
   "cell_type": "markdown",
   "metadata": {},
   "source": [
    "### Inicialización del repositorio local.\n",
    "\n",
    "Para indicarle a git que el alctual directorio va a ser considerado como un repostorio local, se usa el siguiente comando:\n",
    "\n",
    "``` bash\n",
    "git init\n",
    "```\n",
    "\n",
    "Este comando creará un nuevo subdirectorio *.git*."
   ]
  },
  {
   "cell_type": "code",
   "execution_count": null,
   "metadata": {},
   "outputs": [],
   "source": [
    "git init"
   ]
  },
  {
   "cell_type": "code",
   "execution_count": null,
   "metadata": {},
   "outputs": [],
   "source": [
    "ls .git"
   ]
  },
  {
   "cell_type": "markdown",
   "metadata": {},
   "source": [
    "Consultando el estado del repositorio local.\n",
    "\n",
    "Para conocer el estado del respositorio se utiliza:\n",
    "\n",
    "``` bash\n",
    "git status\n",
    "```"
   ]
  },
  {
   "cell_type": "code",
   "execution_count": null,
   "metadata": {
    "scrolled": true
   },
   "outputs": [],
   "source": [
    "git status"
   ]
  },
  {
   "cell_type": "markdown",
   "metadata": {},
   "source": [
    "### Inclusión de archivos al área de espera (staging area).\n",
    "\n",
    "El área de espera corresponde a un estado entre un repositorio local y otro remoto, en el que se le indica a git los archivos que deben de ser añadidos."
   ]
  },
  {
   "cell_type": "markdown",
   "metadata": {},
   "source": [
    "#### Adición de datos a la zona de preparación.\n",
    "\n",
    "Para añadir archivos a la zona de preparación se utiliza:\n",
    "\n",
    "``` bash\n",
    "git add <archivos> <argumentos>\n",
    "```\n",
    "\n",
    "En caso de querer añadir todos los archivos modificados del repositorio se utiliza:\n",
    "\n",
    "\n",
    "``` bash\n",
    "git add --all\n",
    "```\n"
   ]
  },
  {
   "cell_type": "code",
   "execution_count": null,
   "metadata": {},
   "outputs": [],
   "source": [
    "git add --all"
   ]
  },
  {
   "cell_type": "code",
   "execution_count": null,
   "metadata": {
    "scrolled": true
   },
   "outputs": [],
   "source": [
    "git status"
   ]
  },
  {
   "cell_type": "markdown",
   "metadata": {},
   "source": [
    "### Asignado de etiquetas con respecto a un cambio en el repositorio:\n",
    "\n",
    "Para llevar un control en un tiempo específico de los cambios en la \"staging area\", estos son etiquetados mediante el comando:\n",
    "\n",
    "``` bash \n",
    "git commit\n",
    "```\n",
    "Al ejecutar el comando de esta forma, se abrirá un editor de texto pidiendo la descripción de commit.\n",
    "\n",
    "Para enviar la descripción sin necesidad de abrir el editor de texto se usa:\n",
    "\n",
    "``` bash \n",
    "git commit -m \"<mensaje>\"\n",
    "```\n"
   ]
  },
  {
   "cell_type": "code",
   "execution_count": null,
   "metadata": {
    "scrolled": true
   },
   "outputs": [],
   "source": [
    "git commit -m \"prueba\""
   ]
  },
  {
   "cell_type": "markdown",
   "metadata": {},
   "source": [
    "## Interacción entre repositorios locales y remotos.\n",
    "Las operaciones con repositorios remotos se realiza mendiante:\n",
    "\n",
    "``` bash\n",
    "git remote <argumentos>\n",
    "\n",
    "```\n",
    "\n",
    "Para este ejemplo, se creará el repositorio https://github.com/Cloudevel/tutorial-git-tmp al que ya se tiene acceso."
   ]
  },
  {
   "cell_type": "markdown",
   "metadata": {},
   "source": [
    "### Adición de un repositorio remoto.\n",
    "\n",
    "``` bash\n",
    "git remote add <nombre> <URL>\n",
    "```\n",
    "Por convención se utiliza *origin* como nombre del repositorio de origen."
   ]
  },
  {
   "cell_type": "code",
   "execution_count": null,
   "metadata": {
    "scrolled": true
   },
   "outputs": [],
   "source": [
    "git remote add origin https://github.com/Cloudevel/temp"
   ]
  },
  {
   "cell_type": "code",
   "execution_count": null,
   "metadata": {},
   "outputs": [],
   "source": [
    "git config -l"
   ]
  },
  {
   "cell_type": "markdown",
   "metadata": {},
   "source": [
    "### Interacción con el servidor remoto.\n",
    "\n",
    "Para enviar los cambios del servidor se utiliza *git push*. Es necesario contar con acceso a dicho servidor mediante un usuario y una contraseña o mediante claves ssh.\n",
    "\n",
    "``` bash\n",
    "git push <repositorio remoto> <rama>\n",
    "```\n",
    "* rama principal normalmente lleva el nombre *master*."
   ]
  },
  {
   "cell_type": "markdown",
   "metadata": {},
   "source": [
    "**Ejemplo:**\n",
    "\n",
    "Se utilizará el siguiente comando desde la terminal:\n",
    "\n",
    "``` bash\n",
    "git push origin master\n",
    "```"
   ]
  },
  {
   "cell_type": "markdown",
   "metadata": {},
   "source": [
    "En este caso, se trata de un repositorio totalmente nuevo, por lo que no se está sobreescribiendo contenido aportado por otros desarrolladores. Sin embargo, es recomendable ejecutar *git pull* antes de *git push*."
   ]
  },
  {
   "cell_type": "markdown",
   "metadata": {},
   "source": [
    "### Actualizando un repositorio con *git pull*.\n",
    "\n",
    "El control de versiones nació con la idea de permitir la colaboración de varios desarrolladores en un proyecto, por lo que es común que varios usuarios actualicen el repositorio de trabajo.\n",
    "\n",
    "Para asegurarse de que se tiene la versión más reciente del repositorio se utilizar *git pull*, lo que permite traer los cambios más recientes del repositorio remoto.\n",
    "\n",
    "``` bash\n",
    "git pull <repositorio remoto> <rama>\n",
    "```\n"
   ]
  },
  {
   "cell_type": "code",
   "execution_count": null,
   "metadata": {
    "scrolled": true
   },
   "outputs": [],
   "source": [
    "git  pull origin master"
   ]
  },
  {
   "cell_type": "markdown",
   "metadata": {},
   "source": [
    "## Ramas.\n",
    "\n",
    "Las ramas son versiones distintas del proyecto que existen en instancias específicas.\n",
    "La gestión de ramas se realiza mediante *git branch*."
   ]
  },
  {
   "cell_type": "markdown",
   "metadata": {},
   "source": [
    "### Listado de ramas.\n",
    "\n",
    "``` bash\n",
    "git branch --list\n",
    "```\n"
   ]
  },
  {
   "cell_type": "code",
   "execution_count": null,
   "metadata": {},
   "outputs": [],
   "source": [
    "git branch --list"
   ]
  },
  {
   "cell_type": "markdown",
   "metadata": {},
   "source": [
    "###  Creación de una rama.\n",
    "\n",
    "```\n",
    "git branch <nombre>\n",
    "```"
   ]
  },
  {
   "cell_type": "code",
   "execution_count": null,
   "metadata": {},
   "outputs": [],
   "source": [
    "git branch temp"
   ]
  },
  {
   "cell_type": "code",
   "execution_count": null,
   "metadata": {},
   "outputs": [],
   "source": [
    "git branch --list"
   ]
  },
  {
   "cell_type": "markdown",
   "metadata": {},
   "source": [
    "###  Cambio a una rama.\n",
    "\n",
    "```\n",
    "git checkout <nombre>\n",
    "````"
   ]
  },
  {
   "cell_type": "code",
   "execution_count": null,
   "metadata": {},
   "outputs": [],
   "source": [
    "git checkout temp"
   ]
  },
  {
   "cell_type": "code",
   "execution_count": null,
   "metadata": {},
   "outputs": [],
   "source": [
    "git add --all"
   ]
  },
  {
   "cell_type": "code",
   "execution_count": null,
   "metadata": {},
   "outputs": [],
   "source": [
    "git commit -m \"temp\""
   ]
  },
  {
   "cell_type": "markdown",
   "metadata": {},
   "source": [
    "Para enviar los archivos a la nueva rama, solo se requiere  indicarlo.\n",
    "En una terminal agregar:\n",
    "\n",
    "```\n",
    "git push origin temp\n",
    "```"
   ]
  },
  {
   "cell_type": "markdown",
   "metadata": {},
   "source": [
    "## Mezcla de ramas.\n",
    "\n",
    "Para mezclar loa archivos de una rama se utiliza:\n",
    "\n",
    "```\n",
    "git merge <nombre de otra rama>\n",
    "```"
   ]
  },
  {
   "cell_type": "code",
   "execution_count": null,
   "metadata": {},
   "outputs": [],
   "source": [
    "git checkout master"
   ]
  },
  {
   "cell_type": "code",
   "execution_count": null,
   "metadata": {},
   "outputs": [],
   "source": [
    "git merge temp"
   ]
  },
  {
   "cell_type": "markdown",
   "metadata": {},
   "source": [
    "## Para practicar:\n",
    "\n",
    "Github ha puesto un pequeño tutorial interactivo en:\n",
    "https://try.github.io/levels/1/challenges/1"
   ]
  },
  {
   "cell_type": "markdown",
   "metadata": {},
   "source": [
    "<p style=\"text-align: center\"><a rel=\"license\" href=\"http://creativecommons.org/licenses/by/4.0/\"><img alt=\"Licencia Creative Commons\" style=\"border-width:0\" src=\"https://i.creativecommons.org/l/by/4.0/80x15.png\" /></a><br />Esta obra está bajo una <a rel=\"license\" href=\"http://creativecommons.org/licenses/by/4.0/\">Licencia Creative Commons Atribución 4.0 Internacional</a>.</p>\n",
    "<p style=\"text-align: center\">&copy; José Luis Chiquete Valdivieso. 2018.</p>"
   ]
  }
 ],
 "metadata": {
  "kernelspec": {
   "display_name": "Bash",
   "language": "bash",
   "name": "bash"
  },
  "language_info": {
   "codemirror_mode": "shell",
   "file_extension": ".sh",
   "mimetype": "text/x-sh",
   "name": "bash"
  }
 },
 "nbformat": 4,
 "nbformat_minor": 2
}
