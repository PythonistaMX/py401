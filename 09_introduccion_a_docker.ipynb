{
 "cells": [
  {
   "cell_type": "markdown",
   "metadata": {},
   "source": [
    "<a href=\"https://pythonista.io\"> <img src=\"img/pythonista.png\" width=\"100px\"></a>"
   ]
  },
  {
   "cell_type": "markdown",
   "metadata": {},
   "source": [
    "## Antecedentes.\n",
    "\n",
    "Docker es una herramienta que aprovechaba inicialmente las ventajas de GNU/Linux  y bibliotecas tales como [```cgroups```](https://en.wikipedia.org/wiki/Cgroups) para crear y gestionar contenedores.\n",
    "\n",
    "En versiones previas, Docker estaba basado en [LXC](https://linuxcontainers.org/lxc/introduction/), pero a partir de la versión  0.9, Docker utiliza su propia biblioteca llamada ```libcontainer```, la cual es independiente del kernel de GNU/Linux y puede ser ejecutada desde Windows con Hyper-V.\n",
    "\n",
    "En el caso de ser utilizado en un entorno GNU/Linux, Docker es instalado como un servicio del sistema.\n",
    "\n",
    "Recientemente, Docker ha aprovechado las capacidades Hyper-V de Windows para ofrecer contenedores nativos. Sin embargo, Hyper-V no está disponible en versiones básicas de Windows como la versión Home.\n",
    "\n",
    "Para utilizar Docker en su versión completa se requiere Windows 10 Pro con Hiper-V activado."
   ]
  },
  {
   "cell_type": "markdown",
   "metadata": {},
   "source": [
    "## Ediciones de Docker.\n",
    "\n",
    "Docker ofrece una versión empresarial de su herramienta llamada *Docker Enterprise Edition (EE)* y una versión de libre distribución llamada *Docker Desktop*, también conocida como *Docker Community Edition (CE)*."
   ]
  },
  {
   "cell_type": "markdown",
   "metadata": {},
   "source": [
    "### *Docker Desktop for Windows y Mac*.\n",
    "\n",
    "En el sitio de [Docker Desktop](https://www.docker.com/products/docker-desktop), están disponibles los paquetes de instalación para sistemas Windows superiores a la versión Windows 10 Pro, el cual aprovecha las funcionalidades de Hyper-V, asi como para OS X. \n",
    "\n",
    "**Advertencia:** para poder ejecutar *Docker Desktop* en Windows 10 Pro, es necesario habilitar Hyper-V (el hipervisor nativo de Windows), el cual puede provocar que algunos otros hipervisores tales como Virtualbox sean inutilizables.\n",
    "\n",
    "Los detalles de requerimientos para *Docker Desktop* pueden ser consultados en https://docs.docker.com/docker-for-windows/install/.\n",
    "\n",
    "### *Docker Toolbox*.\n",
    "\n",
    "En el caso de no contar con los requisitos mínimos para instalar *Docker Desktop* para Windows, está disponible Docker Toolbox, el cual utiliza Virtualbox en vez de Hyper-V. \n",
    "\n",
    "Los detalles de instalación están disponibles en https://docs.docker.com/toolbox/overview/"
   ]
  },
  {
   "cell_type": "markdown",
   "metadata": {},
   "source": [
    "## Instalación de docker en GNU/Linux."
   ]
  },
  {
   "cell_type": "markdown",
   "metadata": {},
   "source": [
    "### Instalación de Docker CE en Ubuntu.\n",
    "\n",
    "En el caso de Ubuntu, sólo es necesario ejecutar:\n",
    "\n",
    "```\n",
    "apt install docker.io\n",
    "```"
   ]
  },
  {
   "cell_type": "code",
   "execution_count": null,
   "metadata": {
    "scrolled": false
   },
   "outputs": [],
   "source": [
    "sudo apt update && sudo apt upgrade -y && sudo apt install docker.io -y"
   ]
  },
  {
   "cell_type": "markdown",
   "metadata": {},
   "source": [
    "### Instalación de *Docker CE* en CentOS 7.\n",
    "\n",
    "El sitio de descargas de *Docker CE* ofrece paquetes de instalación para diversas plataformas. \n",
    "\n",
    "En el caso de CentOS 7 es posible utilizar el repositorio de Docker para instalar la herramienta."
   ]
  },
  {
   "cell_type": "markdown",
   "metadata": {},
   "source": [
    "* Es necesario instalar algunas dependencias previas."
   ]
  },
  {
   "cell_type": "code",
   "execution_count": null,
   "metadata": {
    "scrolled": true
   },
   "outputs": [],
   "source": [
    "sudo yum install yum-utils device-mapper-persistent-data lvm2 -y"
   ]
  },
  {
   "cell_type": "markdown",
   "metadata": {},
   "source": [
    "* Se debe de dar de alta al repositorio."
   ]
  },
  {
   "cell_type": "code",
   "execution_count": null,
   "metadata": {
    "scrolled": true
   },
   "outputs": [],
   "source": [
    "sudo yum-config-manager --add-repo https://download.docker.com/linux/centos/docker-ce.repo"
   ]
  },
  {
   "cell_type": "code",
   "execution_count": null,
   "metadata": {
    "scrolled": false
   },
   "outputs": [],
   "source": [
    "sudo yum update -y"
   ]
  },
  {
   "cell_type": "markdown",
   "metadata": {},
   "source": [
    "* Se instalará el software."
   ]
  },
  {
   "cell_type": "code",
   "execution_count": null,
   "metadata": {
    "scrolled": false
   },
   "outputs": [],
   "source": [
    "sudo yum install docker-ce -y"
   ]
  },
  {
   "cell_type": "markdown",
   "metadata": {},
   "source": [
    "## Inicio del servicio de Docker."
   ]
  },
  {
   "cell_type": "markdown",
   "metadata": {},
   "source": [
    "* Se iniciará y habilitará el servicio."
   ]
  },
  {
   "cell_type": "code",
   "execution_count": null,
   "metadata": {
    "scrolled": false
   },
   "outputs": [],
   "source": [
    "sudo systemctl enable docker\n",
    "sudo systemctl start docker\n",
    "sudo systemctl status docker --no-pager"
   ]
  },
  {
   "cell_type": "code",
   "execution_count": null,
   "metadata": {
    "scrolled": false
   },
   "outputs": [],
   "source": [
    "docker -v"
   ]
  },
  {
   "cell_type": "markdown",
   "metadata": {},
   "source": [
    "## *Docker Hub*."
   ]
  },
  {
   "cell_type": "markdown",
   "metadata": {},
   "source": [
    "Docker basa su funcionalidad en el uso de \"imágenes\" de contenedores creadas previamente, las cuales son accedidas desde un repositorio. Dicho repositorio es conocido como *Docker Hub* y está localizado en https://hub.docker.com.\n",
    "\n",
    "Es posible explorar la biblioteca de imágenes desde https://hub.docker.com/explore."
   ]
  },
  {
   "cell_type": "markdown",
   "metadata": {},
   "source": [
    "## Ejecución de comandos de Docker.\n",
    "\n",
    "El comando ```docker``` permite acceder a funciones de ejecución y gestión de contendores desde una terminal con uin sintaxis como:\n",
    "\n",
    "```docker <subcomando>``` "
   ]
  },
  {
   "cell_type": "markdown",
   "metadata": {},
   "source": [
    "## Ejecución de un contenedor.\n",
    "\n",
    "Para acceder y ejecutar un contenedor sólo es necesario utilizar el siguiente comando con el nombre de la imagen que se desea ejecutar.\n",
    "\n",
    "```docker run  <argumentos> <nombre> <comando>```\n",
    "\n",
    "* Docker buscará la imagen, la descargará y la ejecutará.\n",
    "* Tan pronto como el contenedor termine la ejecución, éste será terminado, pero no destruido.\n",
    "\n",
    "Los argumentos de ejecución de un contenedor permiten definir muchas características de éste, tales como el uso de recursos, conexiones y la interacción con el usuario.\n",
    "\n",
    "Referencia: https://docs.docker.com/engine/reference/commandline/run/\n",
    "\n",
    "**NOTA:** Es necesario que el usuario tenga los permisos suficientes para ejecutar el comando."
   ]
  },
  {
   "cell_type": "markdown",
   "metadata": {},
   "source": [
    "**Ejemplo:**\n",
    "\n",
    "Se ejecutará la imagen https://hub.docker.com/_/hello-world/"
   ]
  },
  {
   "cell_type": "code",
   "execution_count": null,
   "metadata": {
    "scrolled": false
   },
   "outputs": [],
   "source": [
    "sudo docker run hello-world"
   ]
  },
  {
   "cell_type": "markdown",
   "metadata": {},
   "source": [
    "### Acceso a un contenedor en ejecución mediante la CLI.\n",
    "\n",
    "Para poder acceder a un contenedor mediante un emulador de terminal se utilizan los parámetros:\n",
    "\n",
    "* ```-i```, el cual permite al usuario interactuar con un contenedor en ejecución.\n",
    "* ```-t```, el cual permite conectarse a un conetendor nediante una terminal.\n",
    "\n",
    "La sintaxis es la siguiente:\n",
    "\n",
    "```docker run -it <nombre> <entorno de shell>```\n",
    "\n",
    "El entorno de shell más comunmente utilizado es ```/bin/bash```.\n",
    "\n",
    "El acceso al contenedor siempre será como ```root```."
   ]
  },
  {
   "cell_type": "markdown",
   "metadata": {},
   "source": [
    "**Ejemplo:**\n",
    "\n",
    "Ejecute el siguiente comando desde una terminal para acceder a un contenedor de ubuntu.\n",
    "\n",
    "```\n",
    "sudo docker run -it ubuntu /bin/bash\n",
    "```\n",
    "\n",
    "Para salir del contenedor teclee ```exit```."
   ]
  },
  {
   "cell_type": "markdown",
   "metadata": {},
   "source": [
    "###  Definición de recursos."
   ]
  },
  {
   "cell_type": "markdown",
   "metadata": {},
   "source": [
    "Es posible dimensionar los recursos a los que puede acceder un contenedor mediante ciertos parámetros al utilizar ```docker run```. \n",
    "\n",
    "La lista commpleta de recursos puede ser consultada en https://docs.docker.com/config/containers/resource_constraints/"
   ]
  },
  {
   "cell_type": "markdown",
   "metadata": {},
   "source": [
    "**Ejemplo:**\n",
    "\n",
    "Los recursos más comunes que se definen para un contenedor son:\n",
    "\n",
    "* Memoria.\n",
    "* CPU.\n",
    "\n",
    "Al ejecutar el siguiente comando eu nuna terminal, se creará un contenedor basado en Ubuntu al que se le limita com el 50% del rendimiento de un núcleo de la CPU y 128MB de RAM.\n",
    "\n",
    "``` bash\n",
    "sudo docker run -it --cpus=\".5\" --memory=\"128m\" ubuntu /bin/bash\n",
    "```"
   ]
  },
  {
   "cell_type": "markdown",
   "metadata": {},
   "source": [
    "### Reenvío de puertos.\n",
    "\n",
    "Es posible reenviar los paquetes desde  un puerto del contenedor a un puerto del sistema anfitrión usando la siguiente sintaxis:\n",
    "\n",
    "```\n",
    "docker run --port <puerto del anfitrión>:<puerto del contenedor> ...\n",
    "```\n",
    "```\n",
    "docker run -p <puerto del anfitrión>:<puerto del contenedor> ...\n",
    "```"
   ]
  },
  {
   "cell_type": "markdown",
   "metadata": {},
   "source": [
    "###  Volúmenes.\n",
    "\n",
    "Es posible asignar uno o varios volúmenes a un contenedor, los cuales serán montados de forma similar a como se hace con fstab. \n",
    "\n",
    "```\n",
    "docker run -v <directorio del anfitrión>:<directorio del contenedor> ...\n",
    "```"
   ]
  },
  {
   "cell_type": "markdown",
   "metadata": {},
   "source": [
    "### Ejecución de un contendor en trasfondo.\n",
    "\n",
    "El parámetro ```-d``` o ```--detach``` ejecutará un contenedor desligado a una terminal."
   ]
  },
  {
   "cell_type": "markdown",
   "metadata": {},
   "source": [
    "### Asignación de un nombre a un contenedor.\n",
    "\n",
    "Para asignarle un nombre a un contenedor se su uitliza el parámetro ```--name``` seguido del nombre que se le desea asignar. \n",
    "\n",
    "```docker run --name <nombre del contendor> <argumentos> <nombre de la imagen> <comando>```"
   ]
  },
  {
   "cell_type": "markdown",
   "metadata": {},
   "source": [
    "## Recuperación de un contenedor ejecutándose en trasfondo.\n",
    "\n",
    "Para retomar a un contendor que se está ejecutando en trasfondo se utiliza el comando:\n",
    "\n",
    "```docker attach <identificador>```\n",
    "\n",
    "Referencia: https://docs.docker.com/engine/reference/commandline/attach/"
   ]
  },
  {
   "cell_type": "markdown",
   "metadata": {},
   "source": [
    "**Ejemplo:**\n",
    "\n",
    "La siguiente celda ejecutará un contenedor de Ubuntu utilizando los parámetros ```-dit``` y se le asignará el nombre ```Prueba```."
   ]
  },
  {
   "cell_type": "code",
   "execution_count": null,
   "metadata": {
    "scrolled": false
   },
   "outputs": [],
   "source": [
    "sudo docker run -idt --name Prueba ubuntu /bin/bash"
   ]
  },
  {
   "cell_type": "code",
   "execution_count": null,
   "metadata": {
    "scrolled": true
   },
   "outputs": [],
   "source": [
    "sudo docker ps"
   ]
  },
  {
   "cell_type": "markdown",
   "metadata": {},
   "source": [
    "Para acceder a este contenedor utilice el siguiente comando desde una terminal:\n",
    "\n",
    "```sudo docker attach Prueba``` \n",
    "\n",
    "Para salir del contenedor use ```exit```."
   ]
  },
  {
   "cell_type": "markdown",
   "metadata": {},
   "source": [
    "## Consulta sobre los contenedores en un sistema.\n",
    "\n",
    "Es posible hacer consultas sobre el estado de los contenedores del sistema local mediante:\n",
    "\n",
    "```docker ps```\n",
    "\n",
    "Referencia: https://docs.docker.com/engine/reference/commandline/ps/"
   ]
  },
  {
   "cell_type": "markdown",
   "metadata": {},
   "source": [
    "Al usar ```docker ps``` sin argumentos, el comando nos regresará el listado de contenedores en ejecución.\n",
    "\n",
    "Los nombres de los contenedores son asignados automáticamente por Docker."
   ]
  },
  {
   "cell_type": "markdown",
   "metadata": {},
   "source": [
    "**Ejemplo:** \n",
    "\n",
    "La siguiente celda desplegará el listado de contenedores en ejecución. \n",
    "Si no ha cerrado el contenedor del ejemplo previo, este será enlistado."
   ]
  },
  {
   "cell_type": "code",
   "execution_count": null,
   "metadata": {
    "scrolled": true
   },
   "outputs": [],
   "source": [
    "sudo docker ps"
   ]
  },
  {
   "cell_type": "markdown",
   "metadata": {},
   "source": [
    "Al usar ```docker ps -a ``` el comando nos regresará el listado de contenedores que hayan sido ejecutados."
   ]
  },
  {
   "cell_type": "markdown",
   "metadata": {},
   "source": [
    "**Ejemplo:**\n",
    "\n",
    "La siguiente celda desplegará el listado de todos los conrtenedores que se hayan ejecutado."
   ]
  },
  {
   "cell_type": "code",
   "execution_count": null,
   "metadata": {
    "scrolled": true
   },
   "outputs": [],
   "source": [
    "sudo docker ps -a"
   ]
  },
  {
   "cell_type": "markdown",
   "metadata": {},
   "source": [
    " ## Detención de un contenedor en ejecución."
   ]
  },
  {
   "cell_type": "markdown",
   "metadata": {},
   "source": [
    "Para detener un contenedor utilice el comando:\n",
    "\n",
    "```docker stop <identificador>```\n",
    "\n",
    "Referencia: https://docs.docker.com/engine/reference/commandline/stop/"
   ]
  },
  {
   "cell_type": "markdown",
   "metadata": {},
   "source": [
    "**Ejemplo:**\n",
    "\n",
    "Se detendrá el contenedor llamado ```Prueba``` el cual fue ejecutado previamante."
   ]
  },
  {
   "cell_type": "code",
   "execution_count": null,
   "metadata": {
    "scrolled": true
   },
   "outputs": [],
   "source": [
    "sudo docker stop Prueba"
   ]
  },
  {
   "cell_type": "markdown",
   "metadata": {},
   "source": [
    "## Eliminación de un contenedor.\n",
    "\n",
    "Para eliminar uno o varios contenedor existentes se puede utilizar el comando:\n",
    "\n",
    "```docker rm <identificadores>```\n",
    "En donde el identificador puede ser el número de ID o el nombre del contenedor.\n",
    "\n",
    "Referencia: https://docs.docker.com/engine/reference/commandline/rm/"
   ]
  },
  {
   "cell_type": "markdown",
   "metadata": {},
   "source": [
    "**Ejemplo:**\n",
    "\n",
    "Se eliminará el contenedor llamado ```Prueba```."
   ]
  },
  {
   "cell_type": "code",
   "execution_count": null,
   "metadata": {
    "scrolled": true
   },
   "outputs": [],
   "source": [
    "sudo docker rm Prueba"
   ]
  },
  {
   "cell_type": "code",
   "execution_count": null,
   "metadata": {
    "scrolled": true
   },
   "outputs": [],
   "source": [
    "sudo docker ps -a"
   ]
  },
  {
   "cell_type": "markdown",
   "metadata": {},
   "source": [
    "## Despliegue de la información de docker.\n",
    "\n",
    "Para desplegar la información del servicio de docker que corre en el sistema local se utiliza el comando:\n",
    "\n",
    "```docker info```"
   ]
  },
  {
   "cell_type": "markdown",
   "metadata": {},
   "source": [
    "**Ejemplo:**"
   ]
  },
  {
   "cell_type": "code",
   "execution_count": null,
   "metadata": {
    "scrolled": true
   },
   "outputs": [],
   "source": [
    "sudo docker info"
   ]
  },
  {
   "cell_type": "markdown",
   "metadata": {},
   "source": [
    "<p style=\"text-align: center\"><a rel=\"license\" href=\"http://creativecommons.org/licenses/by/4.0/\"><img alt=\"Licencia Creative Commons\" style=\"border-width:0\" src=\"https://i.creativecommons.org/l/by/4.0/80x15.png\" /></a><br />Esta obra está bajo una <a rel=\"license\" href=\"http://creativecommons.org/licenses/by/4.0/\">Licencia Creative Commons Atribución 4.0 Internacional</a>.</p>\n",
    "<p style=\"text-align: center\">&copy; José Luis Chiquete Valdivieso. 2019.</p>"
   ]
  }
 ],
 "metadata": {
  "kernelspec": {
   "display_name": "Bash",
   "language": "bash",
   "name": "bash"
  },
  "language_info": {
   "codemirror_mode": "shell",
   "file_extension": ".sh",
   "mimetype": "text/x-sh",
   "name": "bash"
  }
 },
 "nbformat": 4,
 "nbformat_minor": 2
}
