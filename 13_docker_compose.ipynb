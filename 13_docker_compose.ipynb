{
 "cells": [
  {
   "cell_type": "markdown",
   "metadata": {},
   "source": [
    "<a href=\"https://pythonista.io\"> <img src=\"img/pythonista.png\" width=\"100px\"></a>"
   ]
  },
  {
   "cell_type": "markdown",
   "metadata": {},
   "source": [
    "**ADVERTENCIA:**\n",
    "\n",
    "Se da por sentado de que las celdas de los capítulos previos fueron ejecutadas y que existen imágenes cargadas en el sistema."
   ]
  },
  {
   "cell_type": "markdown",
   "metadata": {},
   "source": [
    "Conforme los contenedores y particularmente Docker se fueron popularizando, las arquitecturas de servicios basadas en contendores se fueron haciendo cada vez más complejas. El alcance de los dockerfiles se vio restringido a desplegar unos cuantos contenedores cuando en muchos casos, era necesario crear varios servicios de forma simultánea."
   ]
  },
  {
   "cell_type": "markdown",
   "metadata": {},
   "source": [
    "## Docker Compose.\n",
    "\n",
    "[Docker Compose](https://github.com/docker/compose/) es un componente que permite definir la estructura y los servicios de un cluster de contenedores.\n",
    "\n",
    "\n"
   ]
  },
  {
   "cell_type": "markdown",
   "metadata": {},
   "source": [
    "### Vesiones de  Docker compose. \n",
    "\n",
    "Al igual que Docker, Docker compose ha sufrido una evolución muy acelerada la cual en muchos casos conlleva problemas de compatibilidad con el Docker Engine desde https://github.com/docker/compose/releases"
   ]
  },
  {
   "cell_type": "markdown",
   "metadata": {},
   "source": [
    "### Distribución de Docker Compose.\n",
    "\n",
    "Docker compose es un proyecto de código abierto, por lo que es posible tener acceso al código de éste. Sin embargo, para mayor comodidad, el proyecto ofrece los binarios para las platafomas más comunes (GNU/Linux, Windows y OS X primordialmente). Además las versiones de *Docker Desktop* para Mac y Windows ya contienen a Docker Compose."
   ]
  },
  {
   "cell_type": "markdown",
   "metadata": {},
   "source": [
    "### Instalación de Docker Compose en GNU/Linux."
   ]
  },
  {
   "cell_type": "markdown",
   "metadata": {},
   "source": [
    "#### Descarga e instalación de Docker Compose en CentOS 7."
   ]
  },
  {
   "cell_type": "code",
   "execution_count": null,
   "metadata": {},
   "outputs": [],
   "source": [
    "wget https://github.com/docker/compose/releases/download/1.24.0/docker-compose-Linux-x86_64"
   ]
  },
  {
   "cell_type": "code",
   "execution_count": null,
   "metadata": {},
   "outputs": [],
   "source": [
    "sudo cp docker-compose-Linux-x86_64 /usr/bin/docker-compose"
   ]
  },
  {
   "cell_type": "code",
   "execution_count": null,
   "metadata": {},
   "outputs": [],
   "source": [
    "sudo chmod +x /usr/bin/docker-compose"
   ]
  },
  {
   "cell_type": "code",
   "execution_count": null,
   "metadata": {},
   "outputs": [],
   "source": [
    "docker-compose version"
   ]
  },
  {
   "cell_type": "markdown",
   "metadata": {},
   "source": [
    "#### Instalación de Docker Compose en Ubuntu."
   ]
  },
  {
   "cell_type": "code",
   "execution_count": null,
   "metadata": {
    "scrolled": false
   },
   "outputs": [],
   "source": [
    "sudo apt install docker-compose -y"
   ]
  },
  {
   "cell_type": "code",
   "execution_count": null,
   "metadata": {},
   "outputs": [],
   "source": [
    "docker-compose -v"
   ]
  },
  {
   "cell_type": "code",
   "execution_count": null,
   "metadata": {},
   "outputs": [],
   "source": [
    "pip search docker-compose"
   ]
  },
  {
   "cell_type": "markdown",
   "metadata": {},
   "source": [
    "## YAML.\n",
    "los archivos de Docker compose son escritos en \"Yet Another Markup Language\" o [*YAML*](https://yaml.org/) un formato derivado de JSON el cual permite describir los componentes y servicios con los que interactuará un cluster de contenedores."
   ]
  },
  {
   "cell_type": "markdown",
   "metadata": {},
   "source": [
    "### El lenguaje de los archivos *docker-compose.yml*.\n",
    "\n",
    "https://docs.docker.com/compose/compose-file/"
   ]
  },
  {
   "cell_type": "markdown",
   "metadata": {},
   "source": [
    "### El archivo ```src/13/docker-compose.yaml```\n",
    "\n",
    "``` yaml\n",
    "version: '3'\n",
    "services:\n",
    "    database: \n",
    "        image: mysql\n",
    "        environment: \n",
    "            MYSQL_ROOT_PASSWORD: 0p3n5t4ck\n",
    "    webserver:\n",
    "        image: nginx:alpine\n",
    "        ports:\n",
    "            - 8080:80\n",
    "        depends_on:\n",
    "            - cache\n",
    "            - database\n",
    "    cache:\n",
    "        image: redis\n",
    "```"
   ]
  },
  {
   "cell_type": "code",
   "execution_count": null,
   "metadata": {},
   "outputs": [],
   "source": [
    "cat src/13/docker-compose.yaml"
   ]
  },
  {
   "cell_type": "code",
   "execution_count": null,
   "metadata": {},
   "outputs": [],
   "source": [
    "cp src/13/docker-compose.yaml ."
   ]
  },
  {
   "cell_type": "markdown",
   "metadata": {},
   "source": [
    "### Subcomandos de *Docker Compose*.\n",
    "\n",
    "https://docs.docker.com/compose/reference/overview/"
   ]
  },
  {
   "cell_type": "markdown",
   "metadata": {},
   "source": [
    "Ejecute el siguiente comando desde la terminal.\n",
    "\n",
    "```\n",
    "sudo docker-compose up\n",
    "```"
   ]
  },
  {
   "cell_type": "code",
   "execution_count": null,
   "metadata": {},
   "outputs": [],
   "source": [
    "sudo docker ps"
   ]
  },
  {
   "cell_type": "code",
   "execution_count": null,
   "metadata": {},
   "outputs": [],
   "source": [
    "sudo docker-compose stop"
   ]
  },
  {
   "cell_type": "markdown",
   "metadata": {},
   "source": [
    "<p style=\"text-align: center\"><a rel=\"license\" href=\"http://creativecommons.org/licenses/by/4.0/\"><img alt=\"Licencia Creative Commons\" style=\"border-width:0\" src=\"https://i.creativecommons.org/l/by/4.0/80x15.png\" /></a><br />Esta obra está bajo una <a rel=\"license\" href=\"http://creativecommons.org/licenses/by/4.0/\">Licencia Creative Commons Atribución 4.0 Internacional</a>.</p>\n",
    "<p style=\"text-align: center\">&copy; José Luis Chiquete Valdivieso. 2019.</p>"
   ]
  }
 ],
 "metadata": {
  "kernelspec": {
   "display_name": "Bash",
   "language": "bash",
   "name": "bash"
  },
  "language_info": {
   "codemirror_mode": "shell",
   "file_extension": ".sh",
   "mimetype": "text/x-sh",
   "name": "bash"
  }
 },
 "nbformat": 4,
 "nbformat_minor": 2
}
