{
 "cells": [
  {
   "cell_type": "markdown",
   "metadata": {},
   "source": [
    "<a href=\"https://pythonista.io\"> <img src=\"img/pythonista.png\" width=\"100px\"></a>"
   ]
  },
  {
   "cell_type": "markdown",
   "metadata": {},
   "source": [
    "# Gestión de ramas.\n",
    "\n",
    "Otra de las característcas promordiales de los sistemas de gestión de versiones es su capacidad de poder separar flujos de trabajo en \"ramas\", la cuales pueden bifurcarse de una rama principal e incluso podrían converger en otro momento.\n",
    "\n",
    "La combinación de commit y ramas permiten crear flujos de trabajo colaborativos muy eficientes en el desarrolo de un proyecto de software.\n",
    "\n",
    "Cada rama puedes ser identificada por una etiqueta. "
   ]
  },
  {
   "cell_type": "markdown",
   "metadata": {},
   "source": [
    "## Notas preliminares.\n",
    "\n",
    "* Para poder ejecutar el código de este capítulo es necesario haber ejecutado el código de los capítulos previos.\n",
    "\n",
    "* Es necesario que la notebook se ejecute desde el directorio ```demo```, ejecutando la siguiente celda."
   ]
  },
  {
   "cell_type": "code",
   "execution_count": null,
   "metadata": {},
   "outputs": [],
   "source": [
    "cd demo"
   ]
  },
  {
   "cell_type": "markdown",
   "metadata": {},
   "source": [
    "### El archivo ```.git/HEAD```.\n",
    "\n",
    "Este archivo contiene la referencia a la rama en la que se encuentra un repositorio."
   ]
  },
  {
   "cell_type": "markdown",
   "metadata": {},
   "source": [
    "**Ejemplo:**"
   ]
  },
  {
   "cell_type": "markdown",
   "metadata": {},
   "source": [
    "* la siguiente celda desplegará en contenido del archivo ```.git/HEAD```, la cual corresponde a la rama con la etiqueta ```master```."
   ]
  },
  {
   "cell_type": "code",
   "execution_count": null,
   "metadata": {},
   "outputs": [],
   "source": [
    "cat .git/HEAD"
   ]
  },
  {
   "cell_type": "markdown",
   "metadata": {},
   "source": [
    "## La rama ```master```.\n",
    "\n",
    "Al inicializar un repositorio, se define una sola rama. Dicha rama tienela etiqueta ```master```."
   ]
  },
  {
   "cell_type": "markdown",
   "metadata": {},
   "source": [
    "## El comando ```git branch```.\n",
    "\n",
    "El comando ```git branch``` cuenta con diversas opciones para la gestión de ramas. Este comando tiene diversas sintaxis, pero por lo pronto sólo se explorará la siguiente:.\n",
    "\n",
    "```\n",
    "git branch <opciones> <etiqueta>\n",
    "```\n",
    "\n",
    "Donde:\n",
    "* ```<etiqueta>``` es el nombre de una etiqueta.\n",
    "* ```<opciones>``` es una combinación de una o más opciones. En caso de no tener opciones, el comando crear;a una rama nueva, asignándole la etiqueta definida por <etiqueta>.\n",
    "    \n",
    "La refencia del comando ```git branch``` puede ser consltada en:\n",
    "    \n",
    "https://git-scm.com/docs/git-branch"
   ]
  },
  {
   "cell_type": "markdown",
   "metadata": {},
   "source": [
    "### Opciones comunes de ```git branch```.\n",
    "\n",
    "* ```--list```, la cual permite desplegar un listado de ramas. Incluso es posible definir patrones para el listado.\n",
    "* ```--delete``` o ```-d```, la cual permite eliminar una rama."
   ]
  },
  {
   "cell_type": "markdown",
   "metadata": {},
   "source": [
    "**Ejemplo:**"
   ]
  },
  {
   "cell_type": "markdown",
   "metadata": {},
   "source": [
    "* La siguente celda creará una rama con la etiqueta ```nueva_rama```."
   ]
  },
  {
   "cell_type": "code",
   "execution_count": null,
   "metadata": {},
   "outputs": [],
   "source": [
    "git branch nueva-rama"
   ]
  },
  {
   "cell_type": "markdown",
   "metadata": {},
   "source": [
    "* La siguiente celda listará todas las ramas del repositorio."
   ]
  },
  {
   "cell_type": "code",
   "execution_count": null,
   "metadata": {},
   "outputs": [],
   "source": [
    "git branch -l"
   ]
  },
  {
   "cell_type": "markdown",
   "metadata": {},
   "source": [
    "* La siguiente celda listará todas las ramas del repositorio que empiecen con ```n```."
   ]
  },
  {
   "cell_type": "code",
   "execution_count": null,
   "metadata": {},
   "outputs": [],
   "source": [
    "git branch --list \"n*\" ."
   ]
  },
  {
   "cell_type": "markdown",
   "metadata": {},
   "source": [
    "*  La siguiente celda eliminará la rama con etiqueta ```nueva-rama```"
   ]
  },
  {
   "cell_type": "code",
   "execution_count": null,
   "metadata": {},
   "outputs": [],
   "source": [
    "git branch -d nueva-rama"
   ]
  },
  {
   "cell_type": "markdown",
   "metadata": {},
   "source": [
    "* La siguiente celda creará la rama con etiqueta ```nueva```."
   ]
  },
  {
   "cell_type": "code",
   "execution_count": null,
   "metadata": {},
   "outputs": [],
   "source": [
    "git branch nueva"
   ]
  },
  {
   "cell_type": "code",
   "execution_count": null,
   "metadata": {},
   "outputs": [],
   "source": [
    "git branch -l"
   ]
  },
  {
   "cell_type": "markdown",
   "metadata": {},
   "source": [
    "## El comando ```git checkout ```.\n",
    "\n",
    "El comando ```git checkout``` permite al usuario moverse entre ramas e incluso entre commits."
   ]
  },
  {
   "cell_type": "markdown",
   "metadata": {},
   "source": [
    "###  Cambio a una rama específica.\n",
    "\n",
    "Para cambiar de una rama a otra se utiliza el comando ```git checkout``` con la siguiente sintaxis:\n",
    "\n",
    "```\n",
    "git checkout <rama>\n",
    "````\n",
    "\n",
    "Donde:\n",
    "\n",
    "* ```<rama>``` corresponde a la etiqueta de la rama de destino."
   ]
  },
  {
   "cell_type": "markdown",
   "metadata": {},
   "source": [
    "**Ejemplo:**"
   ]
  },
  {
   "cell_type": "markdown",
   "metadata": {},
   "source": [
    "* La siguiente celda moverá el repositorio a la rama ```nueva```"
   ]
  },
  {
   "cell_type": "code",
   "execution_count": null,
   "metadata": {},
   "outputs": [],
   "source": [
    "git checkout nueva"
   ]
  },
  {
   "cell_type": "markdown",
   "metadata": {},
   "source": [
    "* Debido a que es una rama nueva, no se ven diferencias con respecto a la rama ```master```."
   ]
  },
  {
   "cell_type": "code",
   "execution_count": null,
   "metadata": {
    "scrolled": true
   },
   "outputs": [],
   "source": [
    "ls -a"
   ]
  },
  {
   "cell_type": "markdown",
   "metadata": {},
   "source": [
    "* Esto se debe a que la rama ```nueva``` comparte el mismo commit."
   ]
  },
  {
   "cell_type": "code",
   "execution_count": null,
   "metadata": {},
   "outputs": [],
   "source": [
    "git log"
   ]
  },
  {
   "cell_type": "markdown",
   "metadata": {},
   "source": [
    "* Ahora se creará el archivo ```archivo_nuevo```."
   ]
  },
  {
   "cell_type": "code",
   "execution_count": null,
   "metadata": {},
   "outputs": [],
   "source": [
    "echo \"Archivo de la rama nueva.\" > archivo_nuevo"
   ]
  },
  {
   "cell_type": "markdown",
   "metadata": {},
   "source": [
    "* Se añadirán todos los cambios al área de preparación."
   ]
  },
  {
   "cell_type": "code",
   "execution_count": null,
   "metadata": {},
   "outputs": [],
   "source": [
    "git add --all"
   ]
  },
  {
   "cell_type": "markdown",
   "metadata": {},
   "source": [
    "* Se hará el primer commit en la rama ```nueva```."
   ]
  },
  {
   "cell_type": "code",
   "execution_count": null,
   "metadata": {},
   "outputs": [],
   "source": [
    "git commit -m \"primer commit de la rama nueva\""
   ]
  },
  {
   "cell_type": "markdown",
   "metadata": {},
   "source": [
    "* Al ejecutar el comando ```git log --oneline``` el resultado será similar a los siguiente.\n",
    "\n",
    "``` bash\n",
    "fa09b99 (HEAD -> nueva) primer commit de la rama nueva\n",
    "23dfde9 (master) cuarto commit\n",
    "971e1d8 segundo commit\n",
    "3c76e61 primer commit\n",
    "```\n",
    "\n",
    "Ahora el commit se ve reflejado en la rama ```nueva```."
   ]
  },
  {
   "cell_type": "code",
   "execution_count": null,
   "metadata": {},
   "outputs": [],
   "source": [
    "git log --oneline"
   ]
  },
  {
   "cell_type": "markdown",
   "metadata": {},
   "source": [
    "* La siguiente celda mostrará los archivos actuales."
   ]
  },
  {
   "cell_type": "code",
   "execution_count": null,
   "metadata": {},
   "outputs": [],
   "source": [
    "ls -a"
   ]
  },
  {
   "cell_type": "markdown",
   "metadata": {},
   "source": [
    "* Ahora se moverá el repositorio a la rama ```master```."
   ]
  },
  {
   "cell_type": "code",
   "execution_count": null,
   "metadata": {
    "scrolled": true
   },
   "outputs": [],
   "source": [
    "git checkout master"
   ]
  },
  {
   "cell_type": "markdown",
   "metadata": {},
   "source": [
    "* El contenido es distinto."
   ]
  },
  {
   "cell_type": "code",
   "execution_count": null,
   "metadata": {},
   "outputs": [],
   "source": [
    "ls -a"
   ]
  },
  {
   "cell_type": "markdown",
   "metadata": {},
   "source": [
    "* Se modificará al archivo ```archivo-1```"
   ]
  },
  {
   "cell_type": "code",
   "execution_count": null,
   "metadata": {},
   "outputs": [],
   "source": [
    "echo \"Otra linea\" >> archivo-1"
   ]
  },
  {
   "cell_type": "markdown",
   "metadata": {},
   "source": [
    "* Se hará un commit nuevo."
   ]
  },
  {
   "cell_type": "code",
   "execution_count": null,
   "metadata": {},
   "outputs": [],
   "source": [
    "git commit -am \"quinto commit\""
   ]
  },
  {
   "cell_type": "markdown",
   "metadata": {},
   "source": [
    "* Al ejecutar el comando ```git log --oneline``` el resultado será similar a los siguiente.\n",
    "\n",
    "```bash\n",
    "4d92f33 (HEAD -> master) quinto commit\n",
    "23dfde9 cuarto commit\n",
    "971e1d8 segundo commit\n",
    "3c76e61 primer commit\n",
    "```\n"
   ]
  },
  {
   "cell_type": "code",
   "execution_count": null,
   "metadata": {},
   "outputs": [],
   "source": [
    "git log --oneline"
   ]
  },
  {
   "cell_type": "markdown",
   "metadata": {},
   "source": [
    "## Visualización de diferencias entre ramas.\n",
    "\n",
    "El comando ```git diff```puede visualizar las diferencias entre ramas de manera similar a como lo hace con los commits.\n",
    "\n",
    "```\n",
    "git diff <etiqueta 1> <etiqueta 2>\n",
    "```\n",
    "\n",
    "Donde:\n",
    "\n",
    "* ```<etiqueta 1>```y  ```<etiqueta 2>``` son etiquetas de ramas."
   ]
  },
  {
   "cell_type": "markdown",
   "metadata": {},
   "source": [
    "**Ejemplo:**"
   ]
  },
  {
   "cell_type": "markdown",
   "metadata": {},
   "source": [
    "* La siguiente celda desplegará las diferencias entre la rama ```master```y la rama ```nueva```."
   ]
  },
  {
   "cell_type": "code",
   "execution_count": null,
   "metadata": {},
   "outputs": [],
   "source": [
    "git diff master nueva"
   ]
  },
  {
   "cell_type": "markdown",
   "metadata": {},
   "source": [
    "* Al igual que con los commits es posible especificar el archivo que se quiere observar."
   ]
  },
  {
   "cell_type": "code",
   "execution_count": null,
   "metadata": {},
   "outputs": [],
   "source": [
    "git diff master nueva archivo-1"
   ]
  },
  {
   "cell_type": "markdown",
   "metadata": {},
   "source": [
    "## El comando ```git merge```.\n",
    "\n",
    "Este comando combina el contenido de una rama con otra.\n",
    "\n",
    "La sintaxis es la siguiente:\n",
    "\n",
    "``` bash \n",
    "git merge <rama>\n",
    "```\n",
    "\n",
    "Donde:\n",
    "* ```<rama>``` es la etiqueta de la rama que se fusionará con la actual. \n",
    "\n",
    "El resultado es que los contenidos de ambas ramas serán combinados."
   ]
  },
  {
   "cell_type": "markdown",
   "metadata": {},
   "source": [
    "**Ejemplo:**"
   ]
  },
  {
   "cell_type": "markdown",
   "metadata": {},
   "source": [
    "* A continuación se mezclarán los contenidos de la rama ```nueva``` en la rama actual (```master```).\n",
    "\n",
    "**Nota:**\n",
    "El mensaje de error indica que la mezcla requiere de un paso adicional, debido a las restricciones de la notebook."
   ]
  },
  {
   "cell_type": "code",
   "execution_count": null,
   "metadata": {
    "scrolled": true
   },
   "outputs": [],
   "source": [
    "git merge nueva"
   ]
  },
  {
   "cell_type": "code",
   "execution_count": null,
   "metadata": {},
   "outputs": [],
   "source": [
    "git commit -m \"commit fusionado\""
   ]
  },
  {
   "cell_type": "code",
   "execution_count": null,
   "metadata": {},
   "outputs": [],
   "source": [
    "git status"
   ]
  },
  {
   "cell_type": "code",
   "execution_count": null,
   "metadata": {},
   "outputs": [],
   "source": [
    "git log"
   ]
  },
  {
   "cell_type": "code",
   "execution_count": null,
   "metadata": {},
   "outputs": [],
   "source": [
    "ls -a"
   ]
  },
  {
   "cell_type": "code",
   "execution_count": null,
   "metadata": {},
   "outputs": [],
   "source": [
    "git diff nueva master"
   ]
  },
  {
   "cell_type": "markdown",
   "metadata": {},
   "source": [
    "## Restitución de un commit específico.\n",
    "\n",
    "Es posible traer de vuelta el estado de un commit específico mediante el comando ```git checkout```.\n",
    "\n",
    "```bash\n",
    "git checkout <identificador>\n",
    "```\n",
    "\n",
    "Donde:\n",
    "\n",
    "* ```<identficador>``` correpsonde a los primero dígitos del identificador del commit que se utilizará/\n",
    "\n",
    "El resultado es que se restablecería el estado del commit referenciado, pero el repositorio dejaría de estar ligado a una rama."
   ]
  },
  {
   "cell_type": "markdown",
   "metadata": {},
   "source": [
    "**Ejemplo:**"
   ]
  },
  {
   "cell_type": "markdown",
   "metadata": {},
   "source": [
    "* Tomando en cuenta los siquientes commits en ```master```:\n",
    "\n",
    "```bash\n",
    "50d67cd (HEAD -> master) commit fusionado\n",
    "7a924b8 quinto commit\n",
    "1fe52e5 (nueva) primer commit de la rama nueva\n",
    "d0634ee cuarto commit\n",
    "27e8679 segundo commit\n",
    "0bb5d91 primer commit\n",
    "```\n",
    "\n",
    "* Si se quisiera restaurar el; estado del commit con descripción ```cuarto commit```, se jecutaría el siguiente comando:\n",
    "\n",
    "```bash\n",
    "git checkout d0634ee\n",
    "```\n",
    "\n",
    "Y el resultado será descrito con el siguiente mensaje:\n",
    "\n",
    "```\n",
    "Note: checking out 'd0634ee'.\n",
    "\n",
    "You are in 'detached HEAD' state. You can look around, make experimental\n",
    "changes and commit them, and you can discard any commits you make in this\n",
    "state without impacting any branches by performing another checkout.\n",
    "\n",
    "If you want to create a new branch to retain commits you create, you may\n",
    "do so (now or later) by using -b with the checkout command again. Example:\n",
    "\n",
    "  git checkout -b <new-branch-name>\n",
    "\n",
    "HEAD is now at d0634ee cuarto commit\n",
    "\n",
    "```\n",
    "\n",
    "* Se crearía una nueva rama llamada ```restituida```.\n",
    "\n",
    "``` bash\n",
    "git checkout -b restituida\n",
    "```\n",
    "\n",
    "* Que temdría el estado restaurado.\n",
    "\n"
   ]
  },
  {
   "cell_type": "markdown",
   "metadata": {},
   "source": [
    "<p style=\"text-align: center\"><a rel=\"license\" href=\"http://creativecommons.org/licenses/by/4.0/\"><img alt=\"Licencia Creative Commons\" style=\"border-width:0\" src=\"https://i.creativecommons.org/l/by/4.0/80x15.png\" /></a><br />Esta obra está bajo una <a rel=\"license\" href=\"http://creativecommons.org/licenses/by/4.0/\">Licencia Creative Commons Atribución 4.0 Internacional</a>.</p>\n",
    "<p style=\"text-align: center\">&copy; José Luis Chiquete Valdivieso. 2019.</p>"
   ]
  }
 ],
 "metadata": {
  "kernelspec": {
   "display_name": "Bash",
   "language": "bash",
   "name": "bash"
  },
  "language_info": {
   "codemirror_mode": "shell",
   "file_extension": ".sh",
   "mimetype": "text/x-sh",
   "name": "bash"
  }
 },
 "nbformat": 4,
 "nbformat_minor": 2
}
