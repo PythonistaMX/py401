{
 "cells": [
  {
   "cell_type": "markdown",
   "metadata": {},
   "source": [
    "<a href=\"https://cloudevel.com\"> <img src=\"img/cloudevel.png\" width=\"500px\"></a>"
   ]
  },
  {
   "cell_type": "markdown",
   "metadata": {},
   "source": [
    "# Introducción a *Git*."
   ]
  },
  {
   "cell_type": "markdown",
   "metadata": {},
   "source": [
    "## Sistemas de gesión de versiones.\n",
    "\n",
    "Un sistema de gestión de versiones es una herramienta que permite llevar el seguimiento y control de documentos y archivos dentro de un directorio específico, permitiendo identificar las diversas modificaciones que podría haber tenido cada elemento del directorio a lo largo del tiempo.\n",
    "\n",
    "Los sistemas de gestión de versiones fueron ideados inicialmente para llevar control de código fuente de un proyecto de desarrollo de software. Sin embargo, debido a que estos sistemas pueden dar seguimiento a prácticamente cualquier tipo de documento, es posible utilizarlos para proyectos de diversas índoles, incluyendo archivos de medios y paquetes de binarios.\n",
    "\n",
    "En al siguiente liga es posible consultar un listado de programas para el control de versiones.\n",
    "\n",
    "https://es.wikipedia.org/wiki/Programas_para_control_de_versiones"
   ]
  },
  {
   "cell_type": "markdown",
   "metadata": {},
   "source": [
    "## Artefactos.\n",
    "\n",
    "El término \"artefacto\" dentro del ámbito de desarrollo de software se refiere a todos aquellos documentos que sean resultado del proceso de desarrollo de software, como es el caso de:\n",
    "\n",
    "* Bibliotecas de binarios.\n",
    "* Documentación.\n",
    "* Paquetes de software.\n",
    "* Imágenes de contenedores o máquinas virtuales.\n",
    "* Archivos de configuración y especificaciones.\n",
    "* Datos.\n",
    "* \"Blobs\", los cuales correspoden a archivos en formato binario que no son necesariamente ejecutables.\n"
   ]
  },
  {
   "cell_type": "markdown",
   "metadata": {},
   "source": [
    "## *Git*.\n",
    "\n",
    "[*Git*](https://git-scm.com/) es un sistema de gestión de versiones distribuido creado por [Linus Torvalds](https://es.wikipedia.org/wiki/Linus_Torvalds) con el propósito inicial de poder dar seguimiento al desarrollo del kernel de *Linux*. Actualmente *git* es el gestor de versiones más popular entre la comunidad de desarrolladores. \n",
    "\n",
    "\n",
    "Las principales caracterísiticas de *Git* son:\n",
    "\n",
    "* De código abierto.\n",
    "* Descentralizado.\n",
    "* Distribuido.\n",
    "* Rápido.\n",
    "* Robusto."
   ]
  },
  {
   "cell_type": "markdown",
   "metadata": {},
   "source": [
    "### Descarga de ```Git```.\n",
    "\n",
    "*Git* ha sido portado a prácticamente todas plataformas y sistemas operativos modernos, conformando parte de los paquetes básicos de un entorno de desarrollo. Sin embargo, también es posible descargar un instalador desde la siguiente liga: \n",
    "\n",
    "https://git-scm.com/downloads"
   ]
  },
  {
   "cell_type": "markdown",
   "metadata": {},
   "source": [
    "### Clientes de *Git*.\n",
    "\n",
    "*Git* puede ser ejecutado mediante un *cliente*. \n",
    "\n",
    "El cliente más común de *Git* corresponde al comando ```git``` ejecutado desde la Interfaz de Línea de Comandos (*CLI*), sin embargo existe una gran cantidad de clientes que aprovechan una interfaz gráfica las cuales pueden ser consultadas en la siguiente liga:\n",
    "\n",
    "https://git-scm.com/downloads/guis\n",
    "\n",
    "**Nota:** Este curso está basado en el uso del comando ```git``` desde una *CLI* de *GNU/Linux*."
   ]
  },
  {
   "cell_type": "markdown",
   "metadata": {},
   "source": [
    "#### *Git GUI*.\n",
    "\n",
    "El paquete descargado del sitio oficial de *Git* incluye un cliente con una interfaz gráfica basada en [*tcl/tk*](https://es.wikipedia.org/wiki/Tcl) llamado *Git GUI*.\n",
    "\n",
    "La siguiente inagen correpsonde a la interfas de *Git GUI*.\n",
    "\n",
    "<img src=\"img/01/git-gui.png\" width=\"250px\">"
   ]
  },
  {
   "cell_type": "markdown",
   "metadata": {},
   "source": [
    "#### *Git Bash*.\n",
    "\n",
    "El cliente *Git Bash* se utiliza primordialmente en sistemas basados en *Windows*. Este cliente crea una terminal corriendo la biblioteca [*Ming-w64*](mingw-w64.org), la cual es capaz de ejecutar no sólo el comando ```git```, sino que crea un entorno que contiene al shell [*bash*](https://www.gnu.org/software/bash/). De este modo es posible tener una *CLI* muy similar a la usada en sistemas basados en *GNU/Linux*."
   ]
  },
  {
   "cell_type": "markdown",
   "metadata": {},
   "source": [
    "## El comando ```git```.\n",
    "\n",
    "El comando ```git``` permite realizar muy diveras operaciones con repositorios de *Git* mediante la siguiente sintaxis.\n",
    "\n",
    "``` bash\n",
    "git <verbo> <opciones y argumentos>\n",
    "```\n",
    "Donde:\n",
    "\n",
    "* ```<verbo>``` es un subcomando de ```git```.\n"
   ]
  },
  {
   "cell_type": "markdown",
   "metadata": {},
   "source": [
    "**Ejemplos:**"
   ]
  },
  {
   "cell_type": "markdown",
   "metadata": {},
   "source": [
    "* El comando ```git help``` de la sigu8iente celda desplegará la ayuda de ```git```."
   ]
  },
  {
   "cell_type": "code",
   "execution_count": null,
   "metadata": {
    "scrolled": true
   },
   "outputs": [],
   "source": [
    "git help"
   ]
  },
  {
   "cell_type": "markdown",
   "metadata": {},
   "source": [
    "* El comando ```git status``` de la siguiente celda desplegará el estado del repositorio actual.\n",
    "\n",
    "**Nota:** Esta notebook pertence a un repositorio local clonado desde https://github.com/PythonistaMX/py401."
   ]
  },
  {
   "cell_type": "code",
   "execution_count": null,
   "metadata": {
    "scrolled": true
   },
   "outputs": [],
   "source": [
    "git status"
   ]
  },
  {
   "cell_type": "markdown",
   "metadata": {},
   "source": [
    "* La siguiente celda desplegará la versión de ```git``` que se tiene instalada en el sistema."
   ]
  },
  {
   "cell_type": "code",
   "execution_count": null,
   "metadata": {
    "scrolled": true
   },
   "outputs": [],
   "source": [
    "git version"
   ]
  },
  {
   "cell_type": "markdown",
   "metadata": {},
   "source": [
    "## Los repositorios de *Git*.\n",
    "\n",
    "Un repositorio de *Git* no es otra cosa más que un directorio que incluye al subdirectorio ```.git```. La información y configuración del repositorio se encuentra en dicho directorio.\n",
    "\n",
    "*Git* permite tener repositorios locales, los cuales a su vez pueden acceder y sincronizarse con repositorios remotos."
   ]
  },
  {
   "cell_type": "markdown",
   "metadata": {},
   "source": [
    "**Ejemplo:**"
   ]
  },
  {
   "cell_type": "markdown",
   "metadata": {},
   "source": [
    "* La siguiente celda mostrará el contenido del subdirectorio ```.git``` que se encuentra en el directorio de esta notebook. "
   ]
  },
  {
   "cell_type": "code",
   "execution_count": null,
   "metadata": {
    "scrolled": false
   },
   "outputs": [],
   "source": [
    "ls -al .git"
   ]
  },
  {
   "cell_type": "code",
   "execution_count": null,
   "metadata": {},
   "outputs": [],
   "source": [
    "tree .git"
   ]
  },
  {
   "cell_type": "markdown",
   "metadata": {},
   "source": [
    "## Configuración de *Git*.\n",
    "\n",
    "Para conocer o modificar la configuración de *Git* o de un repositorio de *Git* se utiliza el comando ```git config```.\n",
    "\n",
    "Dicho comando puede gestionar la configuración general de *Git* o la configuración de un repositorio específico.\n",
    "\n",
    "La documentacion oficial de ```git config``` puede ser consultada en la siguiente liga:\n",
    "\n",
    "https://git-scm.com/docs/git-config"
   ]
  },
  {
   "cell_type": "markdown",
   "metadata": {},
   "source": [
    "### Despliegue del listado de campos de la  configuración.\n",
    "\n",
    "La opción ```--list```o ```-l``` se utiliza pare desplegar información, por lo que la siguiente sintaxis regresará  un listado de los campos de que conforman la configuración de *Git*, tanto de la informació del usuario *Git*, así como la del repositorio en el que se encuentra.\n",
    "\n",
    "``` bash\n",
    "git config --list \n",
    "```\n",
    "\n",
    "El resultado es un listado de estructuras ```<registro>.<campo>=<valor>```.\n",
    "\n",
    "Donde:\n",
    "\n",
    "* ```<registro>``` corresponde a un registro de la configuración.\n",
    "* ```<campo>``` corresponde a un campo específico dentro del registro.\n",
    "* ```<valor>``` corresponde al valor asignado al campo indicado. "
   ]
  },
  {
   "cell_type": "markdown",
   "metadata": {},
   "source": [
    "**Ejemplo:**"
   ]
  },
  {
   "cell_type": "markdown",
   "metadata": {},
   "source": [
    "* La siguiente celda mostrará la configuración del usuario actual y del repositorio al que pertence esta notebook."
   ]
  },
  {
   "cell_type": "code",
   "execution_count": null,
   "metadata": {
    "scrolled": true
   },
   "outputs": [],
   "source": [
    "git config --list"
   ]
  },
  {
   "cell_type": "markdown",
   "metadata": {},
   "source": [
    "### Despliege de un valor de un campo con la opción ```--get```.\n",
    "\n",
    "Mientras que la opción ```--list``` despliega todos los datos de configuración, la opción ```--get``` sólo regresará el valor del campo especificado.\n",
    "\n",
    "``` bash\n",
    "git config --get <registro>.<campo>\n",
    "```\n",
    "\n",
    "En caso de no encontrar una coincidencia exacta de la estructura ```<registro>.<campo>``` dentro de la configuración, no se deplegará nada."
   ]
  },
  {
   "cell_type": "markdown",
   "metadata": {},
   "source": [
    "**Ejemplos:**"
   ]
  },
  {
   "cell_type": "markdown",
   "metadata": {},
   "source": [
    "* La siguiente celda regresará el valor del campo ```url``` del registro ```remote.origin```."
   ]
  },
  {
   "cell_type": "code",
   "execution_count": null,
   "metadata": {
    "scrolled": true
   },
   "outputs": [],
   "source": [
    "git config --get remote.origin.url"
   ]
  },
  {
   "cell_type": "markdown",
   "metadata": {},
   "source": [
    "* La siguiente celda regresará el valor del campo ```erroneo``` del registro ```remote.origin```. En vista de que este campo no existe, no se devolverá nada."
   ]
  },
  {
   "cell_type": "code",
   "execution_count": null,
   "metadata": {},
   "outputs": [],
   "source": [
    "git config --get remote.origin.erroneo"
   ]
  },
  {
   "cell_type": "markdown",
   "metadata": {},
   "source": [
    "### Ámbitos de configuración de *Git*.\n",
    "\n",
    "El comando ```git config``` config puede acceder a:\n",
    "\n",
    "* La configuración del repositorio que se está gestionando, la cual está ligada al archivo ```config``` del subdirectorio ```.git``` del repositorio.\n",
    "* La configuración del usuario de *Git*, la cual está ligada al archivo ```.gitconfig``` localizado en el directorio *home* del usuario.\n",
    "* La configuración de  aplicación *Git* dentro del sistema en el que se encuentra, la cual está, ligada al archivo ```/etc/gitconfig``` del sistema.\n",
    "\n",
    "**Nota:** Los archivos de configuración de ```Git``` están estructurados conforme al formato  \n",
    "\n",
    "La sintaxis para definir el ámbito de ```git config``` es:\n",
    "\n",
    "```\n",
    "git config --<opción de ámbito> <opciones>\n",
    "```\n",
    "\n",
    "Donde:\n",
    "\n",
    "* ```<opción de ámbito>``` puede ser:\n",
    "   * ```local``` para la configuración del repositorio que se está gestionando.\n",
    "   * ```global``` para la configuración global del usuario de *Git*.\n",
    "   * ```system``` para la configuración de la aplicación de *Git* en el sistema en el que se encuentra instalada.\n",
    "   \n",
    "En caso de que no se defina un ámbito, el comando ```git config``` traerá la configuración de los ámbitos ```--local``` y ```--global```."
   ]
  },
  {
   "cell_type": "markdown",
   "metadata": {},
   "source": [
    "#### El archivo ```.git/config``` del ámbito ```--local```.\n",
    "\n",
    "El archivo  ```.git/config``` dentro de un repostiorio de *Git* contiene la configuración de dicho repositorio."
   ]
  },
  {
   "cell_type": "markdown",
   "metadata": {},
   "source": [
    "**Ejemplo:**"
   ]
  },
  {
   "cell_type": "markdown",
   "metadata": {},
   "source": [
    "* La siguiente celda mostrará el contenido del archivo ```.git/config``` del repositorio de esta notebook."
   ]
  },
  {
   "cell_type": "code",
   "execution_count": null,
   "metadata": {
    "scrolled": false
   },
   "outputs": [],
   "source": [
    "cat .git/config"
   ]
  },
  {
   "cell_type": "markdown",
   "metadata": {},
   "source": [
    "* La siguiente celda desplegará la configuración del archivo ```.git/config``` del repsitorio actual usando el comando  ```git config --local list```."
   ]
  },
  {
   "cell_type": "code",
   "execution_count": null,
   "metadata": {},
   "outputs": [],
   "source": [
    "git config --local --list"
   ]
  },
  {
   "cell_type": "markdown",
   "metadata": {},
   "source": [
    "#### El archivo ```~/.gitconfig``` del ámbito ```--global```.\n",
    "\n",
    "El archivo de configuración del usuario se llama ```.gitconfig``` y se encuentra en el directorio *home* del usuario. "
   ]
  },
  {
   "cell_type": "markdown",
   "metadata": {},
   "source": [
    "**Ejemplo:**"
   ]
  },
  {
   "cell_type": "markdown",
   "metadata": {},
   "source": [
    "* La siguiente celda despelgará el contenido del archivo ```~/.gitconfig```."
   ]
  },
  {
   "cell_type": "code",
   "execution_count": null,
   "metadata": {
    "scrolled": true
   },
   "outputs": [],
   "source": [
    "cat ~/.gitconfig"
   ]
  },
  {
   "cell_type": "markdown",
   "metadata": {},
   "source": [
    "* La siguiente celda desplegará la configuración del archivo ```~/.gitconfig```usando el comando  ```git config --global list```."
   ]
  },
  {
   "cell_type": "code",
   "execution_count": null,
   "metadata": {
    "scrolled": false
   },
   "outputs": [],
   "source": [
    "git config --global --list"
   ]
  },
  {
   "cell_type": "markdown",
   "metadata": {},
   "source": [
    "#### El archivo ```/etc/.gitconfig``` del ámbito ```--system```.\n",
    "\n",
    "La opción ```--system``` le indica a ```git config``` que ese comando se aplicará a la configuración de la aplicación *Git* en el sistema. En entornos basados en *GNU/Linux* el archivo de configuración se localiza en  ```/etc/gitconfig```:"
   ]
  },
  {
   "cell_type": "markdown",
   "metadata": {},
   "source": [
    "**Ejemplo:**"
   ]
  },
  {
   "cell_type": "markdown",
   "metadata": {},
   "source": [
    "* La siguiente celda tratará de desplegar la configuración contenida en el archivo ```/etc/gitconfig``` usando el comando  ```git config --system list```.\n",
    "\n",
    "**Nota:** Es probable que el archivo ```/etc/gitconfig``` no exista y entonces se producirá un mensaje de error."
   ]
  },
  {
   "cell_type": "code",
   "execution_count": null,
   "metadata": {
    "scrolled": false
   },
   "outputs": [],
   "source": [
    "git config --system --list"
   ]
  },
  {
   "cell_type": "markdown",
   "metadata": {},
   "source": [
    "### Adición o modificación de un campo de la configuración.\n",
    "\n",
    "Es posible añadir un campo o modificar el valor de un campo de la configuración de *Git* mediante la siguiente sintaxis:\n",
    "\n",
    "```\n",
    "git config --<opcion de ámbito> <registro>.<campo> <valor>\n",
    "```\n",
    "\n",
    "Donde:\n",
    "\n",
    "* ```<registro>``` indica el nombre del registro al que pertenece el campo a añadir o modificar.\n",
    "* ```<campo>``` indica el nombre del campo a añadir o modificar.\n",
    "* ```<valor>``` indica el valor del campo a añadir o modificar.\n",
    "* ```<opción de ámbito>``` es el ámbito al que se añadirá el campo. En caso de no definirse, se realziará una búsqueda en los ámbitos ```--local``` y ```--global```.\n",
    "\n",
    "Este comando buscará un registro que coincida y posteriormente un campo que coincida en los archivos de confoguración correspondientes. \n",
    "* En caso de que exista un campo que coincida con la estructura ```<registro>.<campo>```, el valor de dicho campo será sustituido por el valor ingresado. \n",
    "* En caso de que no exista un campo que coincida con la estructura ```<registro>.<campo>```, el campo será creado con el valor ingresado. \n",
    "\n",
    "El contenido de ```<valor>``` siempre será considerado como una cadena de caracteres. En caso de que el valor sea una cadena de caracteres que incluya espacios, es necesario encerrar dicho valor entre comillas ```\" \"```."
   ]
  },
  {
   "cell_type": "markdown",
   "metadata": {},
   "source": [
    "#### Ejemplo de la configuración mínima de un usuario de *Git*.\n",
    "\n",
    "Para poder realizar operaciones de \"commit\", es recomendable definir los datos básicos del usuario:\n",
    "\n",
    "* ```user.name``` para el nombre del usuario.\n",
    "* ```user.email``` para la dirección de correo electronico del usuario.\n",
    "\n",
    "Estos datos pertenecen al ámbito ```--global```."
   ]
  },
  {
   "cell_type": "markdown",
   "metadata": {},
   "source": [
    "* la siguiente celda asignará el valor ```Comunidad Pythonista``` al campo ```user.name``` en el ámbito ```--global```. \n",
    "* Debido a que el valor es una cadena de caracteres con espacios, es necesario encerrarlo entre comillas."
   ]
  },
  {
   "cell_type": "code",
   "execution_count": null,
   "metadata": {
    "scrolled": true
   },
   "outputs": [],
   "source": [
    "git config --global user.name \"Comunidad Pythonista\""
   ]
  },
  {
   "cell_type": "markdown",
   "metadata": {},
   "source": [
    "* la siguiente celda asignará el valor ```contacto@pythonista.io``` al campo ```user.email``` en el ámbito ```--global```. En este caso, las comillas son opcionales."
   ]
  },
  {
   "cell_type": "code",
   "execution_count": null,
   "metadata": {
    "scrolled": true
   },
   "outputs": [],
   "source": [
    "git config --global user.email contacto@pythonista.io"
   ]
  },
  {
   "cell_type": "markdown",
   "metadata": {},
   "source": [
    "* La siguientes celdas mostrará las modificaciones a la configuración."
   ]
  },
  {
   "cell_type": "code",
   "execution_count": null,
   "metadata": {
    "scrolled": true
   },
   "outputs": [],
   "source": [
    "git config -l"
   ]
  },
  {
   "cell_type": "code",
   "execution_count": null,
   "metadata": {
    "scrolled": true
   },
   "outputs": [],
   "source": [
    "git config --get user.email"
   ]
  },
  {
   "cell_type": "code",
   "execution_count": null,
   "metadata": {},
   "outputs": [],
   "source": [
    "cat ~/.gitconfig"
   ]
  },
  {
   "cell_type": "markdown",
   "metadata": {},
   "source": [
    "#### Ejemplo de asignación de un campo inútil a la configuración.\n",
    "\n",
    "Es posible añadir múltiples campos mediante ```git config```. El algunos casos estos campos no son útiles para *Git*."
   ]
  },
  {
   "cell_type": "markdown",
   "metadata": {},
   "source": [
    "* La siguiente celda creará el campo ```error``` en le registro ```use``` el cual se guardará en el ámbito ```--global``` con el valor ```Error```."
   ]
  },
  {
   "cell_type": "code",
   "execution_count": null,
   "metadata": {
    "scrolled": true
   },
   "outputs": [],
   "source": [
    "git config --global use.error Error"
   ]
  },
  {
   "cell_type": "code",
   "execution_count": null,
   "metadata": {
    "scrolled": true
   },
   "outputs": [],
   "source": [
    "git config --get use.error"
   ]
  },
  {
   "cell_type": "code",
   "execution_count": null,
   "metadata": {},
   "outputs": [],
   "source": [
    "cat ~/.gitconfig"
   ]
  },
  {
   "cell_type": "markdown",
   "metadata": {},
   "source": [
    "### Eliminación de un registro dentro de la configuración.\n",
    "\n",
    "Para eliminar un registro, se utiliza la opción ```--remove```.\n",
    "\n",
    "```  bash\n",
    "git config --remove <registro>\n",
    "```"
   ]
  },
  {
   "cell_type": "code",
   "execution_count": null,
   "metadata": {
    "scrolled": true
   },
   "outputs": [],
   "source": [
    "git config --global --remove use"
   ]
  },
  {
   "cell_type": "code",
   "execution_count": null,
   "metadata": {
    "scrolled": true
   },
   "outputs": [],
   "source": [
    "git config -l"
   ]
  },
  {
   "cell_type": "markdown",
   "metadata": {},
   "source": [
    "### Edición de un archivo de configuración de *Git * con la opción ```-e```.\n",
    "\n",
    "Esta opción permite abrir un editor para modificar el archivo de configuración.\n",
    "``` bash\n",
    "git config <ámbito> -e\n",
    "```\n",
    "\n",
    "\n",
    "**Ejemplo:**\n",
    "\n",
    "En este caso se debe ejecutar desde una terminal:\n",
    "\n",
    "``` bash\n",
    "git config --global -e\n",
    "```"
   ]
  },
  {
   "cell_type": "markdown",
   "metadata": {},
   "source": [
    "<p style=\"text-align: center\"><a rel=\"license\" href=\"http://creativecommons.org/licenses/by/4.0/\"><img alt=\"Licencia Creative Commons\" style=\"border-width:0\" src=\"https://i.creativecommons.org/l/by/4.0/80x15.png\" /></a><br />Esta obra está bajo una <a rel=\"license\" href=\"http://creativecommons.org/licenses/by/4.0/\">Licencia Creative Commons Atribución 4.0 Internacional</a>.</p>\n",
    "<p style=\"text-align: center\">&copy; José Luis Chiquete Valdivieso. 2019.</p>"
   ]
  }
 ],
 "metadata": {
  "kernelspec": {
   "display_name": "Bash",
   "language": "bash",
   "name": "bash"
  },
  "language_info": {
   "codemirror_mode": "shell",
   "file_extension": ".sh",
   "mimetype": "text/x-sh",
   "name": "bash"
  }
 },
 "nbformat": 4,
 "nbformat_minor": 2
}
