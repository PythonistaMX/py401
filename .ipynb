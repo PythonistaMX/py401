{
 "cells": [
  {
   "cell_type": "markdown",
   "metadata": {},
   "source": [
    "<a href=\"https://pythonista.io\"> <img src=\"img/pythonista.png\" width=\"100px\"></a>"
   ]
  },
  {
   "cell_type": "markdown",
   "metadata": {},
   "source": [
    "# Repositorios remotos.\n",
    "\n",
    "*Git* tiene la particularidad que puede interactuar con repositorios locales y remotos mediante protocolos de internet específicos y con diversas formas de autenticación.\n"
   ]
  },
  {
   "cell_type": "markdown",
   "metadata": {},
   "source": [
    "## Protocolos soportados por *Git*.\n",
    "* SSH.\n",
    "* HTTP/HTTPS."
   ]
  },
  {
   "cell_type": "markdown",
   "metadata": {},
   "source": [
    "## Autenticación soportada por *Git*.\n",
    "\n",
    "* Los esquemas de autenticación de  SSH.\n",
    "* OAuth.\n",
    "* Atenticación simple.\n",
    "* Autenticación multifactorial."
   ]
  },
  {
   "cell_type": "markdown",
   "metadata": {},
   "source": [
    "## El comando ```git clone```.\n",
    "\n",
    "El comando ```git clone``` permite traer el contenido un repositoro remoto a un repositorio local.\n",
    "\n",
    "\n",
    "```\n",
    "git clone <URL> <ruta>\n",
    "```\n",
    "\n",
    "Donde:\n",
    "\n",
    "* ```<URL>``` es la ruta en la que se encuentra el repositorio remoto.\n",
    "* ```<ruta>``` es la ruta del nuevo repositorio local."
   ]
  },
  {
   "cell_type": "markdown",
   "metadata": {},
   "source": [
    "**Ejemplo:**"
   ]
  },
  {
   "cell_type": "markdown",
   "metadata": {},
   "source": [
    "* La siguiente celda crear;á una copia del repositorio remoto localizado en https://github.com/PythonistaIO/prueba en el subdirectorio ```experimental```."
   ]
  },
  {
   "cell_type": "code",
   "execution_count": 3,
   "metadata": {},
   "outputs": [
    {
     "name": "stdout",
     "output_type": "stream",
     "text": [
      "Cloning into 'experimental'...\n",
      "remote: Enumerating objects: 7, done.        \n",
      "remote: Counting objects: 100% (7/7), done.        \n",
      "remote: Compressing objects: 100% (4/4), done.        \n",
      "remote: Total 7 (delta 0), reused 3 (delta 0), pack-reused 0        \n",
      "Unpacking objects: 100% (7/7), done.\n"
     ]
    }
   ],
   "source": [
    "git clone https://github.com/PythonistaIO/prueba.git experimental"
   ]
  },
  {
   "cell_type": "code",
   "execution_count": 7,
   "metadata": {},
   "outputs": [],
   "source": [
    "cd experimental"
   ]
  },
  {
   "cell_type": "code",
   "execution_count": 8,
   "metadata": {},
   "outputs": [
    {
     "name": "stdout",
     "output_type": "stream",
     "text": [
      ".  ..  archivo  .git  README.md\n"
     ]
    }
   ],
   "source": [
    "ls -a"
   ]
  },
  {
   "cell_type": "markdown",
   "metadata": {},
   "source": [
    "## El comando ```git remote```.\n",
    "\n",
    "El comando "
   ]
  },
  {
   "cell_type": "code",
   "execution_count": 6,
   "metadata": {
    "scrolled": true
   },
   "outputs": [
    {
     "name": "stdout",
     "output_type": "stream",
     "text": [
      "error: Unknown subcommand: list\n",
      "usage: git remote [-v | --verbose]\n",
      "   or: git remote add [-t <branch>] [-m <master>] [-f] [--tags | --no-tags] [--mirror=<fetch|push>] <name> <url>\n",
      "   or: git remote rename <old> <new>\n",
      "   or: git remote remove <name>\n",
      "   or: git remote set-head <name> (-a | --auto | -d | --delete | <branch>)\n",
      "   or: git remote [-v | --verbose] show [-n] <name>\n",
      "   or: git remote prune [-n | --dry-run] <name>\n",
      "   or: git remote [-v | --verbose] update [-p | --prune] [(<group> | <remote>)...]\n",
      "   or: git remote set-branches [--add] <name> <branch>...\n",
      "   or: git remote get-url [--push] [--all] <name>\n",
      "   or: git remote set-url [--push] <name> <newurl> [<oldurl>]\n",
      "   or: git remote set-url --add <name> <newurl>\n",
      "   or: git remote set-url --delete <name> <url>\n",
      "\n",
      "    -v, --verbose         be verbose; must be placed before a subcommand\n",
      "\n"
     ]
    },
    {
     "ename": "",
     "evalue": "129",
     "output_type": "error",
     "traceback": []
    }
   ],
   "source": [
    "git remote list"
   ]
  },
  {
   "cell_type": "markdown",
   "metadata": {},
   "source": [
    "## El comando ```git fetch```."
   ]
  },
  {
   "cell_type": "markdown",
   "metadata": {},
   "source": [
    "## El comando ```git pull```"
   ]
  },
  {
   "cell_type": "code",
   "execution_count": null,
   "metadata": {},
   "outputs": [],
   "source": []
  },
  {
   "cell_type": "markdown",
   "metadata": {},
   "source": [
    "## El comando ```git push```."
   ]
  },
  {
   "cell_type": "code",
   "execution_count": null,
   "metadata": {},
   "outputs": [],
   "source": []
  },
  {
   "cell_type": "markdown",
   "metadata": {},
   "source": [
    "## Github."
   ]
  },
  {
   "cell_type": "markdown",
   "metadata": {},
   "source": [
    "### Pull request."
   ]
  },
  {
   "cell_type": "markdown",
   "metadata": {},
   "source": [
    "<p style=\"text-align: center\"><a rel=\"license\" href=\"http://creativecommons.org/licenses/by/4.0/\"><img alt=\"Licencia Creative Commons\" style=\"border-width:0\" src=\"https://i.creativecommons.org/l/by/4.0/80x15.png\" /></a><br />Esta obra está bajo una <a rel=\"license\" href=\"http://creativecommons.org/licenses/by/4.0/\">Licencia Creative Commons Atribución 4.0 Internacional</a>.</p>\n",
    "<p style=\"text-align: center\">&copy; José Luis Chiquete Valdivieso. 2018.</p>"
   ]
  }
 ],
 "metadata": {
  "kernelspec": {
   "display_name": "Bash",
   "language": "bash",
   "name": "bash"
  },
  "language_info": {
   "codemirror_mode": "shell",
   "file_extension": ".sh",
   "mimetype": "text/x-sh",
   "name": "bash"
  }
 },
 "nbformat": 4,
 "nbformat_minor": 2
}
