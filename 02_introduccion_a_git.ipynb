{
 "cells": [
  {
   "cell_type": "markdown",
   "metadata": {},
   "source": [
    "<a href=\"https://pythonista.io\"> <img src=\"img/pythonista.png\" width=\"100px\"></a>"
   ]
  },
  {
   "cell_type": "markdown",
   "metadata": {},
   "source": [
    "# Introducción a *Git*."
   ]
  },
  {
   "cell_type": "markdown",
   "metadata": {},
   "source": [
    "## Sistemas de gesión de versiones.\n",
    "\n",
    "Un sistema de gestión de versiones es una herramienta que permite llevar el seguimiento y control de documentos y archivos dentro de un directorio específico, permitiendo identificar las diversas modificaciones que podría haber tenido cada elemento del directorio a lo largo del tiempo.\n",
    "\n",
    "Los sistemas de gestión de versiones fueron ideados inicialmente para llevar control de código fuente de un proyecto de desarrollo de software. Sin embargo, debido a que estos sistemas pueden dar seguimiento a prácticamente cualquier tipo de documento, es posible utilizarlos para proyectos de diversas índoles, incluyendo archivos de medios y paquetes de binarios.\n",
    "\n",
    "En al siguiente liga es posible consultar un listado de programas para el control de versiones.\n",
    "\n",
    "https://es.wikipedia.org/wiki/Programas_para_control_de_versiones"
   ]
  },
  {
   "cell_type": "markdown",
   "metadata": {},
   "source": [
    "## Artefactos.\n",
    "\n",
    "El término \"artefacto\" dentro del ámbito de desarrollo de software se refiere a todos aquellos documentos que sean resultado del proceso de desarrollo de software, como es el caso de:\n",
    "\n",
    "* Bibliotecas de binarios.\n",
    "* Documentación.\n",
    "* Paquetes de software.\n",
    "* Imágenes de contenedores o máquinas virtuales.\n",
    "* Archivos de configuración y especificaciones.\n",
    "* Datos.\n",
    "* \"Blobs\", los cuales correspoden a archivos en formato binario que no son necesariamente ejecutables.\n"
   ]
  },
  {
   "cell_type": "markdown",
   "metadata": {},
   "source": [
    "## *Git*.\n",
    "\n",
    "[*Git*](https://git-scm.com/) es un sistema de gestión de versiones distribuido creado por [Linus Torvalds](https://es.wikipedia.org/wiki/Linus_Torvalds) con el propósito inicial de poder dar seguimiento al desarrollo del kernel de *Linux*. Actualmente *git* es el gestor de versiones más popular entre la comunidad de desarrolladores. \n",
    "\n",
    "\n",
    "Las principales caracterísiticas de *Git* son:\n",
    "\n",
    "* De código abierto.\n",
    "* Descentralizado.\n",
    "* Distribuido.\n",
    "* Rápido.\n",
    "* Robusto."
   ]
  },
  {
   "cell_type": "markdown",
   "metadata": {},
   "source": [
    "### Descarga de ```Git```.\n",
    "\n",
    "*Git* ha sido portado a prácticamente todas plataformas y sistemas operativos modernos, conformando parte de los paquetes básicos de un entorno de desarrollo. Sin embargo, también es posible descargar un instalador desde la siguiente liga: \n",
    "\n",
    "https://git-scm.com/downloads"
   ]
  },
  {
   "cell_type": "markdown",
   "metadata": {},
   "source": [
    "### Clientes de *Git*.\n",
    "\n",
    "*Git* puede ser ejecutado mediante un *cliente*. \n",
    "\n",
    "El cliente más común de *Git* corresponde al comando ```git``` ejecutado desde la Interfaz de Línea de Comandos (*CLI*), sin embargo existe una gran cantidad de clientes que aprovechan una interfaz gráfica las cuales pueden ser consultadas en la siguiente liga:\n",
    "\n",
    "https://git-scm.com/downloads/guis\n",
    "\n",
    "**Nota:** Este curso está basado en el uso del comando ```git``` desde una *CLI* de *GNU/Linux*."
   ]
  },
  {
   "cell_type": "markdown",
   "metadata": {},
   "source": [
    "#### *Git GUI*.\n",
    "\n",
    "El paquete descargado del sitio oficial de *Git* incluye un cliente con una interfaz gráfica basada en [*tcl/tk*](https://es.wikipedia.org/wiki/Tcl) llamado *Git GUI*.\n",
    "\n",
    "La siguiente inagen correpsonde a la interfas de *Git GUI*.\n",
    "\n",
    "<img src=\"img/02/git-gui.png\" width=\"250px\">"
   ]
  },
  {
   "cell_type": "markdown",
   "metadata": {},
   "source": [
    "#### *Git Bash*.\n",
    "\n",
    "El cliente *Git Bash* se utiliza primordialmente en sistemas basados en *Windows*. Este cliente crea una terminal corriendo la biblioteca [*Ming-w64*](mingw-w64.org), la cual es capaz de ejecutar no sólo el comando ```git```, sino que crea un entorno que contiene al shell [*bash*](https://www.gnu.org/software/bash/). De este modo es posible tener una *CLI* muy similar a la usada en sistemas basados en *GNU/Linux*."
   ]
  },
  {
   "cell_type": "markdown",
   "metadata": {},
   "source": [
    "## El comando ```git```.\n",
    "\n",
    "El comando ```git``` permite realizar muy diveras operaciones con repositorios de *Git* mediante la siguiente sintaxis.\n",
    "\n",
    "``` bash\n",
    "git <verbo> <opciones y argumentos>\n",
    "```\n",
    "Donde:\n",
    "\n",
    "* ```<verbo>``` es un subcomando de ```git```.\n"
   ]
  },
  {
   "cell_type": "markdown",
   "metadata": {},
   "source": [
    "**Ejemplos:**"
   ]
  },
  {
   "cell_type": "markdown",
   "metadata": {},
   "source": [
    "* El comando ```git help``` de la sigu8iente celda desplegará la ayuda de ```git```."
   ]
  },
  {
   "cell_type": "code",
   "execution_count": null,
   "metadata": {
    "scrolled": true
   },
   "outputs": [],
   "source": [
    "git help"
   ]
  },
  {
   "cell_type": "markdown",
   "metadata": {},
   "source": [
    "* El comando ```git status``` de la siguiente celda desplegará el estado del repositorio actual.\n",
    "\n",
    "**Nota:** Esta notebook pertence a un repositorio local clonado desde https://github.com/PythonistaMX/py401."
   ]
  },
  {
   "cell_type": "code",
   "execution_count": null,
   "metadata": {
    "scrolled": true
   },
   "outputs": [],
   "source": [
    "git status"
   ]
  },
  {
   "cell_type": "markdown",
   "metadata": {},
   "source": [
    "* La siguiente celda desplegará la versión de ```git``` que se tiene instalada en el sistema."
   ]
  },
  {
   "cell_type": "code",
   "execution_count": null,
   "metadata": {
    "scrolled": true
   },
   "outputs": [],
   "source": [
    "git version"
   ]
  },
  {
   "cell_type": "markdown",
   "metadata": {},
   "source": [
    "## Los repositorios de *Git*.\n",
    "\n",
    "Un repositorio de *Git* no es otra cosa más que un directorio que incluye al subdirectorio ```.git```. La información y configuración del repositorio se encuentra en dicho directorio.\n",
    "\n",
    "*Git* permite tener repositorios locales, los cuales a su vez pueden acceder y sincronizarse con repositorios remotos."
   ]
  },
  {
   "cell_type": "markdown",
   "metadata": {},
   "source": [
    "**Ejemplo:**"
   ]
  },
  {
   "cell_type": "markdown",
   "metadata": {},
   "source": [
    "* La siguiente celda mostrará el contenido del subdirectorio ```.git``` que se encuentra en el directorio de esta notebook. "
   ]
  },
  {
   "cell_type": "code",
   "execution_count": null,
   "metadata": {
    "scrolled": false
   },
   "outputs": [],
   "source": [
    "ls -al .git"
   ]
  },
  {
   "cell_type": "markdown",
   "metadata": {},
   "source": [
    "## Configuración de *Git*.\n",
    "\n",
    "Para conocer o modificar la configuración de *Git* o de un repositorio de *Git* se utiliza el comando ```git config```.\n",
    "\n",
    "Dicho comando puede gestionar la configuración general de *Git* o la configuración de un repositorio específico."
   ]
  },
  {
   "cell_type": "markdown",
   "metadata": {},
   "source": [
    "* Las siguientes celdas mostrarán la documentación del comando ```git config```."
   ]
  },
  {
   "cell_type": "code",
   "execution_count": null,
   "metadata": {
    "scrolled": true
   },
   "outputs": [],
   "source": [
    "git help config"
   ]
  },
  {
   "cell_type": "code",
   "execution_count": null,
   "metadata": {
    "scrolled": false
   },
   "outputs": [],
   "source": [
    "git config"
   ]
  },
  {
   "cell_type": "markdown",
   "metadata": {},
   "source": [
    "### El archivo ```.git/config``` de un repositorio local.\n",
    "\n",
    "El archivo ```config``` localizado en el directorio ```.git``` de un repositorio local contiene la configuración actual de dihco repositorio.\n",
    "\n",
    "La configuración usa la estructura de un documento basado en [TOML](https://github.com/toml-lang/toml)."
   ]
  },
  {
   "cell_type": "markdown",
   "metadata": {},
   "source": [
    "**Ejemplo:**"
   ]
  },
  {
   "cell_type": "markdown",
   "metadata": {},
   "source": [
    "* La siguiente celda mostrará el contenido del archivo ```.git/config``` del repositorio de esta notebook."
   ]
  },
  {
   "cell_type": "code",
   "execution_count": null,
   "metadata": {
    "scrolled": false
   },
   "outputs": [],
   "source": [
    "cat .git/config"
   ]
  },
  {
   "cell_type": "markdown",
   "metadata": {},
   "source": [
    "### El archivo de configuración global de *Git*.\n",
    "\n",
    "El archivo de configuración de *Git* se llama ```.gitconfig``` y se encuentra en el directorio *home* del usuario. "
   ]
  },
  {
   "cell_type": "markdown",
   "metadata": {},
   "source": [
    "**Ejemplo:**"
   ]
  },
  {
   "cell_type": "markdown",
   "metadata": {},
   "source": [
    "* La siguiente celda despelgará el contenido del archivo ```~/.gitconfig```."
   ]
  },
  {
   "cell_type": "code",
   "execution_count": null,
   "metadata": {
    "scrolled": true
   },
   "outputs": [],
   "source": [
    "cat ~/.gitconfig"
   ]
  },
  {
   "cell_type": "markdown",
   "metadata": {},
   "source": [
    "### Despliegue de un listado de campos con la opción ```--list```.\n",
    "\n",
    "La opción ```--list```o ```-l``` se utiliza pare desplegar información, por lo que la siguiente sintaxis reresará  un listado de los campos de que conforman la configuración de *Git*, tanto de la información global básica de *Git*, así como la del repositorio en el que se encuentra.\n",
    "\n",
    "``` bash\n",
    "git config --list \n",
    "```\n",
    "\n",
    "\n",
    "El resultado es un listado de pares ```<campo>=<valor>```."
   ]
  },
  {
   "cell_type": "markdown",
   "metadata": {},
   "source": [
    "**Ejemplo:**"
   ]
  },
  {
   "cell_type": "markdown",
   "metadata": {},
   "source": [
    "* La siguiente celda mostrará la configuración general de *Git* y la del repositorio al que pertence esta notebook."
   ]
  },
  {
   "cell_type": "code",
   "execution_count": null,
   "metadata": {
    "scrolled": true
   },
   "outputs": [],
   "source": [
    "git config --list"
   ]
  },
  {
   "cell_type": "markdown",
   "metadata": {},
   "source": [
    "### Despliege de un valor de un campo con la opción ```--get```.\n",
    "\n",
    "Mientras que la opción ```--list``` despliega todos los datos de configuración, la opción ```--get``` sólo regresará el valor del campo especificado.\n",
    "\n",
    "``` bash\n",
    "git config --get <campo>\n",
    "```"
   ]
  },
  {
   "cell_type": "markdown",
   "metadata": {},
   "source": [
    "**Ejemplo:**"
   ]
  },
  {
   "cell_type": "markdown",
   "metadata": {},
   "source": [
    "* La siguiente celda regresará el valor del campo ```remote.origin.url```."
   ]
  },
  {
   "cell_type": "code",
   "execution_count": null,
   "metadata": {
    "scrolled": true
   },
   "outputs": [],
   "source": [
    "git config --get remote.origin.url"
   ]
  },
  {
   "cell_type": "markdown",
   "metadata": {},
   "source": [
    "### Selección del ámbito global con la opción ```--global```.\n",
    "\n",
    "La opción ```--global``` le indica a ```git config``` que ese comando se aplicará exclusivamente al ámbito global de *Git*, por lo que el siguiente comando desplegará solo la configuración global:\n",
    "\n",
    "``` bash\n",
    "git config --global --list\n",
    "```\n"
   ]
  },
  {
   "cell_type": "markdown",
   "metadata": {},
   "source": [
    "**Ejemplo:**"
   ]
  },
  {
   "cell_type": "markdown",
   "metadata": {},
   "source": [
    "* La siguiente celda mostrará exclusivamente la información global de *Git*."
   ]
  },
  {
   "cell_type": "code",
   "execution_count": null,
   "metadata": {
    "scrolled": false
   },
   "outputs": [],
   "source": [
    "git config --global --list"
   ]
  },
  {
   "cell_type": "markdown",
   "metadata": {},
   "source": [
    "### Selección de la configuración del repositorio con la opción ```--local```.\n",
    "\n",
    "La opción ```--local``` le indica a ```git config``` que ese comando se aplicará exclusivamente al repositorio actual por lo que el siguiente comando desplegará solo la configuración local:\n",
    "\n",
    "``` bash\n",
    "git config --local --list\n",
    "```"
   ]
  },
  {
   "cell_type": "markdown",
   "metadata": {},
   "source": [
    "### Selección de la configuración del  sistema con la opción ```--system```.\n",
    "\n",
    "La opción ```--system``` le indica a ```git config``` que ese comando se aplicará exclusivamente a la configuración de *Git* en el sistema. En entornos basados en *GNU/Linux* el archivo de configuración se localiza en  ```/etc/gitconfig```:\n",
    "\n",
    "``` bash\n",
    "git config --system --list\n",
    "```"
   ]
  },
  {
   "cell_type": "markdown",
   "metadata": {},
   "source": [
    "**Ejemplo:**"
   ]
  },
  {
   "cell_type": "markdown",
   "metadata": {},
   "source": [
    "* La siguiente celda tratará de buscar la configuración contenida en el archivo ```/etc/gitconfig```.\n",
    "\n",
    "**Nota:** Es probable que el archivo ```/etc/gitconfig``` no exista y entonces se producirá un mensaje de error."
   ]
  },
  {
   "cell_type": "code",
   "execution_count": null,
   "metadata": {
    "scrolled": false
   },
   "outputs": [],
   "source": [
    "git config --system --list"
   ]
  },
  {
   "cell_type": "markdown",
   "metadata": {},
   "source": [
    "### Adición de un campo a la configuración.\n",
    "\n",
    "```\n",
    "git config <campo> <valor>\n",
    "```"
   ]
  },
  {
   "cell_type": "markdown",
   "metadata": {},
   "source": [
    "#### Configuración mínima de un usuario de *Git*.\n",
    "\n",
    "Para poder crear un repositorio propio, primero es recomendable definir los datos del usuario."
   ]
  },
  {
   "cell_type": "markdown",
   "metadata": {},
   "source": [
    "Los datos del usuario pertencen al registro ```user``` y cada campo del usuario se definen mediante la siguiente sintaxis:\n",
    "\n",
    "```\n",
    "user.<campo>\n",
    "```\n",
    "\n",
    "Definición de nombre del usuario de *Git* se utiliza:\n",
    "\n",
    "```  bash\n",
    "git config --global user.name \"<nombre>\"\n",
    "```\n",
    "\n",
    "Definición del correo electrónico del usuario de *Git* se utiliza:\n",
    "\n",
    "```  bash\n",
    "git config --global user.email \"<dirección de correo>\"\n",
    "```"
   ]
  },
  {
   "cell_type": "code",
   "execution_count": null,
   "metadata": {
    "scrolled": true
   },
   "outputs": [],
   "source": [
    "git config --global user.name \"Jose Luis Chiquete V.\""
   ]
  },
  {
   "cell_type": "code",
   "execution_count": null,
   "metadata": {
    "scrolled": true
   },
   "outputs": [],
   "source": [
    "git config --global user.email josech@gmail.com"
   ]
  },
  {
   "cell_type": "code",
   "execution_count": null,
   "metadata": {
    "scrolled": true
   },
   "outputs": [],
   "source": [
    "git config -l"
   ]
  },
  {
   "cell_type": "code",
   "execution_count": null,
   "metadata": {
    "scrolled": true
   },
   "outputs": [],
   "source": [
    "git config --global --get user.email"
   ]
  },
  {
   "cell_type": "code",
   "execution_count": null,
   "metadata": {},
   "outputs": [],
   "source": [
    "cat ~/.gitconfig"
   ]
  },
  {
   "cell_type": "markdown",
   "metadata": {},
   "source": [
    "Es posible añadir múltiples campos mediante ```git config```. El algunos casos estos campos no son útiles para *Git*."
   ]
  },
  {
   "cell_type": "markdown",
   "metadata": {},
   "source": [
    "**Ejemplo:**"
   ]
  },
  {
   "cell_type": "markdown",
   "metadata": {},
   "source": [
    "* La siguiente celda creará el campo ```use.error``` el cual se guardará en la configuración global, pero quen no afecta en nada a *Git*."
   ]
  },
  {
   "cell_type": "code",
   "execution_count": null,
   "metadata": {
    "scrolled": true
   },
   "outputs": [],
   "source": [
    "git config --global use.error \"Error\""
   ]
  },
  {
   "cell_type": "code",
   "execution_count": null,
   "metadata": {
    "scrolled": true
   },
   "outputs": [],
   "source": [
    "git config -l"
   ]
  },
  {
   "cell_type": "markdown",
   "metadata": {},
   "source": [
    "### Eliminación de un campo mediante la opción ```--remove```.\n",
    "\n",
    "Para eliminar un campo completo, se utiliza.\n",
    "\n",
    "```  bash\n",
    "git config --remove <campo>\n",
    "```"
   ]
  },
  {
   "cell_type": "code",
   "execution_count": null,
   "metadata": {
    "scrolled": true
   },
   "outputs": [],
   "source": [
    "git config --global --remove use"
   ]
  },
  {
   "cell_type": "code",
   "execution_count": null,
   "metadata": {
    "scrolled": true
   },
   "outputs": [],
   "source": [
    "git config -l"
   ]
  },
  {
   "cell_type": "code",
   "execution_count": null,
   "metadata": {},
   "outputs": [],
   "source": [
    "cat ~/.gitconfig"
   ]
  },
  {
   "cell_type": "markdown",
   "metadata": {},
   "source": [
    "### Edición del archivo de configuración de Git con la opción ```-e```.\n",
    "\n",
    "Esta opción permite abrir un editor para modificar el archivo de configuración.\n",
    "``` bash\n",
    "git config <ámbito> -e\n",
    "```\n",
    "\n",
    "\n",
    "**Ejemplo:**\n",
    "\n",
    "En este caso se debe ejecutar desde una terminal:\n",
    "\n",
    "``` bash\n",
    "git config --global -e\n",
    "```"
   ]
  },
  {
   "cell_type": "markdown",
   "metadata": {},
   "source": [
    "## Inicialización de un repositorio local.\n",
    "\n",
    "El comando ```git init``` perimite definir a un directorio dado como un repositorio de *Git*.\n",
    "\n",
    "\n",
    "``` bash\n",
    "git init <ruta>\n",
    "```"
   ]
  },
  {
   "cell_type": "markdown",
   "metadata": {},
   "source": [
    "**Ejemplo:**"
   ]
  },
  {
   "cell_type": "markdown",
   "metadata": {},
   "source": [
    "* La siguiente celda creará al directorio ```local``` en el directorio superior al que contiene esta notebook."
   ]
  },
  {
   "cell_type": "code",
   "execution_count": null,
   "metadata": {
    "scrolled": true
   },
   "outputs": [],
   "source": [
    "mkdir ../local"
   ]
  },
  {
   "cell_type": "markdown",
   "metadata": {},
   "source": [
    "* La siguiente celda inicializará al directorio ```../local``` como un repositorio de *Git*."
   ]
  },
  {
   "cell_type": "code",
   "execution_count": null,
   "metadata": {
    "scrolled": true
   },
   "outputs": [],
   "source": [
    "git init ../local"
   ]
  },
  {
   "cell_type": "code",
   "execution_count": null,
   "metadata": {
    "scrolled": false
   },
   "outputs": [],
   "source": [
    "ls -al ../local/.git"
   ]
  },
  {
   "cell_type": "markdown",
   "metadata": {},
   "source": [
    "## Consulta del estado del repositorio local.\n",
    "\n",
    "Para conocer el estado del respositorio se utiliza:\n",
    "\n",
    "``` bash\n",
    "git status\n",
    "```"
   ]
  },
  {
   "cell_type": "code",
   "execution_count": null,
   "metadata": {
    "scrolled": false
   },
   "outputs": [],
   "source": [
    "git status"
   ]
  },
  {
   "cell_type": "markdown",
   "metadata": {},
   "source": [
    "## Estado de los archivos de un repositorio.\n",
    "\n",
    "Un repositorio de *Git* lleva una relación delos archivos que son modificados en un periodo de tiempo dado.\n",
    "\n",
    "Para que estos cambios puedan ser asentados es necesario utiliza el comando ```git commit```.\n",
    "\n",
    "Al asentar (hacer un \"commit\") se realiza lo siguiente:\n",
    "* Hace un análisis de los cambios de cada archivo.\n",
    "* Registra los cambios.\n",
    "* Genera y asigna un número único (digest) a dichos cambios. "
   ]
  },
  {
   "cell_type": "markdown",
   "metadata": {},
   "source": [
    "### Inclusión de archivos al área de preparación (staging area).\n",
    "\n",
    "El área de preparación corresponde al estado de un repositorio entre \"commits\"."
   ]
  },
  {
   "cell_type": "markdown",
   "metadata": {},
   "source": [
    "#### Adición de datos a la zona de preparación.\n",
    "\n",
    "Para añadir archivos a la zona de preparación se utiliza:\n",
    "\n",
    "``` bash\n",
    "git add <archivos> <argumentos>\n",
    "```\n",
    "\n",
    "En caso de querer añadir todos los archivos modificados del repositorio se utiliza:\n",
    "\n",
    "\n",
    "``` bash\n",
    "git add --all\n",
    "```\n"
   ]
  },
  {
   "cell_type": "code",
   "execution_count": null,
   "metadata": {
    "scrolled": true
   },
   "outputs": [],
   "source": [
    "git add --all"
   ]
  },
  {
   "cell_type": "code",
   "execution_count": null,
   "metadata": {
    "scrolled": false
   },
   "outputs": [],
   "source": [
    "git status"
   ]
  },
  {
   "cell_type": "markdown",
   "metadata": {},
   "source": [
    "### Asignado de etiquetas con respecto a un cambio en el repositorio:\n",
    "\n",
    "Para llevar un control en un tiempo específico de los cambios en la \"staging area\", estos son etiquetados mediante el comando:\n",
    "\n",
    "``` bash \n",
    "git commit\n",
    "```\n",
    "Al ejecutar el comando de esta forma, se abrirá un editor de texto pidiendo la descripción de commit.\n",
    "\n",
    "Para enviar la descripción sin necesidad de abrir el editor de texto se usa:\n",
    "\n",
    "``` bash \n",
    "git commit -m \"<mensaje>\"\n",
    "```\n"
   ]
  },
  {
   "cell_type": "code",
   "execution_count": null,
   "metadata": {
    "scrolled": false
   },
   "outputs": [],
   "source": [
    "git commit -m \"prueba\""
   ]
  },
  {
   "cell_type": "code",
   "execution_count": null,
   "metadata": {},
   "outputs": [],
   "source": [
    "git status"
   ]
  },
  {
   "cell_type": "code",
   "execution_count": null,
   "metadata": {},
   "outputs": [],
   "source": [
    "git log"
   ]
  },
  {
   "cell_type": "markdown",
   "metadata": {},
   "source": [
    "<p style=\"text-align: center\"><a rel=\"license\" href=\"http://creativecommons.org/licenses/by/4.0/\"><img alt=\"Licencia Creative Commons\" style=\"border-width:0\" src=\"https://i.creativecommons.org/l/by/4.0/80x15.png\" /></a><br />Esta obra está bajo una <a rel=\"license\" href=\"http://creativecommons.org/licenses/by/4.0/\">Licencia Creative Commons Atribución 4.0 Internacional</a>.</p>\n",
    "<p style=\"text-align: center\">&copy; José Luis Chiquete Valdivieso. 2019.</p>"
   ]
  }
 ],
 "metadata": {
  "kernelspec": {
   "display_name": "Bash",
   "language": "bash",
   "name": "bash"
  },
  "language_info": {
   "codemirror_mode": "shell",
   "file_extension": ".sh",
   "mimetype": "text/x-sh",
   "name": "bash"
  }
 },
 "nbformat": 4,
 "nbformat_minor": 2
}
