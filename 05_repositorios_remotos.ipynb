{
 "cells": [
  {
   "cell_type": "markdown",
   "metadata": {},
   "source": [
    "<a href=\"https://pythonista.io\"> <img src=\"img/pythonista.png\" width=\"100px\"></a>"
   ]
  },
  {
   "cell_type": "markdown",
   "metadata": {},
   "source": [
    "# Repositorios remotos.\n",
    "\n",
    "*Git* tiene la particularidad que puede interactuar con repositorios locales. En vista de que los repostorios de *Git* son directorios comunues y corrientres, lo único que se debe hacer es creasr las condiciones para que un usuario pueda acceder de forma remota a dicho directorio.\n",
    "\n",
    "De este modo, la forma en la que un usuario accede a el repositorio no depende de *Git* sino del servidor que lo contiene."
   ]
  },
  {
   "cell_type": "markdown",
   "metadata": {},
   "source": [
    "## Protocolos soportados por *Git*.\n",
    "* *SSH.*\n",
    "* *HTTP/HTTPS.*"
   ]
  },
  {
   "cell_type": "markdown",
   "metadata": {},
   "source": [
    "## Autenticación soportada por *Git*.\n",
    "\n",
    "* Los esquemas de autenticación de  *SSH*.\n",
    "* Los esquemas de autenticación de *HTTP*.\n",
    "* Autenticación federada con *OAuth*."
   ]
  },
  {
   "cell_type": "markdown",
   "metadata": {},
   "source": [
    "## El comando ```git clone```.\n",
    "\n",
    "El comando ```git clone``` permite traer el contenido un repositoro remoto a un repositorio local.\n",
    "\n",
    "\n",
    "```\n",
    "git clone <URL> <ruta>\n",
    "```\n",
    "\n",
    "Donde:\n",
    "\n",
    "* ```<URL>``` es la ruta en la que se encuentra el repositorio remoto.\n",
    "* ```<ruta>``` es la ruta del nuevo repositorio local."
   ]
  },
  {
   "cell_type": "code",
   "execution_count": null,
   "metadata": {},
   "outputs": [],
   "source": [
    "git clone demo experimental"
   ]
  },
  {
   "cell_type": "code",
   "execution_count": null,
   "metadata": {},
   "outputs": [],
   "source": [
    "tree demo"
   ]
  },
  {
   "cell_type": "code",
   "execution_count": null,
   "metadata": {},
   "outputs": [],
   "source": [
    "tree experimental"
   ]
  },
  {
   "cell_type": "code",
   "execution_count": null,
   "metadata": {},
   "outputs": [],
   "source": [
    "rm -rf experimental"
   ]
  },
  {
   "cell_type": "markdown",
   "metadata": {},
   "source": [
    "**Ejemplo:**"
   ]
  },
  {
   "cell_type": "markdown",
   "metadata": {},
   "source": [
    "* La siguiente celda creará una copia del repositorio remoto localizado en https://github.com/PythonistaIO/prueba en el subdirectorio ```experimental```."
   ]
  },
  {
   "cell_type": "code",
   "execution_count": null,
   "metadata": {},
   "outputs": [],
   "source": [
    "git clone https://github.com/PythonistaIO/prueba.git"
   ]
  },
  {
   "cell_type": "code",
   "execution_count": null,
   "metadata": {},
   "outputs": [],
   "source": [
    "cd prueba"
   ]
  },
  {
   "cell_type": "code",
   "execution_count": null,
   "metadata": {},
   "outputs": [],
   "source": [
    "ls -a"
   ]
  },
  {
   "cell_type": "markdown",
   "metadata": {},
   "source": [
    "## El comando ```git remote```.\n",
    "\n",
    "El comando ```git remote```permite realizar operaciones d gestión de repositorios remotos. \n",
    "\n",
    "La referencia al comando ```git remote``` puede ser consultada en:\n",
    "\n",
    "https://git-scm.com/docs/git-remote"
   ]
  },
  {
   "cell_type": "markdown",
   "metadata": {},
   "source": [
    "### Listado de repositorios remotos.\n",
    "\n",
    "La sintaxis para enlistar los repositorios remotos ligados a un repositorio local.  \n",
    "```git remote show```.\n",
    "\n",
    "**Nota:** Como regla general, el repositorio remoto principal tiene como nombre ```origin```."
   ]
  },
  {
   "cell_type": "code",
   "execution_count": null,
   "metadata": {
    "scrolled": false
   },
   "outputs": [],
   "source": [
    "git remote show"
   ]
  },
  {
   "cell_type": "markdown",
   "metadata": {},
   "source": [
    "## Configuración de los repositorios remotos en el ámbito ```--local```.\n",
    "\n",
    "La configuración de un repositorio remoto es guardada en el ámbito ```--local``` en un registro con la estructura.\n",
    "\n",
    "```\n",
    "remote.<nombre>\n",
    "```\n",
    "\n",
    "Donde:\n",
    "\n",
    "* ```<nombre>``` es el nombre dado al repositorio remoto."
   ]
  },
  {
   "cell_type": "markdown",
   "metadata": {},
   "source": [
    "**Ejemplo:**"
   ]
  },
  {
   "cell_type": "markdown",
   "metadata": {},
   "source": [
    "* La siguiente celda traerá la configuración del ámbito ```--local``` del repositorio actual. Se podrá apreciar que el registro ```remote.origin``` corresponde a la configuración del reposotorio remoto ```origin```."
   ]
  },
  {
   "cell_type": "code",
   "execution_count": null,
   "metadata": {},
   "outputs": [],
   "source": [
    "git config --local --list"
   ]
  },
  {
   "cell_type": "code",
   "execution_count": null,
   "metadata": {},
   "outputs": [],
   "source": [
    "cat .git/config"
   ]
  },
  {
   "cell_type": "markdown",
   "metadata": {},
   "source": [
    "### Adición de un repositorio remoto.\n",
    "\n",
    "Para relacionar unrepositorio remoto a un repositorio local se usa la siguiente sintaxis.\n",
    "\n",
    "```\n",
    "git remote add <nombre> <URL>\n",
    "```\n",
    "\n",
    "Donde:\n",
    "\n",
    "* ```<nombre>``` es el nombre que se le dará al repositorio remoto.\n",
    "* ```<URL>``` es la URL del repositorio remoto."
   ]
  },
  {
   "cell_type": "markdown",
   "metadata": {},
   "source": [
    "**Ejemplo:**"
   ]
  },
  {
   "cell_type": "markdown",
   "metadata": {},
   "source": [
    "* Se relacionará al repositorio localizado en la URL ```git@github.com:PythonistaIO/prueba.git``` con el nombre ```alterno```"
   ]
  },
  {
   "cell_type": "code",
   "execution_count": null,
   "metadata": {},
   "outputs": [],
   "source": [
    "git remote add alterno git@github.com:PythonistaIO/prueba.git"
   ]
  },
  {
   "cell_type": "code",
   "execution_count": null,
   "metadata": {},
   "outputs": [],
   "source": [
    "git remote show"
   ]
  },
  {
   "cell_type": "code",
   "execution_count": null,
   "metadata": {},
   "outputs": [],
   "source": [
    "git config --local --list"
   ]
  },
  {
   "cell_type": "code",
   "execution_count": null,
   "metadata": {},
   "outputs": [],
   "source": [
    "cat .git/config"
   ]
  },
  {
   "cell_type": "markdown",
   "metadata": {},
   "source": [
    "## Acceso a la rama  de un repositorio remoto.\n",
    "\n",
    "*Git* permite acceder a las ramas de un repositorio remoto utilizando el comando ```git checkout```, Sin embargo, ya que dichas ramas no pertenecen al repositorio local, la rama remota a la que se acceda estará en estado ```'detached HEAD'```."
   ]
  },
  {
   "cell_type": "markdown",
   "metadata": {},
   "source": [
    "### Referencia a la rama de un repositorio remoto.\n",
    "\n",
    "Para hacer referencia a un archivo remoto se utiliza la siguiente estructura:\n",
    "\n",
    "```\n",
    "<remoto>/<rama>\n",
    "```\n",
    "\n",
    "Donde:\n",
    "\n",
    "* ```<remoto>``` es el nombre del repositorio remoto.\n",
    "* ```<rama>``` es el nombre de la rama en el repositorio remoto.\n",
    "\n",
    "**Nota:** Es muy importante hacer notar que el acceso a un repositorio remoto no se realiza mediante una conexión continua, por lo que es necesario actualizar la información contenida en dichos repositorios mediante los comandos ```git fetch``` y ```git pull```."
   ]
  },
  {
   "cell_type": "markdown",
   "metadata": {},
   "source": [
    "**Ejemplo:**"
   ]
  },
  {
   "cell_type": "markdown",
   "metadata": {},
   "source": [
    "* La siguiente celda acccederá al repositorio ```origin/master```."
   ]
  },
  {
   "cell_type": "code",
   "execution_count": null,
   "metadata": {},
   "outputs": [],
   "source": [
    "git checkout origin/master"
   ]
  },
  {
   "cell_type": "code",
   "execution_count": null,
   "metadata": {},
   "outputs": [],
   "source": [
    "ls"
   ]
  },
  {
   "cell_type": "markdown",
   "metadata": {},
   "source": [
    "* La siguiente celda regresará al repositorio ```master```. "
   ]
  },
  {
   "cell_type": "code",
   "execution_count": null,
   "metadata": {},
   "outputs": [],
   "source": [
    "git checkout master"
   ]
  },
  {
   "cell_type": "code",
   "execution_count": null,
   "metadata": {},
   "outputs": [],
   "source": [
    "touch archivo-localizado"
   ]
  },
  {
   "cell_type": "code",
   "execution_count": null,
   "metadata": {},
   "outputs": [],
   "source": [
    "git add --all"
   ]
  },
  {
   "cell_type": "code",
   "execution_count": null,
   "metadata": {},
   "outputs": [],
   "source": [
    "git commit -m \"commit local\" "
   ]
  },
  {
   "cell_type": "markdown",
   "metadata": {},
   "source": [
    "* La siguiente celda desplegará las diferencias entre las ramas ```origin/master``` y ```master```."
   ]
  },
  {
   "cell_type": "code",
   "execution_count": null,
   "metadata": {},
   "outputs": [],
   "source": [
    "git diff origin/master master"
   ]
  },
  {
   "cell_type": "code",
   "execution_count": null,
   "metadata": {},
   "outputs": [],
   "source": [
    "git status"
   ]
  },
  {
   "cell_type": "markdown",
   "metadata": {},
   "source": [
    "## Actualización de un repositorio local con respecto a un repositorio remoto.\n",
    "\n",
    "Es posible traer las actualizaciones de un repositorio remoto mediante dos comandos.\n",
    "\n",
    "* ```git fetch```\n",
    "* ```git pull```"
   ]
  },
  {
   "cell_type": "markdown",
   "metadata": {},
   "source": [
    "### El comando ```git fetch```.\n",
    "\n",
    "Este comando actualiza los cambios del repositorio remoto. \n",
    "\n",
    "``` bash\n",
    "git fetch <remoto>.<rama>\n",
    "```\n",
    "* Donde ```<remoto>``` corresponde al nombre del repositorio remoto. El valor por defecto es ```origin```.\n",
    "* * Donde ```<rama>``` corresponde a la etiqueta de la rama en el repositorio remoto. El valor por defecto es la rama actual del repositorio local.\n",
    "\n",
    "La documentación de referencia del comando ```git fetch``` está disponible en:\n",
    "\n",
    "https://git-scm.com/docs/git-fetch"
   ]
  },
  {
   "cell_type": "markdown",
   "metadata": {},
   "source": [
    "**Ejemplo:**"
   ]
  },
  {
   "cell_type": "markdown",
   "metadata": {},
   "source": [
    "* La siguiente celda ejecutará el comado ```git fetch``` para ```origin/naster```."
   ]
  },
  {
   "cell_type": "code",
   "execution_count": null,
   "metadata": {},
   "outputs": [],
   "source": [
    "git fetch"
   ]
  },
  {
   "cell_type": "code",
   "execution_count": null,
   "metadata": {
    "scrolled": true
   },
   "outputs": [],
   "source": [
    "git status"
   ]
  },
  {
   "cell_type": "code",
   "execution_count": null,
   "metadata": {},
   "outputs": [],
   "source": [
    "git diff master origin/master"
   ]
  },
  {
   "cell_type": "markdown",
   "metadata": {},
   "source": [
    "### El comando ```git pull```.\n",
    "\n",
    "Este comando es similar a ```git getch```, pero realiza un ```merge``` de forma automática. "
   ]
  },
  {
   "cell_type": "code",
   "execution_count": null,
   "metadata": {
    "scrolled": true
   },
   "outputs": [],
   "source": [
    "git pull"
   ]
  },
  {
   "cell_type": "code",
   "execution_count": null,
   "metadata": {},
   "outputs": [],
   "source": [
    "git commit -m \"nuevo remoto\""
   ]
  },
  {
   "cell_type": "code",
   "execution_count": null,
   "metadata": {},
   "outputs": [],
   "source": [
    "git status"
   ]
  },
  {
   "cell_type": "markdown",
   "metadata": {},
   "source": [
    "## El comando ```git push```.\n",
    "\n",
    "El comando ```git push``` permite enviar los cambios de una rama de un repositorio local a un repostiorio remoto.\n",
    "\n",
    "**Nota:** Es importante que el usuario tenga los permisos necesarios para realizar esta acción.\n",
    "\n",
    "``` bash\n",
    "git push <remoto> <rama>\n",
    "```\n",
    "\n",
    "Donde:\n",
    "* ```<remoto>``` es el nombre de un repositorio remoto.\n",
    "* ```<rama>``` es la rama que se quiere afectar en el repositorio remoto."
   ]
  },
  {
   "cell_type": "code",
   "execution_count": null,
   "metadata": {},
   "outputs": [],
   "source": [
    "git push origin master"
   ]
  },
  {
   "cell_type": "code",
   "execution_count": null,
   "metadata": {},
   "outputs": [],
   "source": [
    "pwd"
   ]
  },
  {
   "cell_type": "markdown",
   "metadata": {},
   "source": [
    "## El servicio *GitHub*.\n",
    "\n",
    "[*Github*](https://github.com/) Es un sitio que ofrece múltiples servicios para desarrolladores de software tales como:\n",
    "\n",
    "* Repositorios remotos de *Git* públicos y privados.\n",
    "* Wikis.\n",
    "* Gists.\n",
    "* Gestión de proyectos.\n",
    "* Automatización de creación de artefactos.\n",
    "* Herramientas de DevOps.\n",
    "* Servicios de nivel \"Enterprise\"."
   ]
  },
  {
   "cell_type": "markdown",
   "metadata": {},
   "source": [
    "### Forks.\n",
    "\n",
    "*Github* permite realizar copias del repositorio de un usuario al repositorio de otro usuario."
   ]
  },
  {
   "cell_type": "markdown",
   "metadata": {},
   "source": [
    "### Pull requests.\n",
    "\n",
    "A partir de los *forks* es posible colaborar con un proyecto clonado (fork), mediante *Pull Requests*, en las que un usuario permite compartir y discutir los cambios ehchos en su repositorio clonado a otro usuario para que incluya dichos cambios a su propio repositorio."
   ]
  },
  {
   "cell_type": "markdown",
   "metadata": {},
   "source": [
    "<p style=\"text-align: center\"><a rel=\"license\" href=\"http://creativecommons.org/licenses/by/4.0/\"><img alt=\"Licencia Creative Commons\" style=\"border-width:0\" src=\"https://i.creativecommons.org/l/by/4.0/80x15.png\" /></a><br />Esta obra está bajo una <a rel=\"license\" href=\"http://creativecommons.org/licenses/by/4.0/\">Licencia Creative Commons Atribución 4.0 Internacional</a>.</p>\n",
    "<p style=\"text-align: center\">&copy; José Luis Chiquete Valdivieso. 2019.</p>"
   ]
  }
 ],
 "metadata": {
  "kernelspec": {
   "display_name": "Bash",
   "language": "bash",
   "name": "bash"
  },
  "language_info": {
   "codemirror_mode": "shell",
   "file_extension": ".sh",
   "mimetype": "text/x-sh",
   "name": "bash"
  }
 },
 "nbformat": 4,
 "nbformat_minor": 2
}
