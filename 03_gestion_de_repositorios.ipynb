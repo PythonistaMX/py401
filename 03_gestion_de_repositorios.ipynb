{
 "cells": [
  {
   "cell_type": "markdown",
   "metadata": {},
   "source": [
    "<a href=\"https://pythonista.io\"> <img src=\"img/pythonista.png\" width=\"100px\"></a>"
   ]
  },
  {
   "cell_type": "markdown",
   "metadata": {},
   "source": [
    "# Gestión de repositorios."
   ]
  },
  {
   "cell_type": "markdown",
   "metadata": {},
   "source": [
    "## Estructura de un repositorio de *Git*.\n",
    "\n",
    "Un repositorio de *Git* es un directorio el cual a su vez contiene un subdirectorio ```.git``` con una estructura similar a la siguiente:\n",
    "``` bash\n",
    ".git\n",
    "├── config\n",
    "├── description\n",
    "├── FETCH_HEAD\n",
    "├── HEAD\n",
    "├── hooks\n",
    "├── index\n",
    "├── info\n",
    "├── logs\n",
    "│   ├── HEAD\n",
    "│   └── refs\n",
    "├── objects\n",
    "│   ├── info\n",
    "│   └── pack\n",
    "├── ORIG_HEAD\n",
    "└── refs\n",
    "    ├── heads\n",
    "    ├── remotes\n",
    "    └── tags\n",
    "```"
   ]
  },
  {
   "cell_type": "markdown",
   "metadata": {},
   "source": [
    "## Incialización de un repositorio.\n",
    "\n",
    "El comando ```git init``` permite crear la estructura básica de un subdirectorio ```.git``` en un directorio dado mediante la siguiente sintaxis:\n",
    "\n",
    "\n",
    "``` bash\n",
    "git init <ruta>\n",
    "```\n",
    "\n",
    "Donde:\n",
    "\n",
    "* ```<ruta>``` es la ruta del directorio a inicializar. Si no se indica la ruta, el comando creará el directorio ```.git``` en el directorio desde el cual se ejecuta el comando.\n",
    "\n",
    "Para mayor información sobre ```git init``` es posible consultar la siguiente liga: \n",
    "\n",
    "https://git-scm.com/docs/git-init"
   ]
  },
  {
   "cell_type": "markdown",
   "metadata": {},
   "source": [
    "**Ejemplo:**"
   ]
  },
  {
   "cell_type": "markdown",
   "metadata": {},
   "source": [
    "* La siguiente celda creará el directorio ```demo```."
   ]
  },
  {
   "cell_type": "code",
   "execution_count": 1,
   "metadata": {},
   "outputs": [],
   "source": [
    "mkdir demo"
   ]
  },
  {
   "cell_type": "markdown",
   "metadata": {},
   "source": [
    "* La siguiente celda inicializará al directorio ```demo```como un repositorio de *Git*."
   ]
  },
  {
   "cell_type": "code",
   "execution_count": 2,
   "metadata": {},
   "outputs": [
    {
     "name": "stdout",
     "output_type": "stream",
     "text": [
      "Initialized empty Git repository in /opt/oi/py401/demo/.git/\n"
     ]
    }
   ],
   "source": [
    "git init demo"
   ]
  },
  {
   "cell_type": "markdown",
   "metadata": {},
   "source": [
    "* La siguiente celda ejecutará el comando ```tree``` para el subdirectorio ```demo/.git```, mostrando su estructura. "
   ]
  },
  {
   "cell_type": "code",
   "execution_count": 3,
   "metadata": {
    "scrolled": true
   },
   "outputs": [
    {
     "name": "stdout",
     "output_type": "stream",
     "text": [
      "demo/.git\n",
      "├── branches\n",
      "├── config\n",
      "├── description\n",
      "├── HEAD\n",
      "├── hooks\n",
      "│   ├── applypatch-msg.sample\n",
      "│   ├── commit-msg.sample\n",
      "│   ├── fsmonitor-watchman.sample\n",
      "│   ├── post-update.sample\n",
      "│   ├── pre-applypatch.sample\n",
      "│   ├── pre-commit.sample\n",
      "│   ├── prepare-commit-msg.sample\n",
      "│   ├── pre-push.sample\n",
      "│   ├── pre-rebase.sample\n",
      "│   ├── pre-receive.sample\n",
      "│   └── update.sample\n",
      "├── info\n",
      "│   └── exclude\n",
      "├── objects\n",
      "│   ├── info\n",
      "│   └── pack\n",
      "└── refs\n",
      "    ├── heads\n",
      "    └── tags\n",
      "\n",
      "9 directories, 15 files\n"
     ]
    }
   ],
   "source": [
    "tree demo/.git"
   ]
  },
  {
   "cell_type": "markdown",
   "metadata": {},
   "source": [
    "## Estado de un repositorio.\n",
    "\n",
    "El estado de un respositorio corresponde al estado de todos los archivos a los que *Git* está dando seguimiento dentro de dicho repositorio.\n",
    "\n",
    "La característica principal de un gestor de versiones es la de poder conservar un registro detallado del estado de un repositorio en un momento específico.\n",
    "\n",
    "### Los \"commits\".\n",
    "\n",
    "Guardar el estado de un repositorio de forma continua como si se tratara de una película resulta ser poco eficiente y costoso en recursos de almacenamiento. Es por ello que los gestores de verisones como *Git* han optado por conservar el estado de un repositorio sólo cuando el usuario decide asentarlos. A dicha accion se le conoce como hacer un \"commit\".\n",
    "\n",
    "Los \"commits\" son la base del control de versiones."
   ]
  },
  {
   "cell_type": "markdown",
   "metadata": {},
   "source": [
    "### Despliegue del estado de un repositorio.\n",
    "\n",
    "El comando ```git status``` permite conocer el estado de un repositorio mediante la siguiente sintaxis:\n",
    "\n",
    "``` bash\n",
    "git status <ruta>\n",
    "```\n",
    "\n",
    "Donde:\n",
    "\n",
    "* ```<ruta>``` es la ruta del directorio a consultar. Si no se indica la ruta, el comando consultará el estado del  directorio desde el cual se ejecuta el comando.\n",
    "\n",
    "En caso de que la ruta no corresponda a un directorio que contenga una estructura de directorio ```.git``` adecuada, se generará unmensaje de error.\n",
    "\n",
    "Para mayor información sobre ```git status``` es posible consultar la siguiente liga: \n",
    "\n",
    "https://git-scm.com/docs/git-status"
   ]
  },
  {
   "cell_type": "markdown",
   "metadata": {},
   "source": [
    "**Ejemplos:**"
   ]
  },
  {
   "cell_type": "markdown",
   "metadata": {},
   "source": [
    "* La siguiente celda mostrará el estado del directorio ```demo```."
   ]
  },
  {
   "cell_type": "code",
   "execution_count": 4,
   "metadata": {},
   "outputs": [
    {
     "name": "stdout",
     "output_type": "stream",
     "text": [
      "On branch master\n",
      "Your branch is up to date with 'origin/master'.\n",
      "\n",
      "nothing to commit, working tree clean\n"
     ]
    }
   ],
   "source": [
    "git status demo"
   ]
  },
  {
   "cell_type": "markdown",
   "metadata": {},
   "source": [
    "* La siguiente celda mostrará el estado del directorio en el que se encuentra esta notebook."
   ]
  },
  {
   "cell_type": "code",
   "execution_count": 5,
   "metadata": {},
   "outputs": [
    {
     "name": "stdout",
     "output_type": "stream",
     "text": [
      "On branch master\n",
      "Your branch is up to date with 'origin/master'.\n",
      "\n",
      "nothing to commit, working tree clean\n"
     ]
    }
   ],
   "source": [
    "git status"
   ]
  },
  {
   "cell_type": "markdown",
   "metadata": {},
   "source": [
    "## Rastreo de los archivos dentro de un repositorio.\n",
    "\n",
    "*Git* tiene la capacidad de dar seguimiento a los cambios de cada archivo dentro del repositorio, identificando a cada uno de ellos como un objeto.\n",
    "\n",
    "Para que *Git* pueda dar seguimiento a un objeto, es necesario darlo de alta en su índice. Una vez que un archivo es dado de alta, *Git* puede evaluar si dicho archivo ha sido modificado."
   ]
  },
  {
   "cell_type": "markdown",
   "metadata": {},
   "source": [
    "### Área de preparación (staging area).\n",
    "\n",
    "*Git* permite definir puntualmente aquellos archivos cuyos cambios serán asentados en un commit. \n",
    "\n",
    "El área de preparación (staging area) permite al usuario registrar aquellos cambios que serán incluidos en el commit."
   ]
  },
  {
   "cell_type": "markdown",
   "metadata": {},
   "source": [
    "### Estado de un archivo.\n",
    "\n",
    "* **Sin seguimiento** (untracked), lo que implica que el archivo no está en el índice del repositorio y por lo tanto sus cambios no serán rastreados por *Git*.\n",
    "* **En seguimiento** (tracked) lo que implica que el archivo está en el índice del repositorio.\n",
    "    * **Modificado** (modified) lo que implica que un archivo ha sido modificado, eliminado o ha cambiado de nombre.\n",
    "    * **No modificado** (modified).\n",
    "    \n",
    "El comando ```git status``` da un resumen de:\n",
    "* Aquellos archivos creados después del último commit y que no tienen seguimiento.\n",
    "* Aquellos archovos que están en seguimiento y que fueron modificados después del último commit. "
   ]
  },
  {
   "cell_type": "markdown",
   "metadata": {},
   "source": [
    "### Seguimiento y rastreo de archivos.\n",
    "\n",
    "El comando```git add``` es el  encargado tanto de dar seguimiento a un archivo como de rastrear y registrar los cambios en el área de preparación. Su sintaxis es la siguiente:\n",
    "\n",
    "\n",
    "```\n",
    "git add <patrón o ruta> <opciones>\n",
    "```\n",
    "Donde:\n",
    "\n",
    "* ```<patrón o ruta>``` puede ser la ruta a un archivo o directorio específico o un patrón que identifique a más de un archivo.\n",
    "* ```<opciones>``` este comando cuenta con varias opciones útiles.\n",
    "\n",
    "En caso de que el archivo no haya estado en seguimiento, este y su contenido serán indexados. En caso de que el archivo ya se encuentre en seguimiento, se actualizará el registro de sus modificaciones.\n",
    "\n",
    "https://git-scm.com/docs/git-add"
   ]
  },
  {
   "cell_type": "markdown",
   "metadata": {},
   "source": [
    "#### La opción ```--all```.\n",
    "\n",
    "Esta opción aplicará la ejecuciónde ```git add`` a todos los archivos del repositorio."
   ]
  },
  {
   "cell_type": "markdown",
   "metadata": {},
   "source": [
    "**Ejemplo:**"
   ]
  },
  {
   "cell_type": "markdown",
   "metadata": {},
   "source": [
    "* La siguiente celda moverá el shell al directorio ```demo```."
   ]
  },
  {
   "cell_type": "code",
   "execution_count": 6,
   "metadata": {},
   "outputs": [],
   "source": [
    "cd demo"
   ]
  },
  {
   "cell_type": "markdown",
   "metadata": {},
   "source": [
    "* La siguiente celda creará a los archivos ```archivo-1```, ```archivo-2``` y ```archivo-3```."
   ]
  },
  {
   "cell_type": "code",
   "execution_count": 7,
   "metadata": {},
   "outputs": [],
   "source": [
    "touch archivo-1 archivo-2 archivo-3"
   ]
  },
  {
   "cell_type": "code",
   "execution_count": 8,
   "metadata": {},
   "outputs": [
    {
     "name": "stdout",
     "output_type": "stream",
     "text": [
      ".  ..  archivo-1  archivo-2  archivo-3  .git\n"
     ]
    }
   ],
   "source": [
    "ls -a"
   ]
  },
  {
   "cell_type": "markdown",
   "metadata": {},
   "source": [
    "* En este momento los archivos reci;ehn creados no están en seguimiento."
   ]
  },
  {
   "cell_type": "code",
   "execution_count": 9,
   "metadata": {},
   "outputs": [
    {
     "name": "stdout",
     "output_type": "stream",
     "text": [
      "On branch master\n",
      "\n",
      "No commits yet\n",
      "\n",
      "Untracked files:\n",
      "  (use \"git add <file>...\" to include in what will be committed)\n",
      "\n",
      "\tarchivo-1\n",
      "\tarchivo-2\n",
      "\tarchivo-3\n",
      "\n",
      "nothing added to commit but untracked files present (use \"git add\" to track)\n"
     ]
    }
   ],
   "source": [
    "git status"
   ]
  },
  {
   "cell_type": "markdown",
   "metadata": {},
   "source": [
    "* La siguiente celda indexará a ```archivo-1``` y lo registrará en el área de preparación."
   ]
  },
  {
   "cell_type": "code",
   "execution_count": 10,
   "metadata": {},
   "outputs": [],
   "source": [
    "git add archivo-1"
   ]
  },
  {
   "cell_type": "code",
   "execution_count": 11,
   "metadata": {},
   "outputs": [
    {
     "name": "stdout",
     "output_type": "stream",
     "text": [
      "On branch master\n",
      "\n",
      "No commits yet\n",
      "\n",
      "Changes to be committed:\n",
      "  (use \"git rm --cached <file>...\" to unstage)\n",
      "\n",
      "\tnew file:   archivo-1\n",
      "\n",
      "Untracked files:\n",
      "  (use \"git add <file>...\" to include in what will be committed)\n",
      "\n",
      "\tarchivo-2\n",
      "\tarchivo-3\n",
      "\n"
     ]
    }
   ],
   "source": [
    "git status"
   ]
  },
  {
   "cell_type": "markdown",
   "metadata": {},
   "source": [
    "* La siguiente celda indexará al resto de los archivos en el repositorio y los registrará en el área de preparación."
   ]
  },
  {
   "cell_type": "code",
   "execution_count": 12,
   "metadata": {},
   "outputs": [],
   "source": [
    "git add --all"
   ]
  },
  {
   "cell_type": "code",
   "execution_count": 13,
   "metadata": {},
   "outputs": [
    {
     "name": "stdout",
     "output_type": "stream",
     "text": [
      "On branch master\n",
      "\n",
      "No commits yet\n",
      "\n",
      "Changes to be committed:\n",
      "  (use \"git rm --cached <file>...\" to unstage)\n",
      "\n",
      "\tnew file:   archivo-1\n",
      "\tnew file:   archivo-2\n",
      "\tnew file:   archivo-3\n",
      "\n"
     ]
    }
   ],
   "source": [
    "git status"
   ]
  },
  {
   "cell_type": "markdown",
   "metadata": {},
   "source": [
    "## Listado de objetos en el índice del repositorio.\n",
    "\n",
    "Para saber cuáles son los objetoss indexados en un repositorio se utiliza el comando ```git ls-files``` con la siguiente sintaxis:\n",
    "\n",
    "``` bash\n",
    "git ls-files\n",
    "```\n",
    "\n",
    "La documentación de referencia de ```git ls-files``` está disponible en:\n",
    "\n",
    "https://git-scm.com/docs/git-ls-files"
   ]
  },
  {
   "cell_type": "markdown",
   "metadata": {},
   "source": [
    "**Ejemplo:**"
   ]
  },
  {
   "cell_type": "markdown",
   "metadata": {},
   "source": [
    "La siguiente celda desplegará el listado de archivos indexados del repositorio."
   ]
  },
  {
   "cell_type": "code",
   "execution_count": 14,
   "metadata": {
    "scrolled": true
   },
   "outputs": [
    {
     "name": "stdout",
     "output_type": "stream",
     "text": [
      "archivo-1\n",
      "archivo-2\n",
      "archivo-3\n"
     ]
    }
   ],
   "source": [
    "git ls-files"
   ]
  },
  {
   "cell_type": "markdown",
   "metadata": {},
   "source": [
    "## El archivo ```.gitignore```.\n",
    "\n",
    "Es común que un desarrollador quiera evitar indexar en el repositorio archivos tales como:\n",
    "\n",
    "* Archivos temporales.\n",
    "* Credenciales y contraseñas.\n",
    "* Bibliotecas que resulten redundantes.\n",
    "* Datos de prueba.\n",
    "\n",
    "*Git* permite definir una \"lista negra\" de archivos que serán ignorados por los comandos de ```git``` de forma automática. Esta lista negra se define mediante un archivo de texto llamado ```.gitignore```, el cual va en el directorio principal del repositorio.\n",
    "\n",
    "Este archivo contiene un listado en forma de columma ya sea de los nombres de los archivos o del patrón correspondiente a ciertos archivos que deberán ser ignorados.\n",
    "\n",
    "\n",
    "La documentación de referencia de ```.gitignore``` está disponible en:\n",
    "\n",
    "https://git-scm.com/docs/gitignore"
   ]
  },
  {
   "cell_type": "markdown",
   "metadata": {},
   "source": [
    "**Ejemplo:**"
   ]
  },
  {
   "cell_type": "markdown",
   "metadata": {},
   "source": [
    "* La siguiente celda creará al archivo ```.gitignore``` listando al nombre ```invisible```."
   ]
  },
  {
   "cell_type": "code",
   "execution_count": 15,
   "metadata": {},
   "outputs": [],
   "source": [
    "echo \"invisible\" > .gitignore"
   ]
  },
  {
   "cell_type": "code",
   "execution_count": 16,
   "metadata": {},
   "outputs": [
    {
     "name": "stdout",
     "output_type": "stream",
     "text": [
      "invisible\n"
     ]
    }
   ],
   "source": [
    "cat .gitignore"
   ]
  },
  {
   "cell_type": "markdown",
   "metadata": {},
   "source": [
    "* La siguiente celda creará al archivo ```invisible```."
   ]
  },
  {
   "cell_type": "code",
   "execution_count": 17,
   "metadata": {},
   "outputs": [],
   "source": [
    "touch invisible"
   ]
  },
  {
   "cell_type": "markdown",
   "metadata": {},
   "source": [
    "* El repositorio tiene los archivos.\n",
    "    * ```archivo-1```\n",
    "    * ```archivo-2``` \n",
    "    * ```archivo-3```\n",
    "    * ```.gitignore``` \n",
    "    * ```invisible```"
   ]
  },
  {
   "cell_type": "code",
   "execution_count": 18,
   "metadata": {
    "scrolled": true
   },
   "outputs": [
    {
     "name": "stdout",
     "output_type": "stream",
     "text": [
      ".  ..  archivo-1  archivo-2  archivo-3  .git  .gitignore  invisible\n"
     ]
    }
   ],
   "source": [
    "ls -a"
   ]
  },
  {
   "cell_type": "markdown",
   "metadata": {},
   "source": [
    "* El comando ```git status``` identificará al archivo ```.gitignore```, pero no a ```invisible```."
   ]
  },
  {
   "cell_type": "code",
   "execution_count": 19,
   "metadata": {},
   "outputs": [
    {
     "name": "stdout",
     "output_type": "stream",
     "text": [
      "On branch master\n",
      "\n",
      "No commits yet\n",
      "\n",
      "Changes to be committed:\n",
      "  (use \"git rm --cached <file>...\" to unstage)\n",
      "\n",
      "\tnew file:   archivo-1\n",
      "\tnew file:   archivo-2\n",
      "\tnew file:   archivo-3\n",
      "\n",
      "Untracked files:\n",
      "  (use \"git add <file>...\" to include in what will be committed)\n",
      "\n",
      "\t.gitignore\n",
      "\n"
     ]
    }
   ],
   "source": [
    "git status"
   ]
  },
  {
   "cell_type": "markdown",
   "metadata": {},
   "source": [
    "* Lo mismo ocurre con ```git add```."
   ]
  },
  {
   "cell_type": "code",
   "execution_count": 20,
   "metadata": {},
   "outputs": [],
   "source": [
    "git add --all"
   ]
  },
  {
   "cell_type": "code",
   "execution_count": 21,
   "metadata": {
    "scrolled": true
   },
   "outputs": [
    {
     "name": "stdout",
     "output_type": "stream",
     "text": [
      "On branch master\n",
      "\n",
      "No commits yet\n",
      "\n",
      "Changes to be committed:\n",
      "  (use \"git rm --cached <file>...\" to unstage)\n",
      "\n",
      "\tnew file:   .gitignore\n",
      "\tnew file:   archivo-1\n",
      "\tnew file:   archivo-2\n",
      "\tnew file:   archivo-3\n",
      "\n"
     ]
    }
   ],
   "source": [
    "git status"
   ]
  },
  {
   "cell_type": "markdown",
   "metadata": {},
   "source": [
    "## Confirmando los cambios en un repositorio (\"commit\").\n",
    "\n",
    "Una vez que el usuario realiza todas las operaciones necesarias en el área de preparación (staging area) está listo para hacer un commit.\n",
    "\n",
    "**Nota:** Para poder realizar un commit es necesario que el usuario defina al menos los campos ```user.name```y ```user.email``` en la configuración del ámbito ```--global```."
   ]
  },
  {
   "cell_type": "markdown",
   "metadata": {},
   "source": [
    "### Flujo de un commit.\n",
    "\n",
    "* Cada objeto en el área de preparación es evaluado. \n",
    "    * En caso de que sea un nuevo objeto, este será incluído en el estado del nuevo commit. \n",
    "    * En caso de que el objeto ya esté regostrasdo en un commit previo y haya sido modificado, se enumerarán y registrarán las modificaciones con respecto a la versión previa.\n",
    "    * Todos los cambios serán registrados.\n",
    "    * Se registrarán los cambios en el estado del repostorio, así como el momento exacto del commit. \n",
    "    * Al commit se le asignará un identificador único que corresponde a un número hexadecimal.\n",
    "    * Se vaciará el área de preparación.\n",
    "    * Se desplegará un resumen del commit."
   ]
  },
  {
   "cell_type": "markdown",
   "metadata": {},
   "source": [
    "### El comando ```git commit```.\n",
    "\n",
    "El comando ```git commit``` es el encargado de confirmar los cambios en el repositorio. Cada commit requiere que se haga un comentario descriptivo de las modificaciones.\n",
    "\n",
    "La sintaxis es:\n",
    "\n",
    "``` bash\n",
    "git commit <opciones> <archivos>\n",
    "```\n",
    "\n",
    "Donde:\n",
    "\n",
    "* ```<archivos>``` permite definir un listado de archivos que serán tomados en commit de forma similar a ```git add```.\n",
    "* ```<opciones>``` las cuales definen diversas acciones para el commit.\n",
    "\n",
    "En caso de que se ejecute el comando ```git commit``` sin definir archivos u opciones, se abrirá un editor de textos (*vim*) en el cual se deberá de escribir un mensaje descriptivo del commit y una vez guardado, se realizará el commit tomando en cuanta todos los objetos definidos en el área de preparación.\n",
    "\n",
    "La documentación de referencia de ```git commit``` está disponible en:\n",
    "\n",
    "https://git-scm.com/docs/git-commit\n",
    "\n",
    "\n",
    "**Nota:** En caso de que no existan cambios en los objetos del área de preparacion, no se hará el commit."
   ]
  },
  {
   "cell_type": "markdown",
   "metadata": {},
   "source": [
    "#### La opción ```--all``` o ```-a```. \n",
    "\n",
    "Esta opción busca y registra cambios en todos los objetos indexados del repositorio y los guarda en el área de preparación antes de hacer el commit. La opción ```-a``` no tomará en cuenta a archivos recién creados y que no hayan sido indexados.\n",
    "\n",
    "La sintaxis puede ser:\n",
    "\n",
    "``` bash\n",
    "git commit -a\n",
    "```\n",
    "o\n",
    "``` bash\n",
    "git commit --all\n",
    "```"
   ]
  },
  {
   "cell_type": "markdown",
   "metadata": {},
   "source": [
    "#### La opción ```--message``` o ```-m``` .\n",
    "\n",
    "Esta opción permite añadir un mensaje descriptivo y evita que se abra el editor de texto.\n",
    "\n",
    "La sintaxis puede ser:\n",
    "\n",
    "```\n",
    "git commit -m <mensaje>\n",
    "```\n",
    "o\n",
    "```\n",
    "git commit --message=<mensaje>\n",
    "```\n",
    "\n",
    "Donde:\n",
    "\n",
    "* ```<mensaje>``` es una cadena de caracteres que en caso de incliur espacios,d ebe de estar encerrada entre comillas."
   ]
  },
  {
   "cell_type": "markdown",
   "metadata": {},
   "source": [
    "**Ejemplo:**"
   ]
  },
  {
   "cell_type": "markdown",
   "metadata": {},
   "source": [
    "La siguiente celda realizará un commit del repositorio actual añadiendo el mensaje descriptivo ```\"primer commit ```."
   ]
  },
  {
   "cell_type": "code",
   "execution_count": 22,
   "metadata": {},
   "outputs": [
    {
     "name": "stdout",
     "output_type": "stream",
     "text": [
      "[master (root-commit) 3c76e61] primer commit\n",
      " 4 files changed, 1 insertion(+)\n",
      " create mode 100644 .gitignore\n",
      " create mode 100644 archivo-1\n",
      " create mode 100644 archivo-2\n",
      " create mode 100644 archivo-3\n"
     ]
    }
   ],
   "source": [
    "git commit -m \"primer commit\""
   ]
  },
  {
   "cell_type": "code",
   "execution_count": 23,
   "metadata": {
    "scrolled": true
   },
   "outputs": [
    {
     "name": "stdout",
     "output_type": "stream",
     "text": [
      "On branch master\n",
      "nothing to commit, working tree clean\n"
     ]
    }
   ],
   "source": [
    "git status"
   ]
  },
  {
   "cell_type": "markdown",
   "metadata": {},
   "source": [
    "### Estructura del mensaje del commit.\n",
    "\n",
    "Una vez hecho el commit, *Git* regesa un mensaje como el siguiente:\n",
    "\n",
    "````bash\n",
    "[master (root-commit) 3c76e61] primer commit\n",
    " 4 files changed, 1 insertion(+)\n",
    " create mode 100644 .gitignore\n",
    " create mode 100644 archivo-1\n",
    " create mode 100644 archivo-2\n",
    " create mode 100644 archivo-3\n",
    "```\n",
    "\n",
    "Este mensaje se compone de:\n",
    "* Un encabezado que describe al commit.\n",
    "* Un listado de las adiciones o modificaciones de los objetos en el espacio de preparación."
   ]
  },
  {
   "cell_type": "markdown",
   "metadata": {},
   "source": [
    "#### El encabezado de un mensaje de commit.\n",
    "\n",
    "El encabezado del mensaje de commit tiene una estructura como la siguiente:\n",
    "\n",
    "``` bash\n",
    "[<rama> (<tipo de commit>) <identificador corto>] <mensaje>\n",
    "```\n",
    "\n",
    "Donde:\n",
    "\n",
    "* ```<rama>``` es la rama del repositorio en la que se realzia el commit. La rama que se crra pord efecto en un repositorio es ```master```.\n",
    "* ```<tipo de commit>``` este dato es opcional y cuando se realiza el primer commti de un repoitorio despliega el mensaje ```root-commit````.\n",
    "* ```<identificador corto>```, el cual es un número hexadecimal de 7 dígitos que corresponde a los primeros 7 dígitos del número identificador completo del commit."
   ]
  },
  {
   "cell_type": "markdown",
   "metadata": {},
   "source": [
    "## Eliminacion de un objeto.\n",
    "\n",
    "El comando ```git rm``` se utiliza para eliminar a un objeto tanto del repositorio como de su índice.\n",
    "\n",
    "``` bash\n",
    "git rm <archivo> <opciones>\n",
    "```"
   ]
  },
  {
   "cell_type": "markdown",
   "metadata": {},
   "source": [
    "**Ejemplo:**"
   ]
  },
  {
   "cell_type": "markdown",
   "metadata": {},
   "source": [
    "* El archivo ```archivo-3``` existe tanto en el respositorio como en el índice."
   ]
  },
  {
   "cell_type": "code",
   "execution_count": 24,
   "metadata": {},
   "outputs": [
    {
     "name": "stdout",
     "output_type": "stream",
     "text": [
      ".  ..  archivo-1  archivo-2  archivo-3  .git  .gitignore  invisible\n"
     ]
    }
   ],
   "source": [
    "ls -a"
   ]
  },
  {
   "cell_type": "code",
   "execution_count": 25,
   "metadata": {},
   "outputs": [
    {
     "name": "stdout",
     "output_type": "stream",
     "text": [
      ".gitignore\n",
      "archivo-1\n",
      "archivo-2\n",
      "archivo-3\n"
     ]
    }
   ],
   "source": [
    "git ls-files"
   ]
  },
  {
   "cell_type": "markdown",
   "metadata": {},
   "source": [
    "* A continuación se utilizará el comando ```git rm``` para eliminar al archivo tanto del repositorio como de su índice."
   ]
  },
  {
   "cell_type": "code",
   "execution_count": 26,
   "metadata": {},
   "outputs": [
    {
     "name": "stdout",
     "output_type": "stream",
     "text": [
      "rm 'archivo-3'\n"
     ]
    }
   ],
   "source": [
    "git rm archivo-3"
   ]
  },
  {
   "cell_type": "code",
   "execution_count": 27,
   "metadata": {},
   "outputs": [
    {
     "name": "stdout",
     "output_type": "stream",
     "text": [
      ".  ..  archivo-1  archivo-2  .git  .gitignore  invisible\n"
     ]
    }
   ],
   "source": [
    "ls -a"
   ]
  },
  {
   "cell_type": "code",
   "execution_count": 28,
   "metadata": {},
   "outputs": [
    {
     "name": "stdout",
     "output_type": "stream",
     "text": [
      ".gitignore\n",
      "archivo-1\n",
      "archivo-2\n"
     ]
    }
   ],
   "source": [
    "git ls-files"
   ]
  },
  {
   "cell_type": "code",
   "execution_count": 29,
   "metadata": {},
   "outputs": [
    {
     "name": "stdout",
     "output_type": "stream",
     "text": [
      "On branch master\n",
      "Changes to be committed:\n",
      "  (use \"git reset HEAD <file>...\" to unstage)\n",
      "\n",
      "\tdeleted:    archivo-3\n",
      "\n"
     ]
    }
   ],
   "source": [
    "git status"
   ]
  },
  {
   "cell_type": "markdown",
   "metadata": {},
   "source": [
    "* Se hará un nuevo commit con la descripción ```segundo commit```."
   ]
  },
  {
   "cell_type": "code",
   "execution_count": 30,
   "metadata": {},
   "outputs": [
    {
     "name": "stdout",
     "output_type": "stream",
     "text": [
      "[master 971e1d8] segundo commit\n",
      " 1 file changed, 0 insertions(+), 0 deletions(-)\n",
      " delete mode 100644 archivo-3\n"
     ]
    }
   ],
   "source": [
    "git commit -m \"segundo commit\""
   ]
  },
  {
   "cell_type": "markdown",
   "metadata": {},
   "source": [
    "### La opciones ```--cached``` y ```-f```.\n",
    "\n",
    "Es posible que existan archivos registrados en el área de preparación y que deban de ser eliminados antes de realizar un commit.\n",
    "\n",
    "La opción ```--cached``` del comando ```git rm``` eliminará al objeto del índice, pero no al archivo en el repositorio.\n",
    "\n",
    "La opción ```-f``` del comando ```git rm``` eliminará al objeto del índice y al archivo en el repositorio."
   ]
  },
  {
   "cell_type": "markdown",
   "metadata": {},
   "source": [
    "**Ejemplo:**"
   ]
  },
  {
   "cell_type": "markdown",
   "metadata": {},
   "source": [
    "* Se creará al archivo ```archivo-4``` y se regsitrará en el área de preparación."
   ]
  },
  {
   "cell_type": "code",
   "execution_count": 31,
   "metadata": {},
   "outputs": [],
   "source": [
    "touch archivo-4"
   ]
  },
  {
   "cell_type": "code",
   "execution_count": 32,
   "metadata": {},
   "outputs": [],
   "source": [
    "git add archivo-4"
   ]
  },
  {
   "cell_type": "code",
   "execution_count": 33,
   "metadata": {},
   "outputs": [
    {
     "name": "stdout",
     "output_type": "stream",
     "text": [
      "On branch master\n",
      "Changes to be committed:\n",
      "  (use \"git reset HEAD <file>...\" to unstage)\n",
      "\n",
      "\tnew file:   archivo-4\n",
      "\n"
     ]
    }
   ],
   "source": [
    "git status"
   ]
  },
  {
   "cell_type": "markdown",
   "metadata": {},
   "source": [
    "* Debido a que no se ha hecho un ```commit``` para ```archivo-4```, el comando ```git rm archivo-4``` no funcionará."
   ]
  },
  {
   "cell_type": "code",
   "execution_count": 34,
   "metadata": {
    "scrolled": true
   },
   "outputs": [
    {
     "name": "stdout",
     "output_type": "stream",
     "text": [
      "error: the following file has changes staged in the index:\n",
      "    archivo-4\n",
      "(use --cached to keep the file, or -f to force removal)\n"
     ]
    },
    {
     "ename": "",
     "evalue": "1",
     "output_type": "error",
     "traceback": []
    }
   ],
   "source": [
    "git rm archivo-4"
   ]
  },
  {
   "cell_type": "markdown",
   "metadata": {},
   "source": [
    "* Utilizando la opción ```--cached```, se eliminará al objeto del índice, pero se preservará en el directorio."
   ]
  },
  {
   "cell_type": "code",
   "execution_count": 35,
   "metadata": {},
   "outputs": [
    {
     "name": "stdout",
     "output_type": "stream",
     "text": [
      "rm 'archivo-4'\n"
     ]
    }
   ],
   "source": [
    "git rm archivo-4 --cached"
   ]
  },
  {
   "cell_type": "code",
   "execution_count": 36,
   "metadata": {},
   "outputs": [
    {
     "name": "stdout",
     "output_type": "stream",
     "text": [
      ".  ..  archivo-1  archivo-2  archivo-4  .git  .gitignore  invisible\n"
     ]
    }
   ],
   "source": [
    "ls -a"
   ]
  },
  {
   "cell_type": "code",
   "execution_count": 37,
   "metadata": {
    "scrolled": true
   },
   "outputs": [
    {
     "name": "stdout",
     "output_type": "stream",
     "text": [
      "On branch master\n",
      "Untracked files:\n",
      "  (use \"git add <file>...\" to include in what will be committed)\n",
      "\n",
      "\tarchivo-4\n",
      "\n",
      "nothing added to commit but untracked files present (use \"git add\" to track)\n"
     ]
    }
   ],
   "source": [
    "git status"
   ]
  },
  {
   "cell_type": "markdown",
   "metadata": {},
   "source": [
    "* Se hará un nuevo commit con la descripción ```tercer commit```. En este caso, como no hay cambios, el commit no se realizará."
   ]
  },
  {
   "cell_type": "code",
   "execution_count": 38,
   "metadata": {},
   "outputs": [
    {
     "name": "stdout",
     "output_type": "stream",
     "text": [
      "On branch master\n",
      "Untracked files:\n",
      "\tarchivo-4\n",
      "\n",
      "nothing added to commit but untracked files present\n"
     ]
    },
    {
     "ename": "",
     "evalue": "1",
     "output_type": "error",
     "traceback": []
    }
   ],
   "source": [
    "git commit -m \"tercer commit\""
   ]
  },
  {
   "cell_type": "markdown",
   "metadata": {},
   "source": [
    "Se enviará nuevamente al archivo ```archivo-4``` al área de preparación."
   ]
  },
  {
   "cell_type": "code",
   "execution_count": 39,
   "metadata": {},
   "outputs": [],
   "source": [
    "git add archivo-4"
   ]
  },
  {
   "cell_type": "code",
   "execution_count": 40,
   "metadata": {
    "scrolled": true
   },
   "outputs": [
    {
     "name": "stdout",
     "output_type": "stream",
     "text": [
      "On branch master\n",
      "Changes to be committed:\n",
      "  (use \"git reset HEAD <file>...\" to unstage)\n",
      "\n",
      "\tnew file:   archivo-4\n",
      "\n"
     ]
    }
   ],
   "source": [
    "git status"
   ]
  },
  {
   "cell_type": "markdown",
   "metadata": {},
   "source": [
    "* Ahora se eliminará al archivo y al objeto ```archivo-4```."
   ]
  },
  {
   "cell_type": "code",
   "execution_count": 41,
   "metadata": {},
   "outputs": [
    {
     "name": "stdout",
     "output_type": "stream",
     "text": [
      "rm 'archivo-4'\n"
     ]
    }
   ],
   "source": [
    "git rm archivo-4 -f"
   ]
  },
  {
   "cell_type": "code",
   "execution_count": 42,
   "metadata": {},
   "outputs": [
    {
     "name": "stdout",
     "output_type": "stream",
     "text": [
      ".  ..  archivo-1  archivo-2  .git  .gitignore  invisible\n"
     ]
    }
   ],
   "source": [
    "ls -a"
   ]
  },
  {
   "cell_type": "markdown",
   "metadata": {},
   "source": [
    "## Despliegue de la historia de un repositorio o un archivo.\n",
    "\n",
    "El comando ```git log``` permite desplegar la historia de un repositorio o de un archivo.\n",
    "\n",
    "La documentación de referencia de ```git log``` está disponible en:\n",
    "\n",
    "https://git-scm.com/docs/git-log"
   ]
  },
  {
   "cell_type": "markdown",
   "metadata": {},
   "source": [
    "### Despliegue de la historia de un repositorio.\n",
    "\n",
    "La sintaxis para desplegar la historia de un repositorio es la siguiente:\n",
    "\n",
    "``` bash\n",
    "git log\n",
    "```\n",
    "* Para un archivo se utiliza la siguiente sintaxis:\n",
    "\n",
    "``` bash\n",
    "git log <archivo>\n",
    "```\n",
    "\n",
    "El resutado es un listado de todos los commits empezando por el más reciente con los siguientes datos.\n",
    "\n",
    "* El número completo del identficador del commit y la rama del commit.\n",
    "* El nombre del autor según el campo ```user.name``` de la configuración.\n",
    "* La dirección de correo  del autor según el campo ```user.emal``` de la configuración."
   ]
  },
  {
   "cell_type": "markdown",
   "metadata": {},
   "source": [
    "**Ejemplo:**"
   ]
  },
  {
   "cell_type": "markdown",
   "metadata": {},
   "source": [
    "* La siguiente celda mostrará la historia de los commits realizados en el repositorio ```demo```."
   ]
  },
  {
   "cell_type": "code",
   "execution_count": 43,
   "metadata": {
    "scrolled": true
   },
   "outputs": [
    {
     "name": "stdout",
     "output_type": "stream",
     "text": [
      "commit 971e1d84b795979d615588dce6594195796badcc (HEAD -> master)\n",
      "Author: Jose Luis Chiquete <josech@gmail.com>\n",
      "Date:   Thu Nov 28 20:52:26 2019 -0600\n",
      "\n",
      "    segundo commit\n",
      "\n",
      "commit 3c76e61d504301d67e34baad5f5957dc3ebf2107\n",
      "Author: Jose Luis Chiquete <josech@gmail.com>\n",
      "Date:   Thu Nov 28 20:52:03 2019 -0600\n",
      "\n",
      "    primer commit\n"
     ]
    }
   ],
   "source": [
    "git log"
   ]
  },
  {
   "cell_type": "markdown",
   "metadata": {},
   "source": [
    "### Despliegue de la historia de un archivo.\n",
    "\n",
    "La sintaxis para desplegar la historia de un archivo es:\n",
    "\n",
    "``` bash\n",
    "git log <archivo>\n",
    "```\n",
    "\n",
    "El resutado es un listado de los commits en los que el archivo en cuestión fue modificado."
   ]
  },
  {
   "cell_type": "markdown",
   "metadata": {},
   "source": [
    "**Ejemplo:**"
   ]
  },
  {
   "cell_type": "markdown",
   "metadata": {},
   "source": [
    "* La siguiente celda mostrará la historia de los commits en los que se modificó el archivo ```archivo-1``` en el repositorio ```demo```."
   ]
  },
  {
   "cell_type": "code",
   "execution_count": 44,
   "metadata": {
    "scrolled": true
   },
   "outputs": [
    {
     "name": "stdout",
     "output_type": "stream",
     "text": [
      "commit 3c76e61d504301d67e34baad5f5957dc3ebf2107\n",
      "Author: Jose Luis Chiquete <josech@gmail.com>\n",
      "Date:   Thu Nov 28 20:52:03 2019 -0600\n",
      "\n",
      "    primer commit\n"
     ]
    }
   ],
   "source": [
    "git log archivo-1"
   ]
  },
  {
   "cell_type": "markdown",
   "metadata": {},
   "source": [
    "### La opción ```-oneline```.\n",
    "\n",
    "Esta opción permite desplegar un listado resumido en una sola línea con la siguiente estructura:\n",
    "\n",
    "\n",
    "``` bash\n",
    "<identificador corto> (HEAD -> <rama>) <mensaje>\n",
    "```\n",
    "\n",
    "Donde:\n",
    "\n",
    "* ```<rama>``` es la rama del repositorio en la que se realzia el commit. La rama que se crra pord efecto en un repositorio es ```master```.\n",
    "* ```<tipo de commit>``` este dato es opcional y cuando se realiza el primer commti de un repoitorio despliega el mensaje ```root-commit````.\n",
    "* ```<identificador corto>```, el cual es un número hexadecimal de 7 dígitos que corresponde a los primeros 7 dígitos del número identificador completo del commit"
   ]
  },
  {
   "cell_type": "markdown",
   "metadata": {},
   "source": [
    "**Ejemplos:**"
   ]
  },
  {
   "cell_type": "markdown",
   "metadata": {},
   "source": [
    "* La siguiente celda mostrará la historia de los commits realizados en el repositorio ```demo``` con una descripción corta."
   ]
  },
  {
   "cell_type": "code",
   "execution_count": 45,
   "metadata": {
    "scrolled": false
   },
   "outputs": [
    {
     "name": "stdout",
     "output_type": "stream",
     "text": [
      "971e1d8 (HEAD -> master) segundo commit\n",
      "3c76e61 primer commit\n"
     ]
    }
   ],
   "source": [
    "git log --oneline"
   ]
  },
  {
   "cell_type": "markdown",
   "metadata": {},
   "source": [
    "* La siguiente celda mostrará la historia de los commits en los que el archivo ```archivo-1``` del repositorio ```demo``` fue modificdo con una descripción corta."
   ]
  },
  {
   "cell_type": "code",
   "execution_count": null,
   "metadata": {},
   "outputs": [],
   "source": [
    "git log --oneline archivo-1"
   ]
  },
  {
   "cell_type": "markdown",
   "metadata": {},
   "source": [
    "## Comparación archivos entre commits.\n",
    "\n",
    "El comando ```git diff```permite realizar comparaciones entre:\n",
    "\n",
    "* Commits.\n",
    "* Archivos.\n",
    "* Ramas (se estudiará posteriormente).\n",
    "\n",
    "documentación de referencia de ```git diff```está disponible en:\n",
    "\n",
    "https://git-scm.com/docs/git-diff"
   ]
  },
  {
   "cell_type": "markdown",
   "metadata": {},
   "source": [
    "**Ejemplo:**"
   ]
  },
  {
   "cell_type": "code",
   "execution_count": null,
   "metadata": {},
   "outputs": [],
   "source": [
    "echo Hola > archivo-1"
   ]
  },
  {
   "cell_type": "code",
   "execution_count": null,
   "metadata": {
    "scrolled": true
   },
   "outputs": [],
   "source": [
    "git commit -am \"cuarto commit\""
   ]
  },
  {
   "cell_type": "markdown",
   "metadata": {},
   "source": [
    "\n",
    "\n",
    "```bash\n",
    "> git log --oneline\n",
    "\n",
    "a1c53ed (HEAD -> master) cuarto commit\n",
    "52c9f8c segundo commit\n",
    "e71f6f8 primer commit\n",
    "```"
   ]
  },
  {
   "cell_type": "code",
   "execution_count": null,
   "metadata": {},
   "outputs": [],
   "source": [
    "git log --oneline"
   ]
  },
  {
   "cell_type": "markdown",
   "metadata": {},
   "source": [
    "``` bash\n",
    "> git diff a1c53ed e71f6f8\n",
    "\n",
    "diff --git a/archivo-1 b/archivo-1\n",
    "index a19abfe..e69de29 100644\n",
    "--- a/archivo-1\n",
    "+++ b/archivo-1\n",
    "@@ -1 +0,0 @@\n",
    "-Hola\n",
    "diff --git a/archivo-3 b/archivo-3\n",
    "new file mode 100644\n",
    "index 0000000..e69de29\n",
    "```"
   ]
  },
  {
   "cell_type": "markdown",
   "metadata": {},
   "source": [
    "``` bash\n",
    "> git diff 2e819d5 9b87e9b4 archivo-1\n",
    "\n",
    "diff --git a/archivo-1 b/archivo-1\n",
    "index e69de29..a19abfe 100644\n",
    "--- a/archivo-1\n",
    "+++ b/archivo-1\n",
    "@@ -0,0 +1 @@\n",
    "+Hola\n",
    "```"
   ]
  },
  {
   "cell_type": "markdown",
   "metadata": {},
   "source": [
    "<p style=\"text-align: center\"><a rel=\"license\" href=\"http://creativecommons.org/licenses/by/4.0/\"><img alt=\"Licencia Creative Commons\" style=\"border-width:0\" src=\"https://i.creativecommons.org/l/by/4.0/80x15.png\" /></a><br />Esta obra está bajo una <a rel=\"license\" href=\"http://creativecommons.org/licenses/by/4.0/\">Licencia Creative Commons Atribución 4.0 Internacional</a>.</p>\n",
    "<p style=\"text-align: center\">&copy; José Luis Chiquete Valdivieso. 2019.</p>"
   ]
  }
 ],
 "metadata": {
  "kernelspec": {
   "display_name": "Bash",
   "language": "bash",
   "name": "bash"
  },
  "language_info": {
   "codemirror_mode": "shell",
   "file_extension": ".sh",
   "mimetype": "text/x-sh",
   "name": "bash"
  }
 },
 "nbformat": 4,
 "nbformat_minor": 2
}
