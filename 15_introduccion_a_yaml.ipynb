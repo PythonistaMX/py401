{
 "cells": [
  {
   "cell_type": "markdown",
   "metadata": {},
   "source": [
    "<a href=\"https://pythonista.io\"> <img src=\"img/pythonista.png\" width=\"100px\"></a>"
   ]
  },
  {
   "cell_type": "markdown",
   "metadata": {},
   "source": [
    "# Introducción a  *YAML*.\n",
    "\n",
    "[YAML](https://yaml.org/) es el acrónimo de \"Yet Another Markup Language\". Es un lenguaje derivado de *JSON* que es utilizado para la serialización de datos. \n",
    "\n",
    "*YAML*, al igual que *JSON* es utilizado para la serialización de estructuras de datos. Los documentos utilizando el formato de *YAML* tiene la ventaja de que que pueden ser procesados eficientemente por sistemas de cómputo y al mismo tiempo son muy legibles para los seres humanos.\n",
    "\n",
    "Algunas herramientas que consumen documentos en formato *YAML* son entre otros:\n",
    "\n",
    "* [Los archivos *compose*](https://docs.docker.com/compose/compose-file/) de *Docker Compose*.\n",
    "* [Los *Playbooks*](https://docs.ansible.com/ansible/latest/user_guide/playbooks_intro.html)  de *Ansible*.\n",
    "* Las definiciones de *Kubernetes*\n",
    "* Los *pipelines* de *Jenkins* en sutitución de *Groovy*.\n",
    "\n",
    "Para mayor referencia es posible consultar la siguiente liga:\n",
    "\n",
    "(https://docs.ansible.com/ansible/latest/reference_appendices/YAMLSyntax.html).\n",
    "\n"
   ]
  },
  {
   "cell_type": "markdown",
   "metadata": {},
   "source": [
    "## Sintaxis de *YAML*.\n",
    "\n",
    "El componente básico de una estructura de datos en *YAML* son:\n",
    "\n",
    "* Mapas.\n",
    "* Listas.\n",
    "\n",
    "A diferencia de *JSON* no se uitilizan las llaves ```{``` ```}``` para delimitar un bloque de datos, sino que de forma similar a *Python*, se utiliza la indentación.\n",
    "\n",
    "**NOTA:** *YAML* no acepta el uso de tabuladores para la indentación. Sólo se aceptan espacios."
   ]
  },
  {
   "cell_type": "code",
   "execution_count": 2,
   "metadata": {},
   "outputs": [],
   "source": [
    "### Mapas."
   ]
  },
  {
   "cell_type": "markdown",
   "metadata": {},
   "source": [
    "<p style=\"text-align: center\"><a rel=\"license\" href=\"http://creativecommons.org/licenses/by/4.0/\"><img alt=\"Licencia Creative Commons\" style=\"border-width:0\" src=\"https://i.creativecommons.org/l/by/4.0/80x15.png\" /></a><br />Esta obra está bajo una <a rel=\"license\" href=\"http://creativecommons.org/licenses/by/4.0/\">Licencia Creative Commons Atribución 4.0 Internacional</a>.</p>\n",
    "<p style=\"text-align: center\">&copy; José Luis Chiquete Valdivieso. 2019.</p>"
   ]
  }
 ],
 "metadata": {
  "kernelspec": {
   "display_name": "Bash",
   "language": "bash",
   "name": "bash"
  },
  "language_info": {
   "codemirror_mode": "shell",
   "file_extension": ".sh",
   "mimetype": "text/x-sh",
   "name": "bash"
  }
 },
 "nbformat": 4,
 "nbformat_minor": 2
}
